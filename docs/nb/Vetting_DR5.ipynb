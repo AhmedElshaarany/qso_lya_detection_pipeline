{
 "cells": [
  {
   "cell_type": "markdown",
   "metadata": {},
   "source": [
    "# Vetting the DR5"
   ]
  },
  {
   "cell_type": "markdown",
   "metadata": {},
   "source": [
    "## v6.1"
   ]
  },
  {
   "cell_type": "code",
   "execution_count": 7,
   "metadata": {
    "collapsed": true
   },
   "outputs": [],
   "source": [
    "def lya(z,zem=None):\n",
    "    wvobs = (1+z)*1215.67\n",
    "    print('wvobs = {:g}'.format(wvobs))\n",
    "    if zem is not None:\n",
    "        wvrest = wvobs/(1+zem)\n",
    "        print('wvrest = {:g}'.format(wvrest))\n",
    "    return wvobs"
   ]
  },
  {
   "cell_type": "markdown",
   "metadata": {},
   "source": [
    "## Examples"
   ]
  },
  {
   "cell_type": "markdown",
   "metadata": {},
   "source": [
    "### 493, 507\n",
    "\n",
    "    Double DLA\n",
    "    Missed the low z case"
   ]
  },
  {
   "cell_type": "code",
   "execution_count": 4,
   "metadata": {
    "collapsed": false
   },
   "outputs": [
    {
     "name": "stdout",
     "output_type": "stream",
     "text": [
      "wvobs = 3916.05\n",
      "wvrest = 1096.93\n"
     ]
    }
   ],
   "source": [
    "z=2.22131\n",
    "zem = 2.569999\n",
    "lya(z,zem)"
   ]
  },
  {
   "cell_type": "markdown",
   "metadata": {},
   "source": [
    "### 604, 535 -- High NHI\n",
    "    Some residual flux\n",
    "    And a skyline spike\n",
    "    But this one *should* be found"
   ]
  },
  {
   "cell_type": "markdown",
   "metadata": {},
   "source": [
    "### 1415,423\n",
    "    Double DLA\n",
    "    Both are weak and could be bogus.."
   ]
  },
  {
   "cell_type": "markdown",
   "metadata": {},
   "source": [
    "### 1165, 582\n",
    "    Large NHI\n",
    "    Skyline spike\n",
    "    Should be found!"
   ]
  },
  {
   "cell_type": "markdown",
   "metadata": {},
   "source": [
    "### 1226, 638\n",
    "    Large NHI\n",
    "    Unclear what happened here!\n",
    "    Too large?"
   ]
  },
  {
   "cell_type": "markdown",
   "metadata": {},
   "source": [
    "### 1165, 426\n",
    "    Skyline"
   ]
  },
  {
   "cell_type": "markdown",
   "metadata": {},
   "source": [
    "### 1408, 460\n",
    "    z=5\n",
    "    dodgy.."
   ]
  },
  {
   "cell_type": "markdown",
   "metadata": {},
   "source": [
    "### 1936, 618\n",
    "    Large NHI\n",
    "    Seems pretty obvious.."
   ]
  },
  {
   "cell_type": "markdown",
   "metadata": {},
   "source": [
    "### 787, 48\n",
    "    Non-zero flux\n",
    "    good miss"
   ]
  },
  {
   "cell_type": "markdown",
   "metadata": {},
   "source": [
    "### 778, 38\n",
    "    Large NHI\n",
    "    high z\n",
    "    Should be found!"
   ]
  },
  {
   "cell_type": "markdown",
   "metadata": {
    "collapsed": true
   },
   "source": [
    "### 2010, 536\n",
    "    Lower NHI but still obvious\n",
    "    bad sky nearby"
   ]
  },
  {
   "cell_type": "code",
   "execution_count": 2,
   "metadata": {
    "collapsed": false
   },
   "outputs": [
    {
     "name": "stdout",
     "output_type": "stream",
     "text": [
      "wvobs = 5678.88\n",
      "wvrest = 1112.2\n"
     ]
    }
   ],
   "source": [
    "z=3.6714\n",
    "zem = 4.106\n",
    "lya(z,zem)"
   ]
  },
  {
   "cell_type": "markdown",
   "metadata": {},
   "source": [
    "### 1920, 273\n",
    "    Nearby skyline"
   ]
  },
  {
   "cell_type": "markdown",
   "metadata": {},
   "source": [
    "### 2136, 438\n",
    "    Really strange..\n",
    "    Drawn away by Lya emission?"
   ]
  },
  {
   "cell_type": "markdown",
   "metadata": {},
   "source": [
    "### 2099, 635\n",
    "    Near zem, but obvious"
   ]
  },
  {
   "cell_type": "markdown",
   "metadata": {},
   "source": [
    "### 876, 346\n",
    "    Bad z??\n",
    "    Or have I screwed up??"
   ]
  },
  {
   "cell_type": "code",
   "execution_count": 9,
   "metadata": {
    "collapsed": false
   },
   "outputs": [
    {
     "name": "stdout",
     "output_type": "stream",
     "text": [
      "wvobs = 5040.42\n",
      "wvrest = 1203.48\n"
     ]
    },
    {
     "data": {
      "text/plain": [
       "5040.4231107000005"
      ]
     },
     "execution_count": 9,
     "metadata": {},
     "output_type": "execute_result"
    }
   ],
   "source": [
    "z=3.14621\n",
    "zem=3.1881999\n",
    "lya(z,zem) "
   ]
  },
  {
   "cell_type": "code",
   "execution_count": null,
   "metadata": {
    "collapsed": true
   },
   "outputs": [],
   "source": []
  }
 ],
 "metadata": {
  "kernelspec": {
   "display_name": "Python 2",
   "language": "python",
   "name": "python2"
  },
  "language_info": {
   "codemirror_mode": {
    "name": "ipython",
    "version": 2
   },
   "file_extension": ".py",
   "mimetype": "text/x-python",
   "name": "python",
   "nbconvert_exporter": "python",
   "pygments_lexer": "ipython2",
   "version": "2.7.11"
  }
 },
 "nbformat": 4,
 "nbformat_minor": 0
}
