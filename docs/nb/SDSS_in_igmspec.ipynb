{
 "cells": [
  {
   "cell_type": "markdown",
   "metadata": {},
   "source": [
    "# Using igmspec for the SDSS data"
   ]
  },
  {
   "cell_type": "code",
   "execution_count": 11,
   "metadata": {
    "collapsed": true
   },
   "outputs": [],
   "source": [
    "# imports\n",
    "from specdb.specdb import IgmSpec\n",
    "\n",
    "from astropy.table import Table\n",
    "from astropy.coordinates import SkyCoord"
   ]
  },
  {
   "cell_type": "markdown",
   "metadata": {},
   "source": [
    "## Load"
   ]
  },
  {
   "cell_type": "code",
   "execution_count": 2,
   "metadata": {
    "collapsed": false
   },
   "outputs": [
    {
     "name": "stdout",
     "output_type": "stream",
     "text": [
      "Using /raid/IGMSPEC_DB/IGMspec_DB_v02.hdf5 for the catalog file\n",
      "Using /raid/IGMSPEC_DB/IGMspec_DB_v02.hdf5 for the DB file\n",
      "Available surveys: [u'BOSS_DR12', u'HSTQSO', u'SDSS_DR7', u'KODIAQ_DR1', u'HD-LLS_DR1', u'2QZ', u'ESI_DLA', u'HDLA100', u'GGG', u'COS-Halos', u'HST_z2', u'COS-Dwarfs', u'XQ-100']\n"
     ]
    }
   ],
   "source": [
    "igmsp = IgmSpec()"
   ]
  },
  {
   "cell_type": "markdown",
   "metadata": {},
   "source": [
    "## Grab SDSS Meta Table"
   ]
  },
  {
   "cell_type": "code",
   "execution_count": 5,
   "metadata": {
    "collapsed": false
   },
   "outputs": [],
   "source": [
    "mtbl = Table(igmsp.idb.hdf['SDSS_DR7/meta'].value)"
   ]
  },
  {
   "cell_type": "code",
   "execution_count": 6,
   "metadata": {
    "collapsed": false
   },
   "outputs": [
    {
     "data": {
      "text/html": [
       "&lt;Table length=3&gt;\n",
       "<table id=\"table4658266256\" class=\"table-striped table-bordered table-condensed\">\n",
       "<thead><tr><th>SDSSJ</th><th>RA</th><th>DEC</th><th>zem</th><th>UMAG</th><th>UMAGERR</th><th>GMAG</th><th>GMAGERR</th><th>RMAG</th><th>RMAGERR</th><th>IMAG</th><th>IMAGERR</th><th>ZMAG</th><th>ZMAGERR</th><th>AU</th><th>logNH</th><th>FIRSTMAG</th><th>FIRSTSN</th><th>FIRSTDEL</th><th>RASSCNT</th><th>RASSSN</th><th>RASSDEL</th><th>JMAG</th><th>JMAGERR</th><th>HMAG</th><th>HMAGERR</th><th>KMAG</th><th>KMAGERR</th><th>MASSDEL</th><th>MASSFLG</th><th>MIMAG</th><th>DGMI</th><th>MFLAG</th><th>SPFLAG</th><th>MODEFLAG</th><th>USELFLAG</th><th>BESTFLAG</th><th>LZFLAG</th><th>HZFLAG</th><th>FTFLAG</th><th>RTFLAG</th><th>SRFLAG</th><th>STFLAG</th><th>GXFLAG</th><th>RUN</th><th>RMJD</th><th>SMJD</th><th>PLATE</th><th>FIBER</th><th>RERUN</th><th>CAMCOL</th><th>FIELD</th><th>OBJECT</th><th>TFLAG</th><th>LZTFLAG</th><th>HZTFLAG</th><th>FTTFLAG</th><th>RTTFLAG</th><th>SRTFLAG</th><th>STTFLAG</th><th>GXTFLAG</th><th>UTMAG</th><th>UTMAGERR</th><th>GTMAG</th><th>GTMAGERR</th><th>RTMAG</th><th>RTMAGERR</th><th>ITMAG</th><th>ITMAGERR</th><th>ZTMAG</th><th>ZTMAGERR</th><th>BESTID</th><th>SPECOID</th><th>ONAME</th><th>DATE-OBS</th><th>EPOCH</th><th>R</th><th>sig_zem</th><th>IGM_ID</th><th>SPEC_FILE</th><th>NPIX</th><th>WV_MIN</th><th>WV_MAX</th><th>SURVEY_ID</th><th>INSTR</th><th>GRATING</th><th>TELESCOPE</th><th>flag_zem</th></tr></thead>\n",
       "<thead><tr><th>str31</th><th>float64</th><th>float64</th><th>float64</th><th>float64</th><th>float64</th><th>float64</th><th>float64</th><th>float64</th><th>float64</th><th>float64</th><th>float64</th><th>float64</th><th>float64</th><th>float64</th><th>float64</th><th>float64</th><th>float64</th><th>float64</th><th>float64</th><th>float64</th><th>float64</th><th>float64</th><th>float64</th><th>float64</th><th>float64</th><th>float64</th><th>float64</th><th>float64</th><th>int32</th><th>float64</th><th>float64</th><th>int32</th><th>int32</th><th>int32</th><th>int32</th><th>int32</th><th>int32</th><th>int32</th><th>int32</th><th>int32</th><th>int32</th><th>int32</th><th>int32</th><th>int32</th><th>int32</th><th>int32</th><th>int32</th><th>int32</th><th>int32</th><th>int32</th><th>int32</th><th>int32</th><th>int32</th><th>int32</th><th>int32</th><th>int32</th><th>int32</th><th>int32</th><th>int32</th><th>int32</th><th>float64</th><th>float64</th><th>float64</th><th>float64</th><th>float64</th><th>float64</th><th>float64</th><th>float64</th><th>float64</th><th>float64</th><th>str31</th><th>str31</th><th>str31</th><th>str10</th><th>float64</th><th>float64</th><th>float64</th><th>int64</th><th>str28</th><th>int64</th><th>float64</th><th>float64</th><th>int64</th><th>str4</th><th>str4</th><th>str10</th><th>str10</th></tr></thead>\n",
       "<tr><td>000006.53+003055.2</td><td>0.027228</td><td>0.515341</td><td>1.82382595539</td><td>20.384</td><td>0.065</td><td>20.461</td><td>0.034</td><td>20.324</td><td>0.038</td><td>20.093</td><td>0.041</td><td>20.042</td><td>0.121</td><td>0.13</td><td>20.508</td><td>0.0</td><td>0.0</td><td>0.0</td><td>-9.0</td><td>0.0</td><td>0.0</td><td>0.0</td><td>0.0</td><td>0.0</td><td>0.0</td><td>0.0</td><td>0.0</td><td>0.0</td><td>0</td><td>-25.109</td><td>0.091</td><td>0</td><td>0</td><td>1</td><td>0</td><td>34603008</td><td>0</td><td>0</td><td>0</td><td>0</td><td>1</td><td>0</td><td>0</td><td>3325</td><td>52522</td><td>52203</td><td>685</td><td>467</td><td>41</td><td>5</td><td>108</td><td>118</td><td>34603008</td><td>0</td><td>0</td><td>0</td><td>0</td><td>1</td><td>0</td><td>0</td><td>20.384</td><td>0.065</td><td>20.461</td><td>0.034</td><td>20.324</td><td>0.038</td><td>20.093</td><td>0.041</td><td>20.042</td><td>0.121</td><td>588015509806252150</td><td>193034571183292416</td><td>SDSS J000006.53+003055.2</td><td>2001-10-21</td><td>2000.0</td><td>2000.0</td><td>0.0</td><td>302257</td><td>spSpec-52203-0685-467.fit.gz</td><td>3843</td><td>3803.64520329</td><td>9212.97727669</td><td>0</td><td>SDSS</td><td>BOTH</td><td>SDSS 2.5-M</td><td>SDSS-HW</td></tr>\n",
       "<tr><td>000008.13+001634.6</td><td>0.0339</td><td>0.276301</td><td>1.83638298512</td><td>20.242</td><td>0.054</td><td>20.206</td><td>0.024</td><td>19.941</td><td>0.032</td><td>19.485</td><td>0.032</td><td>19.178</td><td>0.068</td><td>0.161</td><td>20.502</td><td>0.0</td><td>0.0</td><td>0.0</td><td>-9.0</td><td>0.0</td><td>0.0</td><td>17.351</td><td>0.291</td><td>0.0</td><td>0.0</td><td>0.0</td><td>0.0</td><td>0.0</td><td>18</td><td>-25.745</td><td>0.438</td><td>0</td><td>0</td><td>1</td><td>0</td><td>34603008</td><td>0</td><td>0</td><td>0</td><td>0</td><td>1</td><td>0</td><td>0</td><td>2662</td><td>52197</td><td>52203</td><td>685</td><td>470</td><td>40</td><td>4</td><td>283</td><td>150</td><td>1048576</td><td>0</td><td>0</td><td>0</td><td>0</td><td>1</td><td>0</td><td>0</td><td>20.094</td><td>0.044</td><td>19.98</td><td>0.017</td><td>19.852</td><td>0.02</td><td>19.405</td><td>0.021</td><td>19.1</td><td>0.079</td><td>587731186740822166</td><td>193034571195875328</td><td>SDSS J000008.13+001634.6</td><td>2001-10-21</td><td>2000.0</td><td>2000.0</td><td>0.0</td><td>302258</td><td>spSpec-52203-0685-470.fit.gz</td><td>3843</td><td>3803.64520329</td><td>9212.97727669</td><td>1</td><td>SDSS</td><td>BOTH</td><td>SDSS 2.5-M</td><td>SDSS-HW</td></tr>\n",
       "<tr><td>000009.26+151754.5</td><td>0.038604</td><td>15.298477</td><td>1.1974760294</td><td>19.916</td><td>0.042</td><td>19.807</td><td>0.036</td><td>19.374</td><td>0.017</td><td>19.148</td><td>0.023</td><td>19.312</td><td>0.069</td><td>0.223</td><td>20.551</td><td>-1.0</td><td>0.0</td><td>0.0</td><td>-9.0</td><td>0.0</td><td>0.0</td><td>0.0</td><td>0.0</td><td>0.0</td><td>0.0</td><td>0.0</td><td>0.0</td><td>0.0</td><td>0</td><td>-25.101</td><td>0.338</td><td>0</td><td>1</td><td>1</td><td>1</td><td>1048578</td><td>1</td><td>0</td><td>0</td><td>0</td><td>1</td><td>0</td><td>0</td><td>1739</td><td>51814</td><td>52251</td><td>751</td><td>354</td><td>40</td><td>4</td><td>303</td><td>24</td><td>1048578</td><td>1</td><td>0</td><td>0</td><td>0</td><td>1</td><td>0</td><td>0</td><td>19.912</td><td>0.037</td><td>19.77</td><td>0.024</td><td>19.393</td><td>0.018</td><td>19.173</td><td>0.019</td><td>19.353</td><td>0.07</td><td>587727222487318552</td><td>211612125330669568</td><td>SDSS J000009.26+151754.5</td><td>2001-12-08</td><td>2000.0</td><td>2000.0</td><td>0.0</td><td>302259</td><td>spSpec-52251-0751-354.fit.gz</td><td>3828</td><td>3817.68419498</td><td>9215.09888735</td><td>2</td><td>SDSS</td><td>BOTH</td><td>SDSS 2.5-M</td><td>SDSS-HW</td></tr>\n",
       "</table>"
      ],
      "text/plain": [
       "<Table length=3>\n",
       "      SDSSJ           RA       DEC    ... GRATING TELESCOPE  flag_zem\n",
       "      str31        float64   float64  ...   str4    str10     str10  \n",
       "------------------ -------- --------- ... ------- ---------- --------\n",
       "000006.53+003055.2 0.027228  0.515341 ...    BOTH SDSS 2.5-M  SDSS-HW\n",
       "000008.13+001634.6   0.0339  0.276301 ...    BOTH SDSS 2.5-M  SDSS-HW\n",
       "000009.26+151754.5 0.038604 15.298477 ...    BOTH SDSS 2.5-M  SDSS-HW"
      ]
     },
     "execution_count": 6,
     "metadata": {},
     "output_type": "execute_result"
    }
   ],
   "source": [
    "mtbl[0:3]"
   ]
  },
  {
   "cell_type": "markdown",
   "metadata": {},
   "source": [
    "## Grab entry of a given plate/fiber"
   ]
  },
  {
   "cell_type": "code",
   "execution_count": 10,
   "metadata": {
    "collapsed": false
   },
   "outputs": [
    {
     "data": {
      "text/plain": [
       "array([31027])"
      ]
     },
     "execution_count": 10,
     "metadata": {},
     "output_type": "execute_result"
    }
   ],
   "source": [
    "# Find plate/fiber\n",
    "plate = 266\n",
    "fiber = 5\n",
    "imt = np.where((mtbl['PLATE'] == plate) & (mtbl['FIBER'] == fiber))[0]\n",
    "imt"
   ]
  },
  {
   "cell_type": "markdown",
   "metadata": {},
   "source": [
    "## Grab IGM_ID"
   ]
  },
  {
   "cell_type": "code",
   "execution_count": 15,
   "metadata": {
    "collapsed": false
   },
   "outputs": [
    {
     "data": {
      "text/plain": [
       "89942"
      ]
     },
     "execution_count": 15,
     "metadata": {},
     "output_type": "execute_result"
    }
   ],
   "source": [
    "igmid = mtbl['IGM_ID'][mt]\n",
    "igmid"
   ]
  },
  {
   "cell_type": "markdown",
   "metadata": {},
   "source": [
    "## Grab spectrum"
   ]
  },
  {
   "cell_type": "code",
   "execution_count": 16,
   "metadata": {
    "collapsed": false
   },
   "outputs": [
    {
     "name": "stdout",
     "output_type": "stream",
     "text": [
      "Staged 1 spectra totalling 6.4e-05 Gb\n",
      "Loaded spectra\n"
     ]
    }
   ],
   "source": [
    "spec, meta = igmsp.idb.grab_spec(['SDSS_DR7'], igmid)"
   ]
  },
  {
   "cell_type": "code",
   "execution_count": 20,
   "metadata": {
    "collapsed": false
   },
   "outputs": [
    {
     "data": {
      "text/html": [
       "&lt;Column name=&apos;zem&apos; dtype=&apos;float64&apos; length=1&gt;\n",
       "<table>\n",
       "<tr><td>2.83283996582</td></tr>\n",
       "</table>"
      ],
      "text/plain": [
       "<Column name='zem' dtype='float64' length=1>\n",
       "2.83283996582"
      ]
     },
     "execution_count": 20,
     "metadata": {},
     "output_type": "execute_result"
    }
   ],
   "source": [
    "meta[0]['zem']"
   ]
  },
  {
   "cell_type": "code",
   "execution_count": 21,
   "metadata": {
    "collapsed": false
   },
   "outputs": [
    {
     "data": {
      "text/plain": [
       "<XSpectrum1D: file=none, nspec=1, select=0, wvmin=3824.72 Angstrom, wvmax=9210.86 Angstrom>"
      ]
     },
     "execution_count": 21,
     "metadata": {},
     "output_type": "execute_result"
    }
   ],
   "source": [
    "spec[0]"
   ]
  },
  {
   "cell_type": "code",
   "execution_count": 22,
   "metadata": {
    "collapsed": false
   },
   "outputs": [
    {
     "data": {
      "text/plain": [
       "(<Quantity [ 3824.72311024, 3825.60388668, 3826.48486595,...,\n",
       "             9206.61537502, 9208.73552063, 9210.85615448] Angstrom>,\n",
       " <Quantity [ 5.16621017,-0.79454201, 4.06822014,...,  3.19453001,\n",
       "             3.6377399 , 2.92379999]>)"
      ]
     },
     "execution_count": 22,
     "metadata": {},
     "output_type": "execute_result"
    }
   ],
   "source": [
    "spec[0].wavelength, spec[0].flux"
   ]
  },
  {
   "cell_type": "code",
   "execution_count": null,
   "metadata": {
    "collapsed": true
   },
   "outputs": [],
   "source": []
  }
 ],
 "metadata": {
  "kernelspec": {
   "display_name": "Python 2",
   "language": "python",
   "name": "python2"
  },
  "language_info": {
   "codemirror_mode": {
    "name": "ipython",
    "version": 2
   },
   "file_extension": ".py",
   "mimetype": "text/x-python",
   "name": "python",
   "nbconvert_exporter": "python",
   "pygments_lexer": "ipython2",
   "version": "2.7.11"
  }
 },
 "nbformat": 4,
 "nbformat_minor": 0
}
