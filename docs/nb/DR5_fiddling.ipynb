{
 "cells": [
  {
   "cell_type": "markdown",
   "metadata": {},
   "source": [
    "# Fiddling about with DR5 results (a bit) [v1.0]"
   ]
  },
  {
   "cell_type": "code",
   "execution_count": 60,
   "metadata": {
    "collapsed": true
   },
   "outputs": [],
   "source": [
    "%matplotlib notebook"
   ]
  },
  {
   "cell_type": "code",
   "execution_count": 94,
   "metadata": {
    "collapsed": false
   },
   "outputs": [],
   "source": [
    "# imports\n",
    "import numpy as np\n",
    "import pdb, imp\n",
    "\n",
    "import matplotlib as mpl\n",
    "mpl.rcParams['font.family'] = 'stixgeneral'\n",
    "from matplotlib.backends.backend_pdf import PdfPages\n",
    "from matplotlib import pyplot as plt\n",
    "import matplotlib.gridspec as gridspec\n",
    "\n",
    "from astropy.coordinates import SkyCoord, match_coordinates_sky\n",
    "from linetools import utils as ltu\n",
    "\n",
    "from specdb.specdb import IgmSpec\n",
    "from pyigm.surveys.dlasurvey import DLASurvey\n",
    "from pyigm.surveys import utils as pyis_u\n",
    "\n",
    "sys.path.append(os.path.abspath(\"../../src\"))\n",
    "import vette_results as vetter"
   ]
  },
  {
   "cell_type": "markdown",
   "metadata": {},
   "source": [
    "## Read JSON file"
   ]
  },
  {
   "cell_type": "code",
   "execution_count": 2,
   "metadata": {
    "collapsed": false
   },
   "outputs": [],
   "source": [
    "result_file = '../../results/dr5_v2_results.json'\n",
    "ml_dr5 = ltu.loadjson(result_file)"
   ]
  },
  {
   "cell_type": "code",
   "execution_count": 3,
   "metadata": {
    "collapsed": false
   },
   "outputs": [
    {
     "data": {
      "text/plain": [
       "7478"
      ]
     },
     "execution_count": 3,
     "metadata": {},
     "output_type": "execute_result"
    }
   ],
   "source": [
    "len(ml_dr5)"
   ]
  },
  {
   "cell_type": "code",
   "execution_count": 4,
   "metadata": {
    "collapsed": false
   },
   "outputs": [
    {
     "data": {
      "text/plain": [
       "{u'classification': u'NO_DLA',\n",
       " u'classification_confidence': 96,\n",
       " u'dec': -0.6870119571685791,\n",
       " u'dlas': [],\n",
       " u'fiber': 5,\n",
       " u'mjd': 0,\n",
       " u'num_dlas': 0,\n",
       " u'plate': 266,\n",
       " u'ra': 146.93861389160156,\n",
       " u'z_qso': 2.8328399658203125}"
      ]
     },
     "execution_count": 4,
     "metadata": {},
     "output_type": "execute_result"
    }
   ],
   "source": [
    "ml_dr5[0]"
   ]
  },
  {
   "cell_type": "code",
   "execution_count": 5,
   "metadata": {
    "collapsed": false
   },
   "outputs": [
    {
     "data": {
      "text/plain": [
       "{u'classification': u'NO_DLA',\n",
       " u'classification_confidence': 93,\n",
       " u'dec': -0.9712327122688293,\n",
       " u'dlas': [{u'column_density': 20.562389373779297,\n",
       "   u'dla_confidence': 0.3738497495651245,\n",
       "   u'rest': 927.2055053710938,\n",
       "   u'spectrum': 3836.1885852687556,\n",
       "   u'std_column_density': 0.25730183720588684,\n",
       "   u'z_dla': 2.1556167259772434}],\n",
       " u'fiber': 254,\n",
       " u'mjd': 0,\n",
       " u'num_dlas': 1,\n",
       " u'plate': 270,\n",
       " u'ra': 152.23239135742188,\n",
       " u'z_qso': 3.1373660564422607}"
      ]
     },
     "execution_count": 5,
     "metadata": {},
     "output_type": "execute_result"
    }
   ],
   "source": [
    "ml_dr5[2]"
   ]
  },
  {
   "cell_type": "code",
   "execution_count": 6,
   "metadata": {
    "collapsed": false
   },
   "outputs": [
    {
     "data": {
      "text/plain": [
       "{u'classification': u'HAS_DLA',\n",
       " u'classification_confidence': 97,\n",
       " u'dec': 0.33888769149780273,\n",
       " u'dlas': [{u'column_density': 20.36636734008789,\n",
       "   u'dla_confidence': 0.8868335485458374,\n",
       "   u'rest': 985.9659423828125,\n",
       "   u'spectrum': 5337.033751430688,\n",
       "   u'std_column_density': 0.643308162689209,\n",
       "   u'z_dla': 3.3901994385241787},\n",
       "  {u'column_density': 20.48378562927246,\n",
       "   u'dla_confidence': 0.8954387307167053,\n",
       "   u'rest': 1082.8338623046875,\n",
       "   u'spectrum': 5861.379812314408,\n",
       "   u'std_column_density': 0.1063832938671112,\n",
       "   u'z_dla': 3.8215221337323513},\n",
       "  {u'column_density': 20.322036743164062,\n",
       "   u'dla_confidence': 0.795092761516571,\n",
       "   u'rest': 1165.3651123046875,\n",
       "   u'spectrum': 6308.121477379696,\n",
       "   u'std_column_density': 0.0018673656741157174,\n",
       "   u'z_dla': 4.189008100372384},\n",
       "  {u'column_density': 20.362953186035156,\n",
       "   u'dla_confidence': 0.28717735409736633,\n",
       "   u'rest': 1107.5467529296875,\n",
       "   u'spectrum': 5995.150691907154,\n",
       "   u'std_column_density': 0.09028507024049759,\n",
       "   u'z_dla': 3.931560943271738}],\n",
       " u'fiber': 345,\n",
       " u'mjd': 0,\n",
       " u'num_dlas': 4,\n",
       " u'plate': 271,\n",
       " u'ra': 153.9541778564453,\n",
       " u'z_qso': 4.413000106811523}"
      ]
     },
     "execution_count": 6,
     "metadata": {},
     "output_type": "execute_result"
    }
   ],
   "source": [
    "ml_dr5[5]"
   ]
  },
  {
   "cell_type": "markdown",
   "metadata": {},
   "source": [
    "## Load up DR5"
   ]
  },
  {
   "cell_type": "code",
   "execution_count": 7,
   "metadata": {
    "collapsed": false
   },
   "outputs": [
    {
     "name": "stdout",
     "output_type": "stream",
     "text": [
      "SDSS-DR5: Loading DLA file /Users/xavier/local/Python/pyigm/pyigm/data/DLA/SDSS_DR5/dr5_alldla.fits.gz\n",
      "SDSS-DR5: Loading QSOs file /Users/xavier/local/Python/pyigm/pyigm/data/DLA/SDSS_DR5/dr5_dlagz_s2n4.fits\n",
      "SDSS-DR5: Performing stats\n",
      "SDSS-DR5: Loaded\n"
     ]
    }
   ],
   "source": [
    "sdssdr5 = DLASurvey.load_SDSS_DR5()"
   ]
  },
  {
   "cell_type": "code",
   "execution_count": 8,
   "metadata": {
    "collapsed": false
   },
   "outputs": [
    {
     "data": {
      "text/html": [
       "&lt;QTable length=4&gt;\n",
       "<table id=\"table4385758800\" class=\"table-striped table-bordered table-condensed\">\n",
       "<thead><tr><th>PLATE</th><th>FIB</th><th>RA</th><th>DEC</th><th>FLG_BAL</th><th>IQSO</th><th>MAG</th><th>S2N</th><th>Z_START</th><th>Z_END</th><th>ZEM</th><th>DX</th></tr></thead>\n",
       "<thead><tr><th></th><th></th><th>deg</th><th>deg</th><th></th><th></th><th></th><th></th><th></th><th></th><th></th><th></th></tr></thead>\n",
       "<thead><tr><th>int32</th><th>int32</th><th>float64</th><th>float64</th><th>int16</th><th>int32</th><th>float64</th><th>float64</th><th>float64</th><th>float64</th><th>float64</th><th>float64</th></tr></thead>\n",
       "<tr><td>266</td><td>5</td><td>146.93861</td><td>-0.68701194</td><td>1</td><td>0</td><td>19.341999054</td><td>4.94595003128</td><td>2.39664643878</td><td>2.74649000168</td><td>2.8287498951</td><td>1.17426266257</td></tr>\n",
       "<tr><td>266</td><td>92</td><td>146.22601</td><td>-0.72509875</td><td>0</td><td>4</td><td>19.0820007324</td><td>8.54980564117</td><td>2.20000004768</td><td>2.25759506226</td><td>2.29049992561</td><td>0.184012498912</td></tr>\n",
       "<tr><td>270</td><td>254</td><td>152.23239</td><td>-0.97123272</td><td>0</td><td>9</td><td>19.0230007172</td><td>7.49763822556</td><td>2.30636157714</td><td>3.0556242466</td><td>3.09659004211</td><td>2.56581152274</td></tr>\n",
       "<tr><td>271</td><td>391</td><td>154.14992</td><td>0.14750838</td><td>0</td><td>16</td><td>18.0650005341</td><td>18.982629776</td><td>2.20000004768</td><td>2.25551605225</td><td>2.28839993477</td><td>0.177634457341</td></tr>\n",
       "</table>"
      ],
      "text/plain": [
       "<QTable length=4>\n",
       "PLATE  FIB      RA        DEC     ...     Z_END          ZEM            DX      \n",
       "               deg        deg     ...                                           \n",
       "int32 int32  float64    float64   ...    float64       float64       float64    \n",
       "----- ----- --------- ----------- ... ------------- ------------- --------------\n",
       "  266     5 146.93861 -0.68701194 ... 2.74649000168  2.8287498951  1.17426266257\n",
       "  266    92 146.22601 -0.72509875 ... 2.25759506226 2.29049992561 0.184012498912\n",
       "  270   254 152.23239 -0.97123272 ...  3.0556242466 3.09659004211  2.56581152274\n",
       "  271   391 154.14992  0.14750838 ... 2.25551605225 2.28839993477 0.177634457341"
      ]
     },
     "execution_count": 8,
     "metadata": {},
     "output_type": "execute_result"
    }
   ],
   "source": [
    "sdssdr5.sightlines[0:4]"
   ]
  },
  {
   "cell_type": "code",
   "execution_count": 9,
   "metadata": {
    "collapsed": false
   },
   "outputs": [
    {
     "data": {
      "text/plain": [
       "(7482, 7478)"
      ]
     },
     "execution_count": 9,
     "metadata": {},
     "output_type": "execute_result"
    }
   ],
   "source": [
    "len(sdssdr5.sightlines), len(ml_dr5)"
   ]
  },
  {
   "cell_type": "markdown",
   "metadata": {},
   "source": [
    "### Setup coords"
   ]
  },
  {
   "cell_type": "code",
   "execution_count": 10,
   "metadata": {
    "collapsed": false
   },
   "outputs": [],
   "source": [
    "dla_coord = sdssdr5.coord"
   ]
  },
  {
   "cell_type": "code",
   "execution_count": 11,
   "metadata": {
    "collapsed": true
   },
   "outputs": [],
   "source": [
    "sl_coord = SkyCoord(ra=sdssdr5.sightlines['RA'], dec=sdssdr5.sightlines['DEC'])"
   ]
  },
  {
   "cell_type": "code",
   "execution_count": 12,
   "metadata": {
    "collapsed": true
   },
   "outputs": [],
   "source": [
    "idx, d2d, d3d = match_coordinates_sky(dla_coord, sl_coord, nthneighbor=1)"
   ]
  },
  {
   "cell_type": "code",
   "execution_count": 13,
   "metadata": {
    "collapsed": false
   },
   "outputs": [
    {
     "data": {
      "text/latex": [
       "$0.368995\\mathrm{{}^{\\prime\\prime}}$"
      ],
      "text/plain": [
       "<Angle 0.3689950092602071 arcsec>"
      ]
     },
     "execution_count": 13,
     "metadata": {},
     "output_type": "execute_result"
    }
   ],
   "source": [
    "np.max(d2d.to('arcsec'))"
   ]
  },
  {
   "cell_type": "markdown",
   "metadata": {},
   "source": [
    "### Specify HAS_DLA"
   ]
  },
  {
   "cell_type": "code",
   "execution_count": 14,
   "metadata": {
    "collapsed": true
   },
   "outputs": [],
   "source": [
    "sdssdr5.sightlines['HAS_ML'] = [False]*len(sdssdr5.sightlines)"
   ]
  },
  {
   "cell_type": "code",
   "execution_count": 15,
   "metadata": {
    "collapsed": false
   },
   "outputs": [
    {
     "name": "stdout",
     "output_type": "stream",
     "text": [
      "Skipping plate=359, fiber=279\n",
      "Skipping plate=1950, fiber=602\n",
      "Skipping plate=1980, fiber=484\n",
      "Skipping plate=2083, fiber=33\n"
     ]
    }
   ],
   "source": [
    "jj = 0\n",
    "for obj in ml_dr5:\n",
    "    # Check plate fiber\n",
    "    while ((obj['plate'] != sdssdr5.sightlines['PLATE'][jj]) or (obj['fiber'] != sdssdr5.sightlines['FIB'][jj])):\n",
    "        print(\"Skipping plate={:d}, fiber={:d}\".format(sdssdr5.sightlines['PLATE'][jj],sdssdr5.sightlines['FIB'][jj]))\n",
    "        jj+=1\n",
    "    # Machine learning\n",
    "    if obj['classification'] == u'HAS_DLA':\n",
    "        sdssdr5.sightlines['HAS_ML'][jj] = True\n",
    "    jj+=1"
   ]
  },
  {
   "cell_type": "markdown",
   "metadata": {},
   "source": [
    "## Fraction of Hits"
   ]
  },
  {
   "cell_type": "code",
   "execution_count": 16,
   "metadata": {
    "collapsed": true
   },
   "outputs": [],
   "source": [
    "# Calculate fraction of HAS_DLA as a function of NHI\n",
    "def chk_has_nhi(dlas, idx, NHI=20.3):\n",
    "    # Cut on NHI\n",
    "    gdD = dlas.NHI >= NHI\n",
    "    # Dummy array\n",
    "    jxp = np.array([False]*len(dlas.sightlines))\n",
    "    # Sightline with DLA in it\n",
    "    jxp[idx[gdD]] = True\n",
    "    njxp = np.sum(jxp)\n",
    "    # HAS?\n",
    "    good = dlas.sightlines['HAS_ML'] & jxp\n",
    "    ngood = np.sum(good)\n",
    "    #pdb.set_trace()\n",
    "    # Return\n",
    "    return ngood, njxp"
   ]
  },
  {
   "cell_type": "markdown",
   "metadata": {},
   "source": [
    "### NHI = 20.3"
   ]
  },
  {
   "cell_type": "code",
   "execution_count": 17,
   "metadata": {
    "collapsed": false
   },
   "outputs": [
    {
     "data": {
      "text/plain": [
       "(629, 667)"
      ]
     },
     "execution_count": 17,
     "metadata": {},
     "output_type": "execute_result"
    }
   ],
   "source": [
    "ngood, ntot = chk_has_nhi(sdssdr5, idx)\n",
    "ngood, ntot"
   ]
  },
  {
   "cell_type": "markdown",
   "metadata": {},
   "source": [
    "### NHI = 21."
   ]
  },
  {
   "cell_type": "code",
   "execution_count": 18,
   "metadata": {
    "collapsed": false
   },
   "outputs": [
    {
     "data": {
      "text/plain": [
       "(121, 121)"
      ]
     },
     "execution_count": 18,
     "metadata": {},
     "output_type": "execute_result"
    }
   ],
   "source": [
    "ngood21, ntot21 = chk_has_nhi(sdssdr5, idx, NHI=21.)\n",
    "ngood21, ntot21"
   ]
  },
  {
   "cell_type": "code",
   "execution_count": 19,
   "metadata": {
    "collapsed": false
   },
   "outputs": [
    {
     "data": {
      "text/plain": [
       "0.9430284857571214"
      ]
     },
     "execution_count": 19,
     "metadata": {},
     "output_type": "execute_result"
    }
   ],
   "source": [
    "629./667"
   ]
  },
  {
   "cell_type": "markdown",
   "metadata": {
    "collapsed": true
   },
   "source": [
    "## Testing Module"
   ]
  },
  {
   "cell_type": "markdown",
   "metadata": {},
   "source": [
    "### Load"
   ]
  },
  {
   "cell_type": "code",
   "execution_count": 34,
   "metadata": {
    "collapsed": false
   },
   "outputs": [
    {
     "name": "stdout",
     "output_type": "stream",
     "text": [
      "Loading SDSS Survey from JSON file ../../results/dr5_v2_results.json\n",
      "Sightline RA=260.033 deg, DEC=52.5956 deg was not used\n",
      "Sightline RA=153.781 deg, DEC=33.039 deg was not used\n",
      "Sightline RA=165.409 deg, DEC=38.5598 deg was not used\n",
      "Sightline RA=128.336 deg, DEC=20.6529 deg was not used\n"
     ]
    }
   ],
   "source": [
    "reload(vetter)\n",
    "ml_survey = vetter.json_to_sdss_dlasurvey(result_file, sdssdr5)"
   ]
  },
  {
   "cell_type": "code",
   "execution_count": 35,
   "metadata": {
    "collapsed": false
   },
   "outputs": [
    {
     "data": {
      "text/plain": [
       "<IGMSurvey: nsys=7925, type=LLS, ref=, nsightlines=7478>"
      ]
     },
     "execution_count": 35,
     "metadata": {},
     "output_type": "execute_result"
    }
   ],
   "source": [
    "ml_survey"
   ]
  },
  {
   "cell_type": "code",
   "execution_count": 36,
   "metadata": {
    "collapsed": false
   },
   "outputs": [
    {
     "data": {
      "text/plain": [
       "(<LLSSystem: 10:08:55.7739 -00:58:16.4378, zabs=2.15562, logNHI=20.5624, tau_LL=2314.31, [Z/H]=0 dex>,\n",
       " 3.1373660564422607)"
      ]
     },
     "execution_count": 36,
     "metadata": {},
     "output_type": "execute_result"
    }
   ],
   "source": [
    "isys = ml_survey._abs_sys[0]\n",
    "isys, isys.zem"
   ]
  },
  {
   "cell_type": "markdown",
   "metadata": {},
   "source": [
    "### Write? -- This only writes the sytems and not the sightlines"
   ]
  },
  {
   "cell_type": "code",
   "execution_count": 23,
   "metadata": {
    "collapsed": false
   },
   "outputs": [
    {
     "name": "stdout",
     "output_type": "stream",
     "text": [
      "Wrote: dr5_v2.tar\n"
     ]
    }
   ],
   "source": [
    "#ml_survey.write_survey('dr5_v2.tar')"
   ]
  },
  {
   "cell_type": "code",
   "execution_count": 27,
   "metadata": {
    "collapsed": false
   },
   "outputs": [
    {
     "name": "stdout",
     "output_type": "stream",
     "text": [
      "Loading systems from ../../results/dr5_v2.tar\n",
      "Skipping a likely folder: IGM_JSON\n"
     ]
    },
    {
     "data": {
      "text/plain": [
       "<IGMSurvey: nsys=7762, type=LLS, ref=None>"
      ]
     },
     "execution_count": 27,
     "metadata": {},
     "output_type": "execute_result"
    }
   ],
   "source": [
    "# Read\n",
    "#pyis_u.load_sys_files('../../results/dr5_v2.tar', 'LLS')"
   ]
  },
  {
   "cell_type": "markdown",
   "metadata": {},
   "source": [
    "### Vette"
   ]
  },
  {
   "cell_type": "code",
   "execution_count": 53,
   "metadata": {
    "collapsed": false
   },
   "outputs": [
    {
     "name": "stdout",
     "output_type": "stream",
     "text": [
      "Done cutting on Lyb\n"
     ]
    }
   ],
   "source": [
    "reload(vetter)\n",
    "fneg, midx = vetter.vette_dlasurvey(ml_survey, sdssdr5)"
   ]
  },
  {
   "cell_type": "code",
   "execution_count": 54,
   "metadata": {
    "collapsed": false
   },
   "outputs": [
    {
     "data": {
      "text/plain": [
       "100"
      ]
     },
     "execution_count": 54,
     "metadata": {},
     "output_type": "execute_result"
    }
   ],
   "source": [
    "len(fneg)"
   ]
  },
  {
   "cell_type": "code",
   "execution_count": 66,
   "metadata": {
    "collapsed": false
   },
   "outputs": [
    {
     "data": {
      "text/plain": [
       "(643, 643)"
      ]
     },
     "execution_count": 66,
     "metadata": {},
     "output_type": "execute_result"
    }
   ],
   "source": [
    "len(tmp), np.sum(sdssdr5.mask)"
   ]
  },
  {
   "cell_type": "markdown",
   "metadata": {},
   "source": [
    "#### Compare Matches"
   ]
  },
  {
   "cell_type": "code",
   "execution_count": 88,
   "metadata": {
    "collapsed": false
   },
   "outputs": [
    {
     "data": {
      "application/javascript": [
       "/* Put everything inside the global mpl namespace */\n",
       "window.mpl = {};\n",
       "\n",
       "mpl.get_websocket_type = function() {\n",
       "    if (typeof(WebSocket) !== 'undefined') {\n",
       "        return WebSocket;\n",
       "    } else if (typeof(MozWebSocket) !== 'undefined') {\n",
       "        return MozWebSocket;\n",
       "    } else {\n",
       "        alert('Your browser does not have WebSocket support.' +\n",
       "              'Please try Chrome, Safari or Firefox ≥ 6. ' +\n",
       "              'Firefox 4 and 5 are also supported but you ' +\n",
       "              'have to enable WebSockets in about:config.');\n",
       "    };\n",
       "}\n",
       "\n",
       "mpl.figure = function(figure_id, websocket, ondownload, parent_element) {\n",
       "    this.id = figure_id;\n",
       "\n",
       "    this.ws = websocket;\n",
       "\n",
       "    this.supports_binary = (this.ws.binaryType != undefined);\n",
       "\n",
       "    if (!this.supports_binary) {\n",
       "        var warnings = document.getElementById(\"mpl-warnings\");\n",
       "        if (warnings) {\n",
       "            warnings.style.display = 'block';\n",
       "            warnings.textContent = (\n",
       "                \"This browser does not support binary websocket messages. \" +\n",
       "                    \"Performance may be slow.\");\n",
       "        }\n",
       "    }\n",
       "\n",
       "    this.imageObj = new Image();\n",
       "\n",
       "    this.context = undefined;\n",
       "    this.message = undefined;\n",
       "    this.canvas = undefined;\n",
       "    this.rubberband_canvas = undefined;\n",
       "    this.rubberband_context = undefined;\n",
       "    this.format_dropdown = undefined;\n",
       "\n",
       "    this.image_mode = 'full';\n",
       "\n",
       "    this.root = $('<div/>');\n",
       "    this._root_extra_style(this.root)\n",
       "    this.root.attr('style', 'display: inline-block');\n",
       "\n",
       "    $(parent_element).append(this.root);\n",
       "\n",
       "    this._init_header(this);\n",
       "    this._init_canvas(this);\n",
       "    this._init_toolbar(this);\n",
       "\n",
       "    var fig = this;\n",
       "\n",
       "    this.waiting = false;\n",
       "\n",
       "    this.ws.onopen =  function () {\n",
       "            fig.send_message(\"supports_binary\", {value: fig.supports_binary});\n",
       "            fig.send_message(\"send_image_mode\", {});\n",
       "            fig.send_message(\"refresh\", {});\n",
       "        }\n",
       "\n",
       "    this.imageObj.onload = function() {\n",
       "            if (fig.image_mode == 'full') {\n",
       "                // Full images could contain transparency (where diff images\n",
       "                // almost always do), so we need to clear the canvas so that\n",
       "                // there is no ghosting.\n",
       "                fig.context.clearRect(0, 0, fig.canvas.width, fig.canvas.height);\n",
       "            }\n",
       "            fig.context.drawImage(fig.imageObj, 0, 0);\n",
       "        };\n",
       "\n",
       "    this.imageObj.onunload = function() {\n",
       "        this.ws.close();\n",
       "    }\n",
       "\n",
       "    this.ws.onmessage = this._make_on_message_function(this);\n",
       "\n",
       "    this.ondownload = ondownload;\n",
       "}\n",
       "\n",
       "mpl.figure.prototype._init_header = function() {\n",
       "    var titlebar = $(\n",
       "        '<div class=\"ui-dialog-titlebar ui-widget-header ui-corner-all ' +\n",
       "        'ui-helper-clearfix\"/>');\n",
       "    var titletext = $(\n",
       "        '<div class=\"ui-dialog-title\" style=\"width: 100%; ' +\n",
       "        'text-align: center; padding: 3px;\"/>');\n",
       "    titlebar.append(titletext)\n",
       "    this.root.append(titlebar);\n",
       "    this.header = titletext[0];\n",
       "}\n",
       "\n",
       "\n",
       "\n",
       "mpl.figure.prototype._canvas_extra_style = function(canvas_div) {\n",
       "\n",
       "}\n",
       "\n",
       "\n",
       "mpl.figure.prototype._root_extra_style = function(canvas_div) {\n",
       "\n",
       "}\n",
       "\n",
       "mpl.figure.prototype._init_canvas = function() {\n",
       "    var fig = this;\n",
       "\n",
       "    var canvas_div = $('<div/>');\n",
       "\n",
       "    canvas_div.attr('style', 'position: relative; clear: both; outline: 0');\n",
       "\n",
       "    function canvas_keyboard_event(event) {\n",
       "        return fig.key_event(event, event['data']);\n",
       "    }\n",
       "\n",
       "    canvas_div.keydown('key_press', canvas_keyboard_event);\n",
       "    canvas_div.keyup('key_release', canvas_keyboard_event);\n",
       "    this.canvas_div = canvas_div\n",
       "    this._canvas_extra_style(canvas_div)\n",
       "    this.root.append(canvas_div);\n",
       "\n",
       "    var canvas = $('<canvas/>');\n",
       "    canvas.addClass('mpl-canvas');\n",
       "    canvas.attr('style', \"left: 0; top: 0; z-index: 0; outline: 0\")\n",
       "\n",
       "    this.canvas = canvas[0];\n",
       "    this.context = canvas[0].getContext(\"2d\");\n",
       "\n",
       "    var rubberband = $('<canvas/>');\n",
       "    rubberband.attr('style', \"position: absolute; left: 0; top: 0; z-index: 1;\")\n",
       "\n",
       "    var pass_mouse_events = true;\n",
       "\n",
       "    canvas_div.resizable({\n",
       "        start: function(event, ui) {\n",
       "            pass_mouse_events = false;\n",
       "        },\n",
       "        resize: function(event, ui) {\n",
       "            fig.request_resize(ui.size.width, ui.size.height);\n",
       "        },\n",
       "        stop: function(event, ui) {\n",
       "            pass_mouse_events = true;\n",
       "            fig.request_resize(ui.size.width, ui.size.height);\n",
       "        },\n",
       "    });\n",
       "\n",
       "    function mouse_event_fn(event) {\n",
       "        if (pass_mouse_events)\n",
       "            return fig.mouse_event(event, event['data']);\n",
       "    }\n",
       "\n",
       "    rubberband.mousedown('button_press', mouse_event_fn);\n",
       "    rubberband.mouseup('button_release', mouse_event_fn);\n",
       "    // Throttle sequential mouse events to 1 every 20ms.\n",
       "    rubberband.mousemove('motion_notify', mouse_event_fn);\n",
       "\n",
       "    rubberband.mouseenter('figure_enter', mouse_event_fn);\n",
       "    rubberband.mouseleave('figure_leave', mouse_event_fn);\n",
       "\n",
       "    canvas_div.on(\"wheel\", function (event) {\n",
       "        event = event.originalEvent;\n",
       "        event['data'] = 'scroll'\n",
       "        if (event.deltaY < 0) {\n",
       "            event.step = 1;\n",
       "        } else {\n",
       "            event.step = -1;\n",
       "        }\n",
       "        mouse_event_fn(event);\n",
       "    });\n",
       "\n",
       "    canvas_div.append(canvas);\n",
       "    canvas_div.append(rubberband);\n",
       "\n",
       "    this.rubberband = rubberband;\n",
       "    this.rubberband_canvas = rubberband[0];\n",
       "    this.rubberband_context = rubberband[0].getContext(\"2d\");\n",
       "    this.rubberband_context.strokeStyle = \"#000000\";\n",
       "\n",
       "    this._resize_canvas = function(width, height) {\n",
       "        // Keep the size of the canvas, canvas container, and rubber band\n",
       "        // canvas in synch.\n",
       "        canvas_div.css('width', width)\n",
       "        canvas_div.css('height', height)\n",
       "\n",
       "        canvas.attr('width', width);\n",
       "        canvas.attr('height', height);\n",
       "\n",
       "        rubberband.attr('width', width);\n",
       "        rubberband.attr('height', height);\n",
       "    }\n",
       "\n",
       "    // Set the figure to an initial 600x600px, this will subsequently be updated\n",
       "    // upon first draw.\n",
       "    this._resize_canvas(600, 600);\n",
       "\n",
       "    // Disable right mouse context menu.\n",
       "    $(this.rubberband_canvas).bind(\"contextmenu\",function(e){\n",
       "        return false;\n",
       "    });\n",
       "\n",
       "    function set_focus () {\n",
       "        canvas.focus();\n",
       "        canvas_div.focus();\n",
       "    }\n",
       "\n",
       "    window.setTimeout(set_focus, 100);\n",
       "}\n",
       "\n",
       "mpl.figure.prototype._init_toolbar = function() {\n",
       "    var fig = this;\n",
       "\n",
       "    var nav_element = $('<div/>')\n",
       "    nav_element.attr('style', 'width: 100%');\n",
       "    this.root.append(nav_element);\n",
       "\n",
       "    // Define a callback function for later on.\n",
       "    function toolbar_event(event) {\n",
       "        return fig.toolbar_button_onclick(event['data']);\n",
       "    }\n",
       "    function toolbar_mouse_event(event) {\n",
       "        return fig.toolbar_button_onmouseover(event['data']);\n",
       "    }\n",
       "\n",
       "    for(var toolbar_ind in mpl.toolbar_items) {\n",
       "        var name = mpl.toolbar_items[toolbar_ind][0];\n",
       "        var tooltip = mpl.toolbar_items[toolbar_ind][1];\n",
       "        var image = mpl.toolbar_items[toolbar_ind][2];\n",
       "        var method_name = mpl.toolbar_items[toolbar_ind][3];\n",
       "\n",
       "        if (!name) {\n",
       "            // put a spacer in here.\n",
       "            continue;\n",
       "        }\n",
       "        var button = $('<button/>');\n",
       "        button.addClass('ui-button ui-widget ui-state-default ui-corner-all ' +\n",
       "                        'ui-button-icon-only');\n",
       "        button.attr('role', 'button');\n",
       "        button.attr('aria-disabled', 'false');\n",
       "        button.click(method_name, toolbar_event);\n",
       "        button.mouseover(tooltip, toolbar_mouse_event);\n",
       "\n",
       "        var icon_img = $('<span/>');\n",
       "        icon_img.addClass('ui-button-icon-primary ui-icon');\n",
       "        icon_img.addClass(image);\n",
       "        icon_img.addClass('ui-corner-all');\n",
       "\n",
       "        var tooltip_span = $('<span/>');\n",
       "        tooltip_span.addClass('ui-button-text');\n",
       "        tooltip_span.html(tooltip);\n",
       "\n",
       "        button.append(icon_img);\n",
       "        button.append(tooltip_span);\n",
       "\n",
       "        nav_element.append(button);\n",
       "    }\n",
       "\n",
       "    var fmt_picker_span = $('<span/>');\n",
       "\n",
       "    var fmt_picker = $('<select/>');\n",
       "    fmt_picker.addClass('mpl-toolbar-option ui-widget ui-widget-content');\n",
       "    fmt_picker_span.append(fmt_picker);\n",
       "    nav_element.append(fmt_picker_span);\n",
       "    this.format_dropdown = fmt_picker[0];\n",
       "\n",
       "    for (var ind in mpl.extensions) {\n",
       "        var fmt = mpl.extensions[ind];\n",
       "        var option = $(\n",
       "            '<option/>', {selected: fmt === mpl.default_extension}).html(fmt);\n",
       "        fmt_picker.append(option)\n",
       "    }\n",
       "\n",
       "    // Add hover states to the ui-buttons\n",
       "    $( \".ui-button\" ).hover(\n",
       "        function() { $(this).addClass(\"ui-state-hover\");},\n",
       "        function() { $(this).removeClass(\"ui-state-hover\");}\n",
       "    );\n",
       "\n",
       "    var status_bar = $('<span class=\"mpl-message\"/>');\n",
       "    nav_element.append(status_bar);\n",
       "    this.message = status_bar[0];\n",
       "}\n",
       "\n",
       "mpl.figure.prototype.request_resize = function(x_pixels, y_pixels) {\n",
       "    // Request matplotlib to resize the figure. Matplotlib will then trigger a resize in the client,\n",
       "    // which will in turn request a refresh of the image.\n",
       "    this.send_message('resize', {'width': x_pixels, 'height': y_pixels});\n",
       "}\n",
       "\n",
       "mpl.figure.prototype.send_message = function(type, properties) {\n",
       "    properties['type'] = type;\n",
       "    properties['figure_id'] = this.id;\n",
       "    this.ws.send(JSON.stringify(properties));\n",
       "}\n",
       "\n",
       "mpl.figure.prototype.send_draw_message = function() {\n",
       "    if (!this.waiting) {\n",
       "        this.waiting = true;\n",
       "        this.ws.send(JSON.stringify({type: \"draw\", figure_id: this.id}));\n",
       "    }\n",
       "}\n",
       "\n",
       "\n",
       "mpl.figure.prototype.handle_save = function(fig, msg) {\n",
       "    var format_dropdown = fig.format_dropdown;\n",
       "    var format = format_dropdown.options[format_dropdown.selectedIndex].value;\n",
       "    fig.ondownload(fig, format);\n",
       "}\n",
       "\n",
       "\n",
       "mpl.figure.prototype.handle_resize = function(fig, msg) {\n",
       "    var size = msg['size'];\n",
       "    if (size[0] != fig.canvas.width || size[1] != fig.canvas.height) {\n",
       "        fig._resize_canvas(size[0], size[1]);\n",
       "        fig.send_message(\"refresh\", {});\n",
       "    };\n",
       "}\n",
       "\n",
       "mpl.figure.prototype.handle_rubberband = function(fig, msg) {\n",
       "    var x0 = msg['x0'];\n",
       "    var y0 = fig.canvas.height - msg['y0'];\n",
       "    var x1 = msg['x1'];\n",
       "    var y1 = fig.canvas.height - msg['y1'];\n",
       "    x0 = Math.floor(x0) + 0.5;\n",
       "    y0 = Math.floor(y0) + 0.5;\n",
       "    x1 = Math.floor(x1) + 0.5;\n",
       "    y1 = Math.floor(y1) + 0.5;\n",
       "    var min_x = Math.min(x0, x1);\n",
       "    var min_y = Math.min(y0, y1);\n",
       "    var width = Math.abs(x1 - x0);\n",
       "    var height = Math.abs(y1 - y0);\n",
       "\n",
       "    fig.rubberband_context.clearRect(\n",
       "        0, 0, fig.canvas.width, fig.canvas.height);\n",
       "\n",
       "    fig.rubberband_context.strokeRect(min_x, min_y, width, height);\n",
       "}\n",
       "\n",
       "mpl.figure.prototype.handle_figure_label = function(fig, msg) {\n",
       "    // Updates the figure title.\n",
       "    fig.header.textContent = msg['label'];\n",
       "}\n",
       "\n",
       "mpl.figure.prototype.handle_cursor = function(fig, msg) {\n",
       "    var cursor = msg['cursor'];\n",
       "    switch(cursor)\n",
       "    {\n",
       "    case 0:\n",
       "        cursor = 'pointer';\n",
       "        break;\n",
       "    case 1:\n",
       "        cursor = 'default';\n",
       "        break;\n",
       "    case 2:\n",
       "        cursor = 'crosshair';\n",
       "        break;\n",
       "    case 3:\n",
       "        cursor = 'move';\n",
       "        break;\n",
       "    }\n",
       "    fig.rubberband_canvas.style.cursor = cursor;\n",
       "}\n",
       "\n",
       "mpl.figure.prototype.handle_message = function(fig, msg) {\n",
       "    fig.message.textContent = msg['message'];\n",
       "}\n",
       "\n",
       "mpl.figure.prototype.handle_draw = function(fig, msg) {\n",
       "    // Request the server to send over a new figure.\n",
       "    fig.send_draw_message();\n",
       "}\n",
       "\n",
       "mpl.figure.prototype.handle_image_mode = function(fig, msg) {\n",
       "    fig.image_mode = msg['mode'];\n",
       "}\n",
       "\n",
       "mpl.figure.prototype.updated_canvas_event = function() {\n",
       "    // Called whenever the canvas gets updated.\n",
       "    this.send_message(\"ack\", {});\n",
       "}\n",
       "\n",
       "// A function to construct a web socket function for onmessage handling.\n",
       "// Called in the figure constructor.\n",
       "mpl.figure.prototype._make_on_message_function = function(fig) {\n",
       "    return function socket_on_message(evt) {\n",
       "        if (evt.data instanceof Blob) {\n",
       "            /* FIXME: We get \"Resource interpreted as Image but\n",
       "             * transferred with MIME type text/plain:\" errors on\n",
       "             * Chrome.  But how to set the MIME type?  It doesn't seem\n",
       "             * to be part of the websocket stream */\n",
       "            evt.data.type = \"image/png\";\n",
       "\n",
       "            /* Free the memory for the previous frames */\n",
       "            if (fig.imageObj.src) {\n",
       "                (window.URL || window.webkitURL).revokeObjectURL(\n",
       "                    fig.imageObj.src);\n",
       "            }\n",
       "\n",
       "            fig.imageObj.src = (window.URL || window.webkitURL).createObjectURL(\n",
       "                evt.data);\n",
       "            fig.updated_canvas_event();\n",
       "            fig.waiting = false;\n",
       "            return;\n",
       "        }\n",
       "        else if (typeof evt.data === 'string' && evt.data.slice(0, 21) == \"data:image/png;base64\") {\n",
       "            fig.imageObj.src = evt.data;\n",
       "            fig.updated_canvas_event();\n",
       "            fig.waiting = false;\n",
       "            return;\n",
       "        }\n",
       "\n",
       "        var msg = JSON.parse(evt.data);\n",
       "        var msg_type = msg['type'];\n",
       "\n",
       "        // Call the  \"handle_{type}\" callback, which takes\n",
       "        // the figure and JSON message as its only arguments.\n",
       "        try {\n",
       "            var callback = fig[\"handle_\" + msg_type];\n",
       "        } catch (e) {\n",
       "            console.log(\"No handler for the '\" + msg_type + \"' message type: \", msg);\n",
       "            return;\n",
       "        }\n",
       "\n",
       "        if (callback) {\n",
       "            try {\n",
       "                // console.log(\"Handling '\" + msg_type + \"' message: \", msg);\n",
       "                callback(fig, msg);\n",
       "            } catch (e) {\n",
       "                console.log(\"Exception inside the 'handler_\" + msg_type + \"' callback:\", e, e.stack, msg);\n",
       "            }\n",
       "        }\n",
       "    };\n",
       "}\n",
       "\n",
       "// from http://stackoverflow.com/questions/1114465/getting-mouse-location-in-canvas\n",
       "mpl.findpos = function(e) {\n",
       "    //this section is from http://www.quirksmode.org/js/events_properties.html\n",
       "    var targ;\n",
       "    if (!e)\n",
       "        e = window.event;\n",
       "    if (e.target)\n",
       "        targ = e.target;\n",
       "    else if (e.srcElement)\n",
       "        targ = e.srcElement;\n",
       "    if (targ.nodeType == 3) // defeat Safari bug\n",
       "        targ = targ.parentNode;\n",
       "\n",
       "    // jQuery normalizes the pageX and pageY\n",
       "    // pageX,Y are the mouse positions relative to the document\n",
       "    // offset() returns the position of the element relative to the document\n",
       "    var x = e.pageX - $(targ).offset().left;\n",
       "    var y = e.pageY - $(targ).offset().top;\n",
       "\n",
       "    return {\"x\": x, \"y\": y};\n",
       "};\n",
       "\n",
       "/*\n",
       " * return a copy of an object with only non-object keys\n",
       " * we need this to avoid circular references\n",
       " * http://stackoverflow.com/a/24161582/3208463\n",
       " */\n",
       "function simpleKeys (original) {\n",
       "  return Object.keys(original).reduce(function (obj, key) {\n",
       "    if (typeof original[key] !== 'object')\n",
       "        obj[key] = original[key]\n",
       "    return obj;\n",
       "  }, {});\n",
       "}\n",
       "\n",
       "mpl.figure.prototype.mouse_event = function(event, name) {\n",
       "    var canvas_pos = mpl.findpos(event)\n",
       "\n",
       "    if (name === 'button_press')\n",
       "    {\n",
       "        this.canvas.focus();\n",
       "        this.canvas_div.focus();\n",
       "    }\n",
       "\n",
       "    var x = canvas_pos.x;\n",
       "    var y = canvas_pos.y;\n",
       "\n",
       "    this.send_message(name, {x: x, y: y, button: event.button,\n",
       "                             step: event.step,\n",
       "                             guiEvent: simpleKeys(event)});\n",
       "\n",
       "    /* This prevents the web browser from automatically changing to\n",
       "     * the text insertion cursor when the button is pressed.  We want\n",
       "     * to control all of the cursor setting manually through the\n",
       "     * 'cursor' event from matplotlib */\n",
       "    event.preventDefault();\n",
       "    return false;\n",
       "}\n",
       "\n",
       "mpl.figure.prototype._key_event_extra = function(event, name) {\n",
       "    // Handle any extra behaviour associated with a key event\n",
       "}\n",
       "\n",
       "mpl.figure.prototype.key_event = function(event, name) {\n",
       "\n",
       "    // Prevent repeat events\n",
       "    if (name == 'key_press')\n",
       "    {\n",
       "        if (event.which === this._key)\n",
       "            return;\n",
       "        else\n",
       "            this._key = event.which;\n",
       "    }\n",
       "    if (name == 'key_release')\n",
       "        this._key = null;\n",
       "\n",
       "    var value = '';\n",
       "    if (event.ctrlKey && event.which != 17)\n",
       "        value += \"ctrl+\";\n",
       "    if (event.altKey && event.which != 18)\n",
       "        value += \"alt+\";\n",
       "    if (event.shiftKey && event.which != 16)\n",
       "        value += \"shift+\";\n",
       "\n",
       "    value += 'k';\n",
       "    value += event.which.toString();\n",
       "\n",
       "    this._key_event_extra(event, name);\n",
       "\n",
       "    this.send_message(name, {key: value,\n",
       "                             guiEvent: simpleKeys(event)});\n",
       "    return false;\n",
       "}\n",
       "\n",
       "mpl.figure.prototype.toolbar_button_onclick = function(name) {\n",
       "    if (name == 'download') {\n",
       "        this.handle_save(this, null);\n",
       "    } else {\n",
       "        this.send_message(\"toolbar_button\", {name: name});\n",
       "    }\n",
       "};\n",
       "\n",
       "mpl.figure.prototype.toolbar_button_onmouseover = function(tooltip) {\n",
       "    this.message.textContent = tooltip;\n",
       "};\n",
       "mpl.toolbar_items = [[\"Home\", \"Reset original view\", \"fa fa-home icon-home\", \"home\"], [\"Back\", \"Back to  previous view\", \"fa fa-arrow-left icon-arrow-left\", \"back\"], [\"Forward\", \"Forward to next view\", \"fa fa-arrow-right icon-arrow-right\", \"forward\"], [\"\", \"\", \"\", \"\"], [\"Pan\", \"Pan axes with left mouse, zoom with right\", \"fa fa-arrows icon-move\", \"pan\"], [\"Zoom\", \"Zoom to rectangle\", \"fa fa-square-o icon-check-empty\", \"zoom\"], [\"\", \"\", \"\", \"\"], [\"Download\", \"Download plot\", \"fa fa-floppy-o icon-save\", \"download\"]];\n",
       "\n",
       "mpl.extensions = [\"eps\", \"jpeg\", \"pdf\", \"png\", \"ps\", \"raw\", \"svg\", \"tif\"];\n",
       "\n",
       "mpl.default_extension = \"png\";var comm_websocket_adapter = function(comm) {\n",
       "    // Create a \"websocket\"-like object which calls the given IPython comm\n",
       "    // object with the appropriate methods. Currently this is a non binary\n",
       "    // socket, so there is still some room for performance tuning.\n",
       "    var ws = {};\n",
       "\n",
       "    ws.close = function() {\n",
       "        comm.close()\n",
       "    };\n",
       "    ws.send = function(m) {\n",
       "        //console.log('sending', m);\n",
       "        comm.send(m);\n",
       "    };\n",
       "    // Register the callback with on_msg.\n",
       "    comm.on_msg(function(msg) {\n",
       "        //console.log('receiving', msg['content']['data'], msg);\n",
       "        // Pass the mpl event to the overriden (by mpl) onmessage function.\n",
       "        ws.onmessage(msg['content']['data'])\n",
       "    });\n",
       "    return ws;\n",
       "}\n",
       "\n",
       "mpl.mpl_figure_comm = function(comm, msg) {\n",
       "    // This is the function which gets called when the mpl process\n",
       "    // starts-up an IPython Comm through the \"matplotlib\" channel.\n",
       "\n",
       "    var id = msg.content.data.id;\n",
       "    // Get hold of the div created by the display call when the Comm\n",
       "    // socket was opened in Python.\n",
       "    var element = $(\"#\" + id);\n",
       "    var ws_proxy = comm_websocket_adapter(comm)\n",
       "\n",
       "    function ondownload(figure, format) {\n",
       "        window.open(figure.imageObj.src);\n",
       "    }\n",
       "\n",
       "    var fig = new mpl.figure(id, ws_proxy,\n",
       "                           ondownload,\n",
       "                           element.get(0));\n",
       "\n",
       "    // Call onopen now - mpl needs it, as it is assuming we've passed it a real\n",
       "    // web socket which is closed, not our websocket->open comm proxy.\n",
       "    ws_proxy.onopen();\n",
       "\n",
       "    fig.parent_element = element.get(0);\n",
       "    fig.cell_info = mpl.find_output_cell(\"<div id='\" + id + \"'></div>\");\n",
       "    if (!fig.cell_info) {\n",
       "        console.error(\"Failed to find cell for figure\", id, fig);\n",
       "        return;\n",
       "    }\n",
       "\n",
       "    var output_index = fig.cell_info[2]\n",
       "    var cell = fig.cell_info[0];\n",
       "\n",
       "};\n",
       "\n",
       "mpl.figure.prototype.handle_close = function(fig, msg) {\n",
       "    fig.root.unbind('remove')\n",
       "\n",
       "    // Update the output cell to use the data from the current canvas.\n",
       "    fig.push_to_output();\n",
       "    var dataURL = fig.canvas.toDataURL();\n",
       "    // Re-enable the keyboard manager in IPython - without this line, in FF,\n",
       "    // the notebook keyboard shortcuts fail.\n",
       "    IPython.keyboard_manager.enable()\n",
       "    $(fig.parent_element).html('<img src=\"' + dataURL + '\">');\n",
       "    fig.close_ws(fig, msg);\n",
       "}\n",
       "\n",
       "mpl.figure.prototype.close_ws = function(fig, msg){\n",
       "    fig.send_message('closing', msg);\n",
       "    // fig.ws.close()\n",
       "}\n",
       "\n",
       "mpl.figure.prototype.push_to_output = function(remove_interactive) {\n",
       "    // Turn the data on the canvas into data in the output cell.\n",
       "    var dataURL = this.canvas.toDataURL();\n",
       "    this.cell_info[1]['text/html'] = '<img src=\"' + dataURL + '\">';\n",
       "}\n",
       "\n",
       "mpl.figure.prototype.updated_canvas_event = function() {\n",
       "    // Tell IPython that the notebook contents must change.\n",
       "    IPython.notebook.set_dirty(true);\n",
       "    this.send_message(\"ack\", {});\n",
       "    var fig = this;\n",
       "    // Wait a second, then push the new image to the DOM so\n",
       "    // that it is saved nicely (might be nice to debounce this).\n",
       "    setTimeout(function () { fig.push_to_output() }, 1000);\n",
       "}\n",
       "\n",
       "mpl.figure.prototype._init_toolbar = function() {\n",
       "    var fig = this;\n",
       "\n",
       "    var nav_element = $('<div/>')\n",
       "    nav_element.attr('style', 'width: 100%');\n",
       "    this.root.append(nav_element);\n",
       "\n",
       "    // Define a callback function for later on.\n",
       "    function toolbar_event(event) {\n",
       "        return fig.toolbar_button_onclick(event['data']);\n",
       "    }\n",
       "    function toolbar_mouse_event(event) {\n",
       "        return fig.toolbar_button_onmouseover(event['data']);\n",
       "    }\n",
       "\n",
       "    for(var toolbar_ind in mpl.toolbar_items){\n",
       "        var name = mpl.toolbar_items[toolbar_ind][0];\n",
       "        var tooltip = mpl.toolbar_items[toolbar_ind][1];\n",
       "        var image = mpl.toolbar_items[toolbar_ind][2];\n",
       "        var method_name = mpl.toolbar_items[toolbar_ind][3];\n",
       "\n",
       "        if (!name) { continue; };\n",
       "\n",
       "        var button = $('<button class=\"btn btn-default\" href=\"#\" title=\"' + name + '\"><i class=\"fa ' + image + ' fa-lg\"></i></button>');\n",
       "        button.click(method_name, toolbar_event);\n",
       "        button.mouseover(tooltip, toolbar_mouse_event);\n",
       "        nav_element.append(button);\n",
       "    }\n",
       "\n",
       "    // Add the status bar.\n",
       "    var status_bar = $('<span class=\"mpl-message\" style=\"text-align:right; float: right;\"/>');\n",
       "    nav_element.append(status_bar);\n",
       "    this.message = status_bar[0];\n",
       "\n",
       "    // Add the close button to the window.\n",
       "    var buttongrp = $('<div class=\"btn-group inline pull-right\"></div>');\n",
       "    var button = $('<button class=\"btn btn-mini btn-primary\" href=\"#\" title=\"Stop Interaction\"><i class=\"fa fa-power-off icon-remove icon-large\"></i></button>');\n",
       "    button.click(function (evt) { fig.handle_close(fig, {}); } );\n",
       "    button.mouseover('Stop Interaction', toolbar_mouse_event);\n",
       "    buttongrp.append(button);\n",
       "    var titlebar = this.root.find($('.ui-dialog-titlebar'));\n",
       "    titlebar.prepend(buttongrp);\n",
       "}\n",
       "\n",
       "mpl.figure.prototype._root_extra_style = function(el){\n",
       "    var fig = this\n",
       "    el.on(\"remove\", function(){\n",
       "\tfig.close_ws(fig, {});\n",
       "    });\n",
       "}\n",
       "\n",
       "mpl.figure.prototype._canvas_extra_style = function(el){\n",
       "    // this is important to make the div 'focusable\n",
       "    el.attr('tabindex', 0)\n",
       "    // reach out to IPython and tell the keyboard manager to turn it's self\n",
       "    // off when our div gets focus\n",
       "\n",
       "    // location in version 3\n",
       "    if (IPython.notebook.keyboard_manager) {\n",
       "        IPython.notebook.keyboard_manager.register_events(el);\n",
       "    }\n",
       "    else {\n",
       "        // location in version 2\n",
       "        IPython.keyboard_manager.register_events(el);\n",
       "    }\n",
       "\n",
       "}\n",
       "\n",
       "mpl.figure.prototype._key_event_extra = function(event, name) {\n",
       "    var manager = IPython.notebook.keyboard_manager;\n",
       "    if (!manager)\n",
       "        manager = IPython.keyboard_manager;\n",
       "\n",
       "    // Check for shift+enter\n",
       "    if (event.shiftKey && event.which == 13) {\n",
       "        this.canvas_div.blur();\n",
       "        event.shiftKey = false;\n",
       "        // Send a \"J\" for go to next cell\n",
       "        event.which = 74;\n",
       "        event.keyCode = 74;\n",
       "        manager.command_mode();\n",
       "        manager.handle_keydown(event);\n",
       "    }\n",
       "}\n",
       "\n",
       "mpl.figure.prototype.handle_save = function(fig, msg) {\n",
       "    fig.ondownload(fig, null);\n",
       "}\n",
       "\n",
       "\n",
       "mpl.find_output_cell = function(html_output) {\n",
       "    // Return the cell and output element which can be found *uniquely* in the notebook.\n",
       "    // Note - this is a bit hacky, but it is done because the \"notebook_saving.Notebook\"\n",
       "    // IPython event is triggered only after the cells have been serialised, which for\n",
       "    // our purposes (turning an active figure into a static one), is too late.\n",
       "    var cells = IPython.notebook.get_cells();\n",
       "    var ncells = cells.length;\n",
       "    for (var i=0; i<ncells; i++) {\n",
       "        var cell = cells[i];\n",
       "        if (cell.cell_type === 'code'){\n",
       "            for (var j=0; j<cell.output_area.outputs.length; j++) {\n",
       "                var data = cell.output_area.outputs[j];\n",
       "                if (data.data) {\n",
       "                    // IPython >= 3 moved mimebundle to data attribute of output\n",
       "                    data = data.data;\n",
       "                }\n",
       "                if (data['text/html'] == html_output) {\n",
       "                    return [cell, data, j];\n",
       "                }\n",
       "            }\n",
       "        }\n",
       "    }\n",
       "}\n",
       "\n",
       "// Register the function which deals with the matplotlib target/channel.\n",
       "// The kernel may be null if the page has been refreshed.\n",
       "if (IPython.notebook.kernel != null) {\n",
       "    IPython.notebook.kernel.comm_manager.register_target('matplotlib', mpl.mpl_figure_comm);\n",
       "}\n"
      ],
      "text/plain": [
       "<IPython.core.display.Javascript object>"
      ]
     },
     "metadata": {},
     "output_type": "display_data"
    },
    {
     "data": {
      "text/html": [
       "<img src=\"data:image/png;base64,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\">"
      ],
      "text/plain": [
       "<IPython.core.display.HTML object>"
      ]
     },
     "metadata": {},
     "output_type": "display_data"
    }
   ],
   "source": [
    "reload(vetter)\n",
    "vetter.fig_dzdnhi(ml_survey, sdssdr5, midx, outfil=None)"
   ]
  },
  {
   "cell_type": "markdown",
   "metadata": {},
   "source": [
    "#### False Negatives"
   ]
  },
  {
   "cell_type": "code",
   "execution_count": 92,
   "metadata": {
    "collapsed": false
   },
   "outputs": [
    {
     "data": {
      "application/javascript": [
       "/* Put everything inside the global mpl namespace */\n",
       "window.mpl = {};\n",
       "\n",
       "mpl.get_websocket_type = function() {\n",
       "    if (typeof(WebSocket) !== 'undefined') {\n",
       "        return WebSocket;\n",
       "    } else if (typeof(MozWebSocket) !== 'undefined') {\n",
       "        return MozWebSocket;\n",
       "    } else {\n",
       "        alert('Your browser does not have WebSocket support.' +\n",
       "              'Please try Chrome, Safari or Firefox ≥ 6. ' +\n",
       "              'Firefox 4 and 5 are also supported but you ' +\n",
       "              'have to enable WebSockets in about:config.');\n",
       "    };\n",
       "}\n",
       "\n",
       "mpl.figure = function(figure_id, websocket, ondownload, parent_element) {\n",
       "    this.id = figure_id;\n",
       "\n",
       "    this.ws = websocket;\n",
       "\n",
       "    this.supports_binary = (this.ws.binaryType != undefined);\n",
       "\n",
       "    if (!this.supports_binary) {\n",
       "        var warnings = document.getElementById(\"mpl-warnings\");\n",
       "        if (warnings) {\n",
       "            warnings.style.display = 'block';\n",
       "            warnings.textContent = (\n",
       "                \"This browser does not support binary websocket messages. \" +\n",
       "                    \"Performance may be slow.\");\n",
       "        }\n",
       "    }\n",
       "\n",
       "    this.imageObj = new Image();\n",
       "\n",
       "    this.context = undefined;\n",
       "    this.message = undefined;\n",
       "    this.canvas = undefined;\n",
       "    this.rubberband_canvas = undefined;\n",
       "    this.rubberband_context = undefined;\n",
       "    this.format_dropdown = undefined;\n",
       "\n",
       "    this.image_mode = 'full';\n",
       "\n",
       "    this.root = $('<div/>');\n",
       "    this._root_extra_style(this.root)\n",
       "    this.root.attr('style', 'display: inline-block');\n",
       "\n",
       "    $(parent_element).append(this.root);\n",
       "\n",
       "    this._init_header(this);\n",
       "    this._init_canvas(this);\n",
       "    this._init_toolbar(this);\n",
       "\n",
       "    var fig = this;\n",
       "\n",
       "    this.waiting = false;\n",
       "\n",
       "    this.ws.onopen =  function () {\n",
       "            fig.send_message(\"supports_binary\", {value: fig.supports_binary});\n",
       "            fig.send_message(\"send_image_mode\", {});\n",
       "            fig.send_message(\"refresh\", {});\n",
       "        }\n",
       "\n",
       "    this.imageObj.onload = function() {\n",
       "            if (fig.image_mode == 'full') {\n",
       "                // Full images could contain transparency (where diff images\n",
       "                // almost always do), so we need to clear the canvas so that\n",
       "                // there is no ghosting.\n",
       "                fig.context.clearRect(0, 0, fig.canvas.width, fig.canvas.height);\n",
       "            }\n",
       "            fig.context.drawImage(fig.imageObj, 0, 0);\n",
       "        };\n",
       "\n",
       "    this.imageObj.onunload = function() {\n",
       "        this.ws.close();\n",
       "    }\n",
       "\n",
       "    this.ws.onmessage = this._make_on_message_function(this);\n",
       "\n",
       "    this.ondownload = ondownload;\n",
       "}\n",
       "\n",
       "mpl.figure.prototype._init_header = function() {\n",
       "    var titlebar = $(\n",
       "        '<div class=\"ui-dialog-titlebar ui-widget-header ui-corner-all ' +\n",
       "        'ui-helper-clearfix\"/>');\n",
       "    var titletext = $(\n",
       "        '<div class=\"ui-dialog-title\" style=\"width: 100%; ' +\n",
       "        'text-align: center; padding: 3px;\"/>');\n",
       "    titlebar.append(titletext)\n",
       "    this.root.append(titlebar);\n",
       "    this.header = titletext[0];\n",
       "}\n",
       "\n",
       "\n",
       "\n",
       "mpl.figure.prototype._canvas_extra_style = function(canvas_div) {\n",
       "\n",
       "}\n",
       "\n",
       "\n",
       "mpl.figure.prototype._root_extra_style = function(canvas_div) {\n",
       "\n",
       "}\n",
       "\n",
       "mpl.figure.prototype._init_canvas = function() {\n",
       "    var fig = this;\n",
       "\n",
       "    var canvas_div = $('<div/>');\n",
       "\n",
       "    canvas_div.attr('style', 'position: relative; clear: both; outline: 0');\n",
       "\n",
       "    function canvas_keyboard_event(event) {\n",
       "        return fig.key_event(event, event['data']);\n",
       "    }\n",
       "\n",
       "    canvas_div.keydown('key_press', canvas_keyboard_event);\n",
       "    canvas_div.keyup('key_release', canvas_keyboard_event);\n",
       "    this.canvas_div = canvas_div\n",
       "    this._canvas_extra_style(canvas_div)\n",
       "    this.root.append(canvas_div);\n",
       "\n",
       "    var canvas = $('<canvas/>');\n",
       "    canvas.addClass('mpl-canvas');\n",
       "    canvas.attr('style', \"left: 0; top: 0; z-index: 0; outline: 0\")\n",
       "\n",
       "    this.canvas = canvas[0];\n",
       "    this.context = canvas[0].getContext(\"2d\");\n",
       "\n",
       "    var rubberband = $('<canvas/>');\n",
       "    rubberband.attr('style', \"position: absolute; left: 0; top: 0; z-index: 1;\")\n",
       "\n",
       "    var pass_mouse_events = true;\n",
       "\n",
       "    canvas_div.resizable({\n",
       "        start: function(event, ui) {\n",
       "            pass_mouse_events = false;\n",
       "        },\n",
       "        resize: function(event, ui) {\n",
       "            fig.request_resize(ui.size.width, ui.size.height);\n",
       "        },\n",
       "        stop: function(event, ui) {\n",
       "            pass_mouse_events = true;\n",
       "            fig.request_resize(ui.size.width, ui.size.height);\n",
       "        },\n",
       "    });\n",
       "\n",
       "    function mouse_event_fn(event) {\n",
       "        if (pass_mouse_events)\n",
       "            return fig.mouse_event(event, event['data']);\n",
       "    }\n",
       "\n",
       "    rubberband.mousedown('button_press', mouse_event_fn);\n",
       "    rubberband.mouseup('button_release', mouse_event_fn);\n",
       "    // Throttle sequential mouse events to 1 every 20ms.\n",
       "    rubberband.mousemove('motion_notify', mouse_event_fn);\n",
       "\n",
       "    rubberband.mouseenter('figure_enter', mouse_event_fn);\n",
       "    rubberband.mouseleave('figure_leave', mouse_event_fn);\n",
       "\n",
       "    canvas_div.on(\"wheel\", function (event) {\n",
       "        event = event.originalEvent;\n",
       "        event['data'] = 'scroll'\n",
       "        if (event.deltaY < 0) {\n",
       "            event.step = 1;\n",
       "        } else {\n",
       "            event.step = -1;\n",
       "        }\n",
       "        mouse_event_fn(event);\n",
       "    });\n",
       "\n",
       "    canvas_div.append(canvas);\n",
       "    canvas_div.append(rubberband);\n",
       "\n",
       "    this.rubberband = rubberband;\n",
       "    this.rubberband_canvas = rubberband[0];\n",
       "    this.rubberband_context = rubberband[0].getContext(\"2d\");\n",
       "    this.rubberband_context.strokeStyle = \"#000000\";\n",
       "\n",
       "    this._resize_canvas = function(width, height) {\n",
       "        // Keep the size of the canvas, canvas container, and rubber band\n",
       "        // canvas in synch.\n",
       "        canvas_div.css('width', width)\n",
       "        canvas_div.css('height', height)\n",
       "\n",
       "        canvas.attr('width', width);\n",
       "        canvas.attr('height', height);\n",
       "\n",
       "        rubberband.attr('width', width);\n",
       "        rubberband.attr('height', height);\n",
       "    }\n",
       "\n",
       "    // Set the figure to an initial 600x600px, this will subsequently be updated\n",
       "    // upon first draw.\n",
       "    this._resize_canvas(600, 600);\n",
       "\n",
       "    // Disable right mouse context menu.\n",
       "    $(this.rubberband_canvas).bind(\"contextmenu\",function(e){\n",
       "        return false;\n",
       "    });\n",
       "\n",
       "    function set_focus () {\n",
       "        canvas.focus();\n",
       "        canvas_div.focus();\n",
       "    }\n",
       "\n",
       "    window.setTimeout(set_focus, 100);\n",
       "}\n",
       "\n",
       "mpl.figure.prototype._init_toolbar = function() {\n",
       "    var fig = this;\n",
       "\n",
       "    var nav_element = $('<div/>')\n",
       "    nav_element.attr('style', 'width: 100%');\n",
       "    this.root.append(nav_element);\n",
       "\n",
       "    // Define a callback function for later on.\n",
       "    function toolbar_event(event) {\n",
       "        return fig.toolbar_button_onclick(event['data']);\n",
       "    }\n",
       "    function toolbar_mouse_event(event) {\n",
       "        return fig.toolbar_button_onmouseover(event['data']);\n",
       "    }\n",
       "\n",
       "    for(var toolbar_ind in mpl.toolbar_items) {\n",
       "        var name = mpl.toolbar_items[toolbar_ind][0];\n",
       "        var tooltip = mpl.toolbar_items[toolbar_ind][1];\n",
       "        var image = mpl.toolbar_items[toolbar_ind][2];\n",
       "        var method_name = mpl.toolbar_items[toolbar_ind][3];\n",
       "\n",
       "        if (!name) {\n",
       "            // put a spacer in here.\n",
       "            continue;\n",
       "        }\n",
       "        var button = $('<button/>');\n",
       "        button.addClass('ui-button ui-widget ui-state-default ui-corner-all ' +\n",
       "                        'ui-button-icon-only');\n",
       "        button.attr('role', 'button');\n",
       "        button.attr('aria-disabled', 'false');\n",
       "        button.click(method_name, toolbar_event);\n",
       "        button.mouseover(tooltip, toolbar_mouse_event);\n",
       "\n",
       "        var icon_img = $('<span/>');\n",
       "        icon_img.addClass('ui-button-icon-primary ui-icon');\n",
       "        icon_img.addClass(image);\n",
       "        icon_img.addClass('ui-corner-all');\n",
       "\n",
       "        var tooltip_span = $('<span/>');\n",
       "        tooltip_span.addClass('ui-button-text');\n",
       "        tooltip_span.html(tooltip);\n",
       "\n",
       "        button.append(icon_img);\n",
       "        button.append(tooltip_span);\n",
       "\n",
       "        nav_element.append(button);\n",
       "    }\n",
       "\n",
       "    var fmt_picker_span = $('<span/>');\n",
       "\n",
       "    var fmt_picker = $('<select/>');\n",
       "    fmt_picker.addClass('mpl-toolbar-option ui-widget ui-widget-content');\n",
       "    fmt_picker_span.append(fmt_picker);\n",
       "    nav_element.append(fmt_picker_span);\n",
       "    this.format_dropdown = fmt_picker[0];\n",
       "\n",
       "    for (var ind in mpl.extensions) {\n",
       "        var fmt = mpl.extensions[ind];\n",
       "        var option = $(\n",
       "            '<option/>', {selected: fmt === mpl.default_extension}).html(fmt);\n",
       "        fmt_picker.append(option)\n",
       "    }\n",
       "\n",
       "    // Add hover states to the ui-buttons\n",
       "    $( \".ui-button\" ).hover(\n",
       "        function() { $(this).addClass(\"ui-state-hover\");},\n",
       "        function() { $(this).removeClass(\"ui-state-hover\");}\n",
       "    );\n",
       "\n",
       "    var status_bar = $('<span class=\"mpl-message\"/>');\n",
       "    nav_element.append(status_bar);\n",
       "    this.message = status_bar[0];\n",
       "}\n",
       "\n",
       "mpl.figure.prototype.request_resize = function(x_pixels, y_pixels) {\n",
       "    // Request matplotlib to resize the figure. Matplotlib will then trigger a resize in the client,\n",
       "    // which will in turn request a refresh of the image.\n",
       "    this.send_message('resize', {'width': x_pixels, 'height': y_pixels});\n",
       "}\n",
       "\n",
       "mpl.figure.prototype.send_message = function(type, properties) {\n",
       "    properties['type'] = type;\n",
       "    properties['figure_id'] = this.id;\n",
       "    this.ws.send(JSON.stringify(properties));\n",
       "}\n",
       "\n",
       "mpl.figure.prototype.send_draw_message = function() {\n",
       "    if (!this.waiting) {\n",
       "        this.waiting = true;\n",
       "        this.ws.send(JSON.stringify({type: \"draw\", figure_id: this.id}));\n",
       "    }\n",
       "}\n",
       "\n",
       "\n",
       "mpl.figure.prototype.handle_save = function(fig, msg) {\n",
       "    var format_dropdown = fig.format_dropdown;\n",
       "    var format = format_dropdown.options[format_dropdown.selectedIndex].value;\n",
       "    fig.ondownload(fig, format);\n",
       "}\n",
       "\n",
       "\n",
       "mpl.figure.prototype.handle_resize = function(fig, msg) {\n",
       "    var size = msg['size'];\n",
       "    if (size[0] != fig.canvas.width || size[1] != fig.canvas.height) {\n",
       "        fig._resize_canvas(size[0], size[1]);\n",
       "        fig.send_message(\"refresh\", {});\n",
       "    };\n",
       "}\n",
       "\n",
       "mpl.figure.prototype.handle_rubberband = function(fig, msg) {\n",
       "    var x0 = msg['x0'];\n",
       "    var y0 = fig.canvas.height - msg['y0'];\n",
       "    var x1 = msg['x1'];\n",
       "    var y1 = fig.canvas.height - msg['y1'];\n",
       "    x0 = Math.floor(x0) + 0.5;\n",
       "    y0 = Math.floor(y0) + 0.5;\n",
       "    x1 = Math.floor(x1) + 0.5;\n",
       "    y1 = Math.floor(y1) + 0.5;\n",
       "    var min_x = Math.min(x0, x1);\n",
       "    var min_y = Math.min(y0, y1);\n",
       "    var width = Math.abs(x1 - x0);\n",
       "    var height = Math.abs(y1 - y0);\n",
       "\n",
       "    fig.rubberband_context.clearRect(\n",
       "        0, 0, fig.canvas.width, fig.canvas.height);\n",
       "\n",
       "    fig.rubberband_context.strokeRect(min_x, min_y, width, height);\n",
       "}\n",
       "\n",
       "mpl.figure.prototype.handle_figure_label = function(fig, msg) {\n",
       "    // Updates the figure title.\n",
       "    fig.header.textContent = msg['label'];\n",
       "}\n",
       "\n",
       "mpl.figure.prototype.handle_cursor = function(fig, msg) {\n",
       "    var cursor = msg['cursor'];\n",
       "    switch(cursor)\n",
       "    {\n",
       "    case 0:\n",
       "        cursor = 'pointer';\n",
       "        break;\n",
       "    case 1:\n",
       "        cursor = 'default';\n",
       "        break;\n",
       "    case 2:\n",
       "        cursor = 'crosshair';\n",
       "        break;\n",
       "    case 3:\n",
       "        cursor = 'move';\n",
       "        break;\n",
       "    }\n",
       "    fig.rubberband_canvas.style.cursor = cursor;\n",
       "}\n",
       "\n",
       "mpl.figure.prototype.handle_message = function(fig, msg) {\n",
       "    fig.message.textContent = msg['message'];\n",
       "}\n",
       "\n",
       "mpl.figure.prototype.handle_draw = function(fig, msg) {\n",
       "    // Request the server to send over a new figure.\n",
       "    fig.send_draw_message();\n",
       "}\n",
       "\n",
       "mpl.figure.prototype.handle_image_mode = function(fig, msg) {\n",
       "    fig.image_mode = msg['mode'];\n",
       "}\n",
       "\n",
       "mpl.figure.prototype.updated_canvas_event = function() {\n",
       "    // Called whenever the canvas gets updated.\n",
       "    this.send_message(\"ack\", {});\n",
       "}\n",
       "\n",
       "// A function to construct a web socket function for onmessage handling.\n",
       "// Called in the figure constructor.\n",
       "mpl.figure.prototype._make_on_message_function = function(fig) {\n",
       "    return function socket_on_message(evt) {\n",
       "        if (evt.data instanceof Blob) {\n",
       "            /* FIXME: We get \"Resource interpreted as Image but\n",
       "             * transferred with MIME type text/plain:\" errors on\n",
       "             * Chrome.  But how to set the MIME type?  It doesn't seem\n",
       "             * to be part of the websocket stream */\n",
       "            evt.data.type = \"image/png\";\n",
       "\n",
       "            /* Free the memory for the previous frames */\n",
       "            if (fig.imageObj.src) {\n",
       "                (window.URL || window.webkitURL).revokeObjectURL(\n",
       "                    fig.imageObj.src);\n",
       "            }\n",
       "\n",
       "            fig.imageObj.src = (window.URL || window.webkitURL).createObjectURL(\n",
       "                evt.data);\n",
       "            fig.updated_canvas_event();\n",
       "            fig.waiting = false;\n",
       "            return;\n",
       "        }\n",
       "        else if (typeof evt.data === 'string' && evt.data.slice(0, 21) == \"data:image/png;base64\") {\n",
       "            fig.imageObj.src = evt.data;\n",
       "            fig.updated_canvas_event();\n",
       "            fig.waiting = false;\n",
       "            return;\n",
       "        }\n",
       "\n",
       "        var msg = JSON.parse(evt.data);\n",
       "        var msg_type = msg['type'];\n",
       "\n",
       "        // Call the  \"handle_{type}\" callback, which takes\n",
       "        // the figure and JSON message as its only arguments.\n",
       "        try {\n",
       "            var callback = fig[\"handle_\" + msg_type];\n",
       "        } catch (e) {\n",
       "            console.log(\"No handler for the '\" + msg_type + \"' message type: \", msg);\n",
       "            return;\n",
       "        }\n",
       "\n",
       "        if (callback) {\n",
       "            try {\n",
       "                // console.log(\"Handling '\" + msg_type + \"' message: \", msg);\n",
       "                callback(fig, msg);\n",
       "            } catch (e) {\n",
       "                console.log(\"Exception inside the 'handler_\" + msg_type + \"' callback:\", e, e.stack, msg);\n",
       "            }\n",
       "        }\n",
       "    };\n",
       "}\n",
       "\n",
       "// from http://stackoverflow.com/questions/1114465/getting-mouse-location-in-canvas\n",
       "mpl.findpos = function(e) {\n",
       "    //this section is from http://www.quirksmode.org/js/events_properties.html\n",
       "    var targ;\n",
       "    if (!e)\n",
       "        e = window.event;\n",
       "    if (e.target)\n",
       "        targ = e.target;\n",
       "    else if (e.srcElement)\n",
       "        targ = e.srcElement;\n",
       "    if (targ.nodeType == 3) // defeat Safari bug\n",
       "        targ = targ.parentNode;\n",
       "\n",
       "    // jQuery normalizes the pageX and pageY\n",
       "    // pageX,Y are the mouse positions relative to the document\n",
       "    // offset() returns the position of the element relative to the document\n",
       "    var x = e.pageX - $(targ).offset().left;\n",
       "    var y = e.pageY - $(targ).offset().top;\n",
       "\n",
       "    return {\"x\": x, \"y\": y};\n",
       "};\n",
       "\n",
       "/*\n",
       " * return a copy of an object with only non-object keys\n",
       " * we need this to avoid circular references\n",
       " * http://stackoverflow.com/a/24161582/3208463\n",
       " */\n",
       "function simpleKeys (original) {\n",
       "  return Object.keys(original).reduce(function (obj, key) {\n",
       "    if (typeof original[key] !== 'object')\n",
       "        obj[key] = original[key]\n",
       "    return obj;\n",
       "  }, {});\n",
       "}\n",
       "\n",
       "mpl.figure.prototype.mouse_event = function(event, name) {\n",
       "    var canvas_pos = mpl.findpos(event)\n",
       "\n",
       "    if (name === 'button_press')\n",
       "    {\n",
       "        this.canvas.focus();\n",
       "        this.canvas_div.focus();\n",
       "    }\n",
       "\n",
       "    var x = canvas_pos.x;\n",
       "    var y = canvas_pos.y;\n",
       "\n",
       "    this.send_message(name, {x: x, y: y, button: event.button,\n",
       "                             step: event.step,\n",
       "                             guiEvent: simpleKeys(event)});\n",
       "\n",
       "    /* This prevents the web browser from automatically changing to\n",
       "     * the text insertion cursor when the button is pressed.  We want\n",
       "     * to control all of the cursor setting manually through the\n",
       "     * 'cursor' event from matplotlib */\n",
       "    event.preventDefault();\n",
       "    return false;\n",
       "}\n",
       "\n",
       "mpl.figure.prototype._key_event_extra = function(event, name) {\n",
       "    // Handle any extra behaviour associated with a key event\n",
       "}\n",
       "\n",
       "mpl.figure.prototype.key_event = function(event, name) {\n",
       "\n",
       "    // Prevent repeat events\n",
       "    if (name == 'key_press')\n",
       "    {\n",
       "        if (event.which === this._key)\n",
       "            return;\n",
       "        else\n",
       "            this._key = event.which;\n",
       "    }\n",
       "    if (name == 'key_release')\n",
       "        this._key = null;\n",
       "\n",
       "    var value = '';\n",
       "    if (event.ctrlKey && event.which != 17)\n",
       "        value += \"ctrl+\";\n",
       "    if (event.altKey && event.which != 18)\n",
       "        value += \"alt+\";\n",
       "    if (event.shiftKey && event.which != 16)\n",
       "        value += \"shift+\";\n",
       "\n",
       "    value += 'k';\n",
       "    value += event.which.toString();\n",
       "\n",
       "    this._key_event_extra(event, name);\n",
       "\n",
       "    this.send_message(name, {key: value,\n",
       "                             guiEvent: simpleKeys(event)});\n",
       "    return false;\n",
       "}\n",
       "\n",
       "mpl.figure.prototype.toolbar_button_onclick = function(name) {\n",
       "    if (name == 'download') {\n",
       "        this.handle_save(this, null);\n",
       "    } else {\n",
       "        this.send_message(\"toolbar_button\", {name: name});\n",
       "    }\n",
       "};\n",
       "\n",
       "mpl.figure.prototype.toolbar_button_onmouseover = function(tooltip) {\n",
       "    this.message.textContent = tooltip;\n",
       "};\n",
       "mpl.toolbar_items = [[\"Home\", \"Reset original view\", \"fa fa-home icon-home\", \"home\"], [\"Back\", \"Back to  previous view\", \"fa fa-arrow-left icon-arrow-left\", \"back\"], [\"Forward\", \"Forward to next view\", \"fa fa-arrow-right icon-arrow-right\", \"forward\"], [\"\", \"\", \"\", \"\"], [\"Pan\", \"Pan axes with left mouse, zoom with right\", \"fa fa-arrows icon-move\", \"pan\"], [\"Zoom\", \"Zoom to rectangle\", \"fa fa-square-o icon-check-empty\", \"zoom\"], [\"\", \"\", \"\", \"\"], [\"Download\", \"Download plot\", \"fa fa-floppy-o icon-save\", \"download\"]];\n",
       "\n",
       "mpl.extensions = [\"eps\", \"jpeg\", \"pdf\", \"png\", \"ps\", \"raw\", \"svg\", \"tif\"];\n",
       "\n",
       "mpl.default_extension = \"png\";var comm_websocket_adapter = function(comm) {\n",
       "    // Create a \"websocket\"-like object which calls the given IPython comm\n",
       "    // object with the appropriate methods. Currently this is a non binary\n",
       "    // socket, so there is still some room for performance tuning.\n",
       "    var ws = {};\n",
       "\n",
       "    ws.close = function() {\n",
       "        comm.close()\n",
       "    };\n",
       "    ws.send = function(m) {\n",
       "        //console.log('sending', m);\n",
       "        comm.send(m);\n",
       "    };\n",
       "    // Register the callback with on_msg.\n",
       "    comm.on_msg(function(msg) {\n",
       "        //console.log('receiving', msg['content']['data'], msg);\n",
       "        // Pass the mpl event to the overriden (by mpl) onmessage function.\n",
       "        ws.onmessage(msg['content']['data'])\n",
       "    });\n",
       "    return ws;\n",
       "}\n",
       "\n",
       "mpl.mpl_figure_comm = function(comm, msg) {\n",
       "    // This is the function which gets called when the mpl process\n",
       "    // starts-up an IPython Comm through the \"matplotlib\" channel.\n",
       "\n",
       "    var id = msg.content.data.id;\n",
       "    // Get hold of the div created by the display call when the Comm\n",
       "    // socket was opened in Python.\n",
       "    var element = $(\"#\" + id);\n",
       "    var ws_proxy = comm_websocket_adapter(comm)\n",
       "\n",
       "    function ondownload(figure, format) {\n",
       "        window.open(figure.imageObj.src);\n",
       "    }\n",
       "\n",
       "    var fig = new mpl.figure(id, ws_proxy,\n",
       "                           ondownload,\n",
       "                           element.get(0));\n",
       "\n",
       "    // Call onopen now - mpl needs it, as it is assuming we've passed it a real\n",
       "    // web socket which is closed, not our websocket->open comm proxy.\n",
       "    ws_proxy.onopen();\n",
       "\n",
       "    fig.parent_element = element.get(0);\n",
       "    fig.cell_info = mpl.find_output_cell(\"<div id='\" + id + \"'></div>\");\n",
       "    if (!fig.cell_info) {\n",
       "        console.error(\"Failed to find cell for figure\", id, fig);\n",
       "        return;\n",
       "    }\n",
       "\n",
       "    var output_index = fig.cell_info[2]\n",
       "    var cell = fig.cell_info[0];\n",
       "\n",
       "};\n",
       "\n",
       "mpl.figure.prototype.handle_close = function(fig, msg) {\n",
       "    fig.root.unbind('remove')\n",
       "\n",
       "    // Update the output cell to use the data from the current canvas.\n",
       "    fig.push_to_output();\n",
       "    var dataURL = fig.canvas.toDataURL();\n",
       "    // Re-enable the keyboard manager in IPython - without this line, in FF,\n",
       "    // the notebook keyboard shortcuts fail.\n",
       "    IPython.keyboard_manager.enable()\n",
       "    $(fig.parent_element).html('<img src=\"' + dataURL + '\">');\n",
       "    fig.close_ws(fig, msg);\n",
       "}\n",
       "\n",
       "mpl.figure.prototype.close_ws = function(fig, msg){\n",
       "    fig.send_message('closing', msg);\n",
       "    // fig.ws.close()\n",
       "}\n",
       "\n",
       "mpl.figure.prototype.push_to_output = function(remove_interactive) {\n",
       "    // Turn the data on the canvas into data in the output cell.\n",
       "    var dataURL = this.canvas.toDataURL();\n",
       "    this.cell_info[1]['text/html'] = '<img src=\"' + dataURL + '\">';\n",
       "}\n",
       "\n",
       "mpl.figure.prototype.updated_canvas_event = function() {\n",
       "    // Tell IPython that the notebook contents must change.\n",
       "    IPython.notebook.set_dirty(true);\n",
       "    this.send_message(\"ack\", {});\n",
       "    var fig = this;\n",
       "    // Wait a second, then push the new image to the DOM so\n",
       "    // that it is saved nicely (might be nice to debounce this).\n",
       "    setTimeout(function () { fig.push_to_output() }, 1000);\n",
       "}\n",
       "\n",
       "mpl.figure.prototype._init_toolbar = function() {\n",
       "    var fig = this;\n",
       "\n",
       "    var nav_element = $('<div/>')\n",
       "    nav_element.attr('style', 'width: 100%');\n",
       "    this.root.append(nav_element);\n",
       "\n",
       "    // Define a callback function for later on.\n",
       "    function toolbar_event(event) {\n",
       "        return fig.toolbar_button_onclick(event['data']);\n",
       "    }\n",
       "    function toolbar_mouse_event(event) {\n",
       "        return fig.toolbar_button_onmouseover(event['data']);\n",
       "    }\n",
       "\n",
       "    for(var toolbar_ind in mpl.toolbar_items){\n",
       "        var name = mpl.toolbar_items[toolbar_ind][0];\n",
       "        var tooltip = mpl.toolbar_items[toolbar_ind][1];\n",
       "        var image = mpl.toolbar_items[toolbar_ind][2];\n",
       "        var method_name = mpl.toolbar_items[toolbar_ind][3];\n",
       "\n",
       "        if (!name) { continue; };\n",
       "\n",
       "        var button = $('<button class=\"btn btn-default\" href=\"#\" title=\"' + name + '\"><i class=\"fa ' + image + ' fa-lg\"></i></button>');\n",
       "        button.click(method_name, toolbar_event);\n",
       "        button.mouseover(tooltip, toolbar_mouse_event);\n",
       "        nav_element.append(button);\n",
       "    }\n",
       "\n",
       "    // Add the status bar.\n",
       "    var status_bar = $('<span class=\"mpl-message\" style=\"text-align:right; float: right;\"/>');\n",
       "    nav_element.append(status_bar);\n",
       "    this.message = status_bar[0];\n",
       "\n",
       "    // Add the close button to the window.\n",
       "    var buttongrp = $('<div class=\"btn-group inline pull-right\"></div>');\n",
       "    var button = $('<button class=\"btn btn-mini btn-primary\" href=\"#\" title=\"Stop Interaction\"><i class=\"fa fa-power-off icon-remove icon-large\"></i></button>');\n",
       "    button.click(function (evt) { fig.handle_close(fig, {}); } );\n",
       "    button.mouseover('Stop Interaction', toolbar_mouse_event);\n",
       "    buttongrp.append(button);\n",
       "    var titlebar = this.root.find($('.ui-dialog-titlebar'));\n",
       "    titlebar.prepend(buttongrp);\n",
       "}\n",
       "\n",
       "mpl.figure.prototype._root_extra_style = function(el){\n",
       "    var fig = this\n",
       "    el.on(\"remove\", function(){\n",
       "\tfig.close_ws(fig, {});\n",
       "    });\n",
       "}\n",
       "\n",
       "mpl.figure.prototype._canvas_extra_style = function(el){\n",
       "    // this is important to make the div 'focusable\n",
       "    el.attr('tabindex', 0)\n",
       "    // reach out to IPython and tell the keyboard manager to turn it's self\n",
       "    // off when our div gets focus\n",
       "\n",
       "    // location in version 3\n",
       "    if (IPython.notebook.keyboard_manager) {\n",
       "        IPython.notebook.keyboard_manager.register_events(el);\n",
       "    }\n",
       "    else {\n",
       "        // location in version 2\n",
       "        IPython.keyboard_manager.register_events(el);\n",
       "    }\n",
       "\n",
       "}\n",
       "\n",
       "mpl.figure.prototype._key_event_extra = function(event, name) {\n",
       "    var manager = IPython.notebook.keyboard_manager;\n",
       "    if (!manager)\n",
       "        manager = IPython.keyboard_manager;\n",
       "\n",
       "    // Check for shift+enter\n",
       "    if (event.shiftKey && event.which == 13) {\n",
       "        this.canvas_div.blur();\n",
       "        event.shiftKey = false;\n",
       "        // Send a \"J\" for go to next cell\n",
       "        event.which = 74;\n",
       "        event.keyCode = 74;\n",
       "        manager.command_mode();\n",
       "        manager.handle_keydown(event);\n",
       "    }\n",
       "}\n",
       "\n",
       "mpl.figure.prototype.handle_save = function(fig, msg) {\n",
       "    fig.ondownload(fig, null);\n",
       "}\n",
       "\n",
       "\n",
       "mpl.find_output_cell = function(html_output) {\n",
       "    // Return the cell and output element which can be found *uniquely* in the notebook.\n",
       "    // Note - this is a bit hacky, but it is done because the \"notebook_saving.Notebook\"\n",
       "    // IPython event is triggered only after the cells have been serialised, which for\n",
       "    // our purposes (turning an active figure into a static one), is too late.\n",
       "    var cells = IPython.notebook.get_cells();\n",
       "    var ncells = cells.length;\n",
       "    for (var i=0; i<ncells; i++) {\n",
       "        var cell = cells[i];\n",
       "        if (cell.cell_type === 'code'){\n",
       "            for (var j=0; j<cell.output_area.outputs.length; j++) {\n",
       "                var data = cell.output_area.outputs[j];\n",
       "                if (data.data) {\n",
       "                    // IPython >= 3 moved mimebundle to data attribute of output\n",
       "                    data = data.data;\n",
       "                }\n",
       "                if (data['text/html'] == html_output) {\n",
       "                    return [cell, data, j];\n",
       "                }\n",
       "            }\n",
       "        }\n",
       "    }\n",
       "}\n",
       "\n",
       "// Register the function which deals with the matplotlib target/channel.\n",
       "// The kernel may be null if the page has been refreshed.\n",
       "if (IPython.notebook.kernel != null) {\n",
       "    IPython.notebook.kernel.comm_manager.register_target('matplotlib', mpl.mpl_figure_comm);\n",
       "}\n"
      ],
      "text/plain": [
       "<IPython.core.display.Javascript object>"
      ]
     },
     "metadata": {},
     "output_type": "display_data"
    },
    {
     "data": {
      "text/html": [
       "<img src=\"data:image/png;base64,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\">"
      ],
      "text/plain": [
       "<IPython.core.display.HTML object>"
      ]
     },
     "metadata": {},
     "output_type": "display_data"
    }
   ],
   "source": [
    "reload(vetter)\n",
    "vetter.fig_falseneg(ml_survey, sdssdr5, fneg, outfil=None)"
   ]
  },
  {
   "cell_type": "code",
   "execution_count": 93,
   "metadata": {
    "collapsed": false
   },
   "outputs": [
    {
     "data": {
      "text/plain": [
       "<DLASystem: 10:04:28.43 00:18:25.6, 2.685, NHI=21.35, Z/H=0>"
      ]
     },
     "execution_count": 93,
     "metadata": {},
     "output_type": "execute_result"
    }
   ],
   "source": [
    "# Examining a high NHI system\n",
    "NHI_false = np.array([isys.NHI for isys in fneg])\n",
    "high_NHI = np.where(NHI_false > 21.)[0]\n",
    "fneg[high_NHI[0]]"
   ]
  },
  {
   "cell_type": "code",
   "execution_count": 101,
   "metadata": {
    "collapsed": false
   },
   "outputs": [
    {
     "name": "stdout",
     "output_type": "stream",
     "text": [
      "Using /raid/IGMSPEC_DB/IGMspec_DB_v02.hdf5 for the catalog file\n",
      "Using /raid/IGMSPEC_DB/IGMspec_DB_v02.hdf5 for the DB file\n",
      "Available surveys: [u'BOSS_DR12', u'HSTQSO', u'SDSS_DR7', u'KODIAQ_DR1', u'MUSoDLA', u'HD-LLS_DR1', u'2QZ', u'ESI_DLA', u'HDLA100', u'GGG', u'COS-Halos', u'HST_z2', u'COS-Dwarfs', u'XQ-100']\n",
      "Database is igmspec\n",
      "Created on 2016-Oct-25\n"
     ]
    }
   ],
   "source": [
    "igmsp = IgmSpec()\n",
    "#igmsp.idb.hdf.close()"
   ]
  },
  {
   "cell_type": "code",
   "execution_count": 102,
   "metadata": {
    "collapsed": false
   },
   "outputs": [
    {
     "name": "stdout",
     "output_type": "stream",
     "text": [
      "Your search yielded 1 match[es]\n",
      "Staged 0 spectra totalling 0 Gb\n",
      "No spectra matching in survey 2QZ\n",
      "Staged 0 spectra totalling 0 Gb\n",
      "No spectra matching in survey BOSS_DR12\n",
      "Staged 0 spectra totalling 0 Gb\n",
      "No spectra matching in survey COS-Dwarfs\n",
      "Staged 0 spectra totalling 0 Gb\n",
      "No spectra matching in survey COS-Halos\n",
      "Staged 0 spectra totalling 0 Gb\n",
      "No spectra matching in survey ESI_DLA\n",
      "Staged 0 spectra totalling 0 Gb\n",
      "No spectra matching in survey GGG\n",
      "Staged 1 spectra totalling 0.00336 Gb\n",
      "Loaded spectra\n",
      "Staged 0 spectra totalling 0 Gb\n",
      "No spectra matching in survey HDLA100\n",
      "Staged 0 spectra totalling 0 Gb\n",
      "No spectra matching in survey HSTQSO\n",
      "Staged 0 spectra totalling 0 Gb\n",
      "No spectra matching in survey HST_z2\n"
     ]
    },
    {
     "name": "stderr",
     "output_type": "stream",
     "text": [
      "/Users/xavier/local/Python/linetools/linetools/spectra/xspectrum1d.py:295: UserWarning: No unit given to wavelength, assuming Angstroms.\n",
      "  warnings.warn(\"No unit given to wavelength, assuming Angstroms.\")\n"
     ]
    },
    {
     "name": "stdout",
     "output_type": "stream",
     "text": [
      "Staged 0 spectra totalling 0 Gb\n",
      "No spectra matching in survey KODIAQ_DR1\n",
      "Staged 1 spectra totalling 0.00368 Gb\n",
      "Loaded spectra\n"
     ]
    },
    {
     "name": "stderr",
     "output_type": "stream",
     "text": [
      "/Users/xavier/local/Python/linetools/linetools/spectra/xspectrum1d.py:269: RuntimeWarning: invalid value encountered in greater\n",
      "  gdsigval = np.where(self.data['sig'][kk].data > 0.)[0]\n",
      "/Users/xavier/local/Python/linetools/linetools/spectra/xspectrum1d.py:270: RuntimeWarning: invalid value encountered in less_equal\n",
      "  badsigval = self.data['sig'][kk].data <= 0.\n"
     ]
    },
    {
     "name": "stdout",
     "output_type": "stream",
     "text": [
      "Staged 1 spectra totalling 6.4e-05 Gb\n",
      "Loaded spectra\n",
      "Staged 0 spectra totalling 0 Gb\n",
      "No spectra matching in survey XQ-100\n"
     ]
    }
   ],
   "source": [
    "# plot\n",
    "spec, meta = igmsp.spec_from_coord(('10:04:28.43','00:18:25.6'))"
   ]
  },
  {
   "cell_type": "code",
   "execution_count": 103,
   "metadata": {
    "collapsed": false
   },
   "outputs": [
    {
     "name": "stderr",
     "output_type": "stream",
     "text": [
      "/Users/xavier/local/Python/linetools/linetools/spectra/xspectrum1d.py:462: RuntimeWarning: invalid value encountered in greater\n",
      "  gdpx = self.sig > 0.\n"
     ]
    },
    {
     "data": {
      "text/plain": [
       "[<XSpectrum1D: file=none, nspec=1, select=0, wvmin=3996.46 Angstrom, wvmax=10200.4 Angstrom>,\n",
       " <XSpectrum1D: file=none, nspec=1, select=0, wvmin=3044.49 Angstrom, wvmax=10354.3 Angstrom>,\n",
       " <XSpectrum1D: file=none, nspec=1, select=0, wvmin=3812.41 Angstrom, wvmax=9215.1 Angstrom>]"
      ]
     },
     "execution_count": 103,
     "metadata": {},
     "output_type": "execute_result"
    }
   ],
   "source": [
    "spec"
   ]
  },
  {
   "cell_type": "code",
   "execution_count": null,
   "metadata": {
    "collapsed": true
   },
   "outputs": [],
   "source": []
  }
 ],
 "metadata": {
  "kernelspec": {
   "display_name": "Python 2",
   "language": "python",
   "name": "python2"
  },
  "language_info": {
   "codemirror_mode": {
    "name": "ipython",
    "version": 2
   },
   "file_extension": ".py",
   "mimetype": "text/x-python",
   "name": "python",
   "nbconvert_exporter": "python",
   "pygments_lexer": "ipython2",
   "version": "2.7.11"
  }
 },
 "nbformat": 4,
 "nbformat_minor": 0
}
