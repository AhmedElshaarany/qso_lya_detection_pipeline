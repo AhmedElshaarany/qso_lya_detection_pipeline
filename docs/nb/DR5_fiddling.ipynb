{
 "cells": [
  {
   "cell_type": "markdown",
   "metadata": {},
   "source": [
    "# Fiddling about with DR5 results (a bit)"
   ]
  },
  {
   "cell_type": "code",
   "execution_count": 1,
   "metadata": {
    "collapsed": true
   },
   "outputs": [],
   "source": [
    "# imports\n",
    "import numpy as np\n",
    "import pdb, imp\n",
    "from astropy.coordinates import SkyCoord, match_coordinates_sky\n",
    "from linetools import utils as ltu\n",
    "from pyigm.surveys.dlasurvey import DLASurvey"
   ]
  },
  {
   "cell_type": "markdown",
   "metadata": {},
   "source": [
    "## Read JSON file"
   ]
  },
  {
   "cell_type": "code",
   "execution_count": 25,
   "metadata": {
    "collapsed": true
   },
   "outputs": [],
   "source": [
    "ml_dr5 = ltu.loadjson('../../results/dr5_v1_predictions.json')"
   ]
  },
  {
   "cell_type": "code",
   "execution_count": 26,
   "metadata": {
    "collapsed": false
   },
   "outputs": [
    {
     "data": {
      "text/plain": [
       "7478"
      ]
     },
     "execution_count": 26,
     "metadata": {},
     "output_type": "execute_result"
    }
   ],
   "source": [
    "len(ml_dr5)"
   ]
  },
  {
   "cell_type": "code",
   "execution_count": 27,
   "metadata": {
    "collapsed": false
   },
   "outputs": [
    {
     "data": {
      "text/plain": [
       "{u'classification': u'NO_DLA',\n",
       " u'classification_confidence': 96,\n",
       " u'dlas': [],\n",
       " u'fiber': 5,\n",
       " u'mjd': 0,\n",
       " u'num_dlas': 0,\n",
       " u'plate': 266}"
      ]
     },
     "execution_count": 27,
     "metadata": {},
     "output_type": "execute_result"
    }
   ],
   "source": [
    "ml_dr5[0]"
   ]
  },
  {
   "cell_type": "code",
   "execution_count": 28,
   "metadata": {
    "collapsed": false
   },
   "outputs": [
    {
     "data": {
      "text/plain": [
       "{u'classification': u'NO_DLA',\n",
       " u'classification_confidence': 93,\n",
       " u'dlas': [{u'column_density': 19.800457000732422,\n",
       "   u'dla_confidence': 0.3738497495651245,\n",
       "   u'rest': 927.2395328982095,\n",
       "   u'spectrum': 3236.21719131183}],\n",
       " u'fiber': 254,\n",
       " u'mjd': 0,\n",
       " u'num_dlas': 1,\n",
       " u'plate': 270}"
      ]
     },
     "execution_count": 28,
     "metadata": {},
     "output_type": "execute_result"
    }
   ],
   "source": [
    "ml_dr5[2]"
   ]
  },
  {
   "cell_type": "code",
   "execution_count": 29,
   "metadata": {
    "collapsed": false
   },
   "outputs": [
    {
     "data": {
      "text/plain": [
       "{u'classification': u'HAS_DLA',\n",
       " u'classification_confidence': 97,\n",
       " u'dlas': [{u'column_density': 20.375356674194336,\n",
       "   u'dla_confidence': 0.8868335485458374,\n",
       "   u'rest': 986.0872066647199,\n",
       "   u'spectrum': 3441.6051700972403},\n",
       "  {u'column_density': 20.587078094482422,\n",
       "   u'dla_confidence': 0.8954387307167053,\n",
       "   u'rest': 1083.0557379057761,\n",
       "   u'spectrum': 3780.0411585173047},\n",
       "  {u'column_density': 20.485034942626953,\n",
       "   u'dla_confidence': 0.795092761516571,\n",
       "   u'rest': 1165.6127221361494,\n",
       "   u'spectrum': 4068.1784975219425},\n",
       "  {u'column_density': 20.31381607055664,\n",
       "   u'dla_confidence': 0.28717735409736633,\n",
       "   u'rest': 1107.7819356232567,\n",
       "   u'spectrum': 3866.339621093609}],\n",
       " u'fiber': 345,\n",
       " u'mjd': 0,\n",
       " u'num_dlas': 4,\n",
       " u'plate': 271}"
      ]
     },
     "execution_count": 29,
     "metadata": {},
     "output_type": "execute_result"
    }
   ],
   "source": [
    "ml_dr5[5]"
   ]
  },
  {
   "cell_type": "markdown",
   "metadata": {},
   "source": [
    "## Load up DR5"
   ]
  },
  {
   "cell_type": "code",
   "execution_count": 2,
   "metadata": {
    "collapsed": false
   },
   "outputs": [
    {
     "name": "stdout",
     "output_type": "stream",
     "text": [
      "SDSS-DR5: Loading DLA file /Users/xavier/local/Python/pyigm/pyigm/data/DLA/SDSS_DR5/dr5_alldla.fits.gz\n",
      "SDSS-DR5: Loading QSOs file /Users/xavier/local/Python/pyigm/pyigm/data/DLA/SDSS_DR5/dr5_dlagz_s2n4.fits\n",
      "SDSS-DR5: Performing stats (~60s)\n",
      "SDSS-DR5: Loaded\n"
     ]
    }
   ],
   "source": [
    "sdssdr5 = DLASurvey.load_SDSS_DR5()"
   ]
  },
  {
   "cell_type": "code",
   "execution_count": 19,
   "metadata": {
    "collapsed": false
   },
   "outputs": [
    {
     "data": {
      "text/html": [
       "&lt;QTable length=4&gt;\n",
       "<table id=\"table4631111568\">\n",
       "<thead><tr><th>PLATE</th><th>FIB</th><th>RA</th><th>DEC</th><th>FLG_BAL</th><th>IQSO</th><th>MAG</th><th>S2N</th><th>Z_START</th><th>Z_END</th><th>ZEM</th><th>DX</th></tr></thead>\n",
       "<thead><tr><th></th><th></th><th>deg</th><th>deg</th><th></th><th></th><th></th><th></th><th></th><th></th><th></th><th></th></tr></thead>\n",
       "<thead><tr><th>int32</th><th>int32</th><th>float64</th><th>float64</th><th>int16</th><th>int32</th><th>float64</th><th>float64</th><th>float64</th><th>float64</th><th>float64</th><th>float64</th></tr></thead>\n",
       "<tr><td>266</td><td>5</td><td>146.93861</td><td>-0.68701194</td><td>1</td><td>0</td><td>19.341999054</td><td>4.94595003128</td><td>2.39664643878</td><td>2.74649000168</td><td>2.8287498951</td><td>1.17426266257</td></tr>\n",
       "<tr><td>266</td><td>92</td><td>146.22601</td><td>-0.72509875</td><td>0</td><td>4</td><td>19.0820007324</td><td>8.54980564117</td><td>2.20000004768</td><td>2.25759506226</td><td>2.29049992561</td><td>0.184012498912</td></tr>\n",
       "<tr><td>270</td><td>254</td><td>152.23239</td><td>-0.97123272</td><td>0</td><td>9</td><td>19.0230007172</td><td>7.49763822556</td><td>2.30636157714</td><td>3.0556242466</td><td>3.09659004211</td><td>2.56581152274</td></tr>\n",
       "<tr><td>271</td><td>391</td><td>154.14992</td><td>0.14750838</td><td>0</td><td>16</td><td>18.0650005341</td><td>18.982629776</td><td>2.20000004768</td><td>2.25551605225</td><td>2.28839993477</td><td>0.177634457341</td></tr>\n",
       "</table>"
      ],
      "text/plain": [
       "<QTable length=4>\n",
       "PLATE  FIB      RA        DEC     ...     Z_END          ZEM            DX      \n",
       "               deg        deg     ...                                           \n",
       "int32 int32  float64    float64   ...    float64       float64       float64    \n",
       "----- ----- --------- ----------- ... ------------- ------------- --------------\n",
       "  266     5 146.93861 -0.68701194 ... 2.74649000168  2.8287498951  1.17426266257\n",
       "  266    92 146.22601 -0.72509875 ... 2.25759506226 2.29049992561 0.184012498912\n",
       "  270   254 152.23239 -0.97123272 ...  3.0556242466 3.09659004211  2.56581152274\n",
       "  271   391 154.14992  0.14750838 ... 2.25551605225 2.28839993477 0.177634457341"
      ]
     },
     "execution_count": 19,
     "metadata": {},
     "output_type": "execute_result"
    }
   ],
   "source": [
    "sdssdr5.sightlines[0:4]"
   ]
  },
  {
   "cell_type": "code",
   "execution_count": 48,
   "metadata": {
    "collapsed": false
   },
   "outputs": [
    {
     "data": {
      "text/plain": [
       "(7482, 7478)"
      ]
     },
     "execution_count": 48,
     "metadata": {},
     "output_type": "execute_result"
    }
   ],
   "source": [
    "len(sdssdr5.sightlines), len(ml_dr5)"
   ]
  },
  {
   "cell_type": "markdown",
   "metadata": {},
   "source": [
    "### Setup coords"
   ]
  },
  {
   "cell_type": "code",
   "execution_count": 22,
   "metadata": {
    "collapsed": false
   },
   "outputs": [],
   "source": [
    "dla_coord = sdssdr5.coord"
   ]
  },
  {
   "cell_type": "code",
   "execution_count": 23,
   "metadata": {
    "collapsed": true
   },
   "outputs": [],
   "source": [
    "sl_coord = SkyCoord(ra=sdssdr5.sightlines['RA'], dec=sdssdr5.sightlines['DEC'])"
   ]
  },
  {
   "cell_type": "code",
   "execution_count": 37,
   "metadata": {
    "collapsed": true
   },
   "outputs": [],
   "source": [
    "idx, d2d, d3d = match_coordinates_sky(dla_coord, sl_coord, nthneighbor=1)"
   ]
  },
  {
   "cell_type": "code",
   "execution_count": 38,
   "metadata": {
    "collapsed": false
   },
   "outputs": [
    {
     "data": {
      "text/latex": [
       "$0.368995\\mathrm{{}^{\\prime\\prime}}$"
      ],
      "text/plain": [
       "<Angle 0.3689950092602071 arcsec>"
      ]
     },
     "execution_count": 38,
     "metadata": {},
     "output_type": "execute_result"
    }
   ],
   "source": [
    "np.max(d2d.to('arcsec'))"
   ]
  },
  {
   "cell_type": "markdown",
   "metadata": {},
   "source": [
    "### Specify HAS_DLA"
   ]
  },
  {
   "cell_type": "code",
   "execution_count": 40,
   "metadata": {
    "collapsed": true
   },
   "outputs": [],
   "source": [
    "sdssdr5.sightlines['HAS_ML'] = [False]*len(sdssdr5.sightlines)"
   ]
  },
  {
   "cell_type": "code",
   "execution_count": 47,
   "metadata": {
    "collapsed": false
   },
   "outputs": [
    {
     "name": "stdout",
     "output_type": "stream",
     "text": [
      "Skipping plate=359, fiber=279\n",
      "Skipping plate=1950, fiber=602\n",
      "Skipping plate=1980, fiber=484\n",
      "Skipping plate=2083, fiber=33\n"
     ]
    }
   ],
   "source": [
    "jj = 0\n",
    "for obj in ml_dr5:\n",
    "    # Check plate fiber\n",
    "    while ((obj['plate'] != sdssdr5.sightlines['PLATE'][jj]) or (obj['fiber'] != sdssdr5.sightlines['FIB'][jj])):\n",
    "        print(\"Skipping plate={:d}, fiber={:d}\".format(sdssdr5.sightlines['PLATE'][jj],sdssdr5.sightlines['FIB'][jj]))\n",
    "        jj+=1\n",
    "    # Machine learning\n",
    "    if obj['classification'] == u'HAS_DLA':\n",
    "        sdssdr5.sightlines['HAS_ML'][jj] = True\n",
    "    jj+=1"
   ]
  },
  {
   "cell_type": "markdown",
   "metadata": {},
   "source": [
    "## Fraction of Hits"
   ]
  },
  {
   "cell_type": "code",
   "execution_count": 60,
   "metadata": {
    "collapsed": true
   },
   "outputs": [],
   "source": [
    "# Calculate fraction of HAS_DLA as a function of NHI\n",
    "def chk_has_nhi(dlas, idx, NHI=20.3):\n",
    "    # Cut on NHI\n",
    "    gdD = dlas.NHI >= NHI\n",
    "    # Dummy array\n",
    "    jxp = np.array([False]*len(dlas.sightlines))\n",
    "    # Sightline with DLA in it\n",
    "    jxp[idx[gdD]] = True\n",
    "    njxp = np.sum(jxp)\n",
    "    # HAS?\n",
    "    good = dlas.sightlines['HAS_ML'] & jxp\n",
    "    ngood = np.sum(good)\n",
    "    #pdb.set_trace()\n",
    "    # Return\n",
    "    return ngood, njxp"
   ]
  },
  {
   "cell_type": "markdown",
   "metadata": {},
   "source": [
    "### NHI = 20.3"
   ]
  },
  {
   "cell_type": "code",
   "execution_count": 62,
   "metadata": {
    "collapsed": false
   },
   "outputs": [
    {
     "data": {
      "text/plain": [
       "(629, 667)"
      ]
     },
     "execution_count": 62,
     "metadata": {},
     "output_type": "execute_result"
    }
   ],
   "source": [
    "ngood, ntot = chk_has_nhi(sdssdr5, idx)\n",
    "ngood, ntot"
   ]
  },
  {
   "cell_type": "markdown",
   "metadata": {},
   "source": [
    "### NHI = 21."
   ]
  },
  {
   "cell_type": "code",
   "execution_count": 63,
   "metadata": {
    "collapsed": false
   },
   "outputs": [
    {
     "data": {
      "text/plain": [
       "(121, 121)"
      ]
     },
     "execution_count": 63,
     "metadata": {},
     "output_type": "execute_result"
    }
   ],
   "source": [
    "ngood21, ntot21 = chk_has_nhi(sdssdr5, idx, NHI=21.)\n",
    "ngood21, ntot21"
   ]
  },
  {
   "cell_type": "code",
   "execution_count": 65,
   "metadata": {
    "collapsed": false
   },
   "outputs": [
    {
     "data": {
      "text/plain": [
       "0.9430284857571214"
      ]
     },
     "execution_count": 65,
     "metadata": {},
     "output_type": "execute_result"
    }
   ],
   "source": [
    "629./667"
   ]
  },
  {
   "cell_type": "code",
   "execution_count": null,
   "metadata": {
    "collapsed": true
   },
   "outputs": [],
   "source": []
  }
 ],
 "metadata": {
  "kernelspec": {
   "display_name": "Python 2",
   "language": "python",
   "name": "python2"
  },
  "language_info": {
   "codemirror_mode": {
    "name": "ipython",
    "version": 2
   },
   "file_extension": ".py",
   "mimetype": "text/x-python",
   "name": "python",
   "nbconvert_exporter": "python",
   "pygments_lexer": "ipython2",
   "version": "2.7.11"
  }
 },
 "nbformat": 4,
 "nbformat_minor": 0
}
