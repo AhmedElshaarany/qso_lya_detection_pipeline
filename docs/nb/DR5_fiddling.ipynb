{
 "cells": [
  {
   "cell_type": "markdown",
   "metadata": {},
   "source": [
    "# Fiddling about with DR5 results (a bit) [v1.0]"
   ]
  },
  {
   "cell_type": "code",
   "execution_count": null,
   "metadata": {
    "collapsed": false
   },
   "outputs": [],
   "source": [
    "# imports\n",
    "import numpy as np\n",
    "import pdb, imp\n",
    "from astropy.coordinates import SkyCoord, match_coordinates_sky\n",
    "from linetools import utils as ltu\n",
    "\n",
    "from pyigm.surveys.dlasurvey import DLASurvey\n",
    "from pyigm.surveys import utils as pyis_u\n",
    "\n",
    "sys.path.append(os.path.abspath(\"../../src\"))\n",
    "import vette_results as vetter"
   ]
  },
  {
   "cell_type": "markdown",
   "metadata": {},
   "source": [
    "## Read JSON file"
   ]
  },
  {
   "cell_type": "code",
   "execution_count": 2,
   "metadata": {
    "collapsed": false
   },
   "outputs": [],
   "source": [
    "result_file = '../../results/dr5_v2_results.json'\n",
    "ml_dr5 = ltu.loadjson(result_file)"
   ]
  },
  {
   "cell_type": "code",
   "execution_count": 3,
   "metadata": {
    "collapsed": false
   },
   "outputs": [
    {
     "data": {
      "text/plain": [
       "7478"
      ]
     },
     "execution_count": 3,
     "metadata": {},
     "output_type": "execute_result"
    }
   ],
   "source": [
    "len(ml_dr5)"
   ]
  },
  {
   "cell_type": "code",
   "execution_count": 4,
   "metadata": {
    "collapsed": false
   },
   "outputs": [
    {
     "data": {
      "text/plain": [
       "{u'classification': u'NO_DLA',\n",
       " u'classification_confidence': 96,\n",
       " u'dec': -0.6870119571685791,\n",
       " u'dlas': [],\n",
       " u'fiber': 5,\n",
       " u'mjd': 0,\n",
       " u'num_dlas': 0,\n",
       " u'plate': 266,\n",
       " u'ra': 146.93861389160156,\n",
       " u'z_qso': 2.8328399658203125}"
      ]
     },
     "execution_count": 4,
     "metadata": {},
     "output_type": "execute_result"
    }
   ],
   "source": [
    "ml_dr5[0]"
   ]
  },
  {
   "cell_type": "code",
   "execution_count": 5,
   "metadata": {
    "collapsed": false
   },
   "outputs": [
    {
     "data": {
      "text/plain": [
       "{u'classification': u'NO_DLA',\n",
       " u'classification_confidence': 93,\n",
       " u'dec': -0.9712327122688293,\n",
       " u'dlas': [{u'column_density': 20.562389373779297,\n",
       "   u'dla_confidence': 0.3738497495651245,\n",
       "   u'rest': 927.2055053710938,\n",
       "   u'spectrum': 3836.1885852687556,\n",
       "   u'std_column_density': 0.25730183720588684,\n",
       "   u'z_dla': 2.1556167259772434}],\n",
       " u'fiber': 254,\n",
       " u'mjd': 0,\n",
       " u'num_dlas': 1,\n",
       " u'plate': 270,\n",
       " u'ra': 152.23239135742188,\n",
       " u'z_qso': 3.1373660564422607}"
      ]
     },
     "execution_count": 5,
     "metadata": {},
     "output_type": "execute_result"
    }
   ],
   "source": [
    "ml_dr5[2]"
   ]
  },
  {
   "cell_type": "code",
   "execution_count": 6,
   "metadata": {
    "collapsed": false
   },
   "outputs": [
    {
     "data": {
      "text/plain": [
       "{u'classification': u'HAS_DLA',\n",
       " u'classification_confidence': 97,\n",
       " u'dec': 0.33888769149780273,\n",
       " u'dlas': [{u'column_density': 20.36636734008789,\n",
       "   u'dla_confidence': 0.8868335485458374,\n",
       "   u'rest': 985.9659423828125,\n",
       "   u'spectrum': 5337.033751430688,\n",
       "   u'std_column_density': 0.643308162689209,\n",
       "   u'z_dla': 3.3901994385241787},\n",
       "  {u'column_density': 20.48378562927246,\n",
       "   u'dla_confidence': 0.8954387307167053,\n",
       "   u'rest': 1082.8338623046875,\n",
       "   u'spectrum': 5861.379812314408,\n",
       "   u'std_column_density': 0.1063832938671112,\n",
       "   u'z_dla': 3.8215221337323513},\n",
       "  {u'column_density': 20.322036743164062,\n",
       "   u'dla_confidence': 0.795092761516571,\n",
       "   u'rest': 1165.3651123046875,\n",
       "   u'spectrum': 6308.121477379696,\n",
       "   u'std_column_density': 0.0018673656741157174,\n",
       "   u'z_dla': 4.189008100372384},\n",
       "  {u'column_density': 20.362953186035156,\n",
       "   u'dla_confidence': 0.28717735409736633,\n",
       "   u'rest': 1107.5467529296875,\n",
       "   u'spectrum': 5995.150691907154,\n",
       "   u'std_column_density': 0.09028507024049759,\n",
       "   u'z_dla': 3.931560943271738}],\n",
       " u'fiber': 345,\n",
       " u'mjd': 0,\n",
       " u'num_dlas': 4,\n",
       " u'plate': 271,\n",
       " u'ra': 153.9541778564453,\n",
       " u'z_qso': 4.413000106811523}"
      ]
     },
     "execution_count": 6,
     "metadata": {},
     "output_type": "execute_result"
    }
   ],
   "source": [
    "ml_dr5[5]"
   ]
  },
  {
   "cell_type": "markdown",
   "metadata": {},
   "source": [
    "## Load up DR5"
   ]
  },
  {
   "cell_type": "code",
   "execution_count": 7,
   "metadata": {
    "collapsed": false
   },
   "outputs": [
    {
     "name": "stdout",
     "output_type": "stream",
     "text": [
      "SDSS-DR5: Loading DLA file /Users/xavier/local/Python/pyigm/pyigm/data/DLA/SDSS_DR5/dr5_alldla.fits.gz\n",
      "SDSS-DR5: Loading QSOs file /Users/xavier/local/Python/pyigm/pyigm/data/DLA/SDSS_DR5/dr5_dlagz_s2n4.fits\n",
      "SDSS-DR5: Performing stats\n",
      "SDSS-DR5: Loaded\n"
     ]
    }
   ],
   "source": [
    "sdssdr5 = DLASurvey.load_SDSS_DR5()"
   ]
  },
  {
   "cell_type": "code",
   "execution_count": 8,
   "metadata": {
    "collapsed": false
   },
   "outputs": [
    {
     "data": {
      "text/html": [
       "&lt;QTable length=4&gt;\n",
       "<table id=\"table4385758800\" class=\"table-striped table-bordered table-condensed\">\n",
       "<thead><tr><th>PLATE</th><th>FIB</th><th>RA</th><th>DEC</th><th>FLG_BAL</th><th>IQSO</th><th>MAG</th><th>S2N</th><th>Z_START</th><th>Z_END</th><th>ZEM</th><th>DX</th></tr></thead>\n",
       "<thead><tr><th></th><th></th><th>deg</th><th>deg</th><th></th><th></th><th></th><th></th><th></th><th></th><th></th><th></th></tr></thead>\n",
       "<thead><tr><th>int32</th><th>int32</th><th>float64</th><th>float64</th><th>int16</th><th>int32</th><th>float64</th><th>float64</th><th>float64</th><th>float64</th><th>float64</th><th>float64</th></tr></thead>\n",
       "<tr><td>266</td><td>5</td><td>146.93861</td><td>-0.68701194</td><td>1</td><td>0</td><td>19.341999054</td><td>4.94595003128</td><td>2.39664643878</td><td>2.74649000168</td><td>2.8287498951</td><td>1.17426266257</td></tr>\n",
       "<tr><td>266</td><td>92</td><td>146.22601</td><td>-0.72509875</td><td>0</td><td>4</td><td>19.0820007324</td><td>8.54980564117</td><td>2.20000004768</td><td>2.25759506226</td><td>2.29049992561</td><td>0.184012498912</td></tr>\n",
       "<tr><td>270</td><td>254</td><td>152.23239</td><td>-0.97123272</td><td>0</td><td>9</td><td>19.0230007172</td><td>7.49763822556</td><td>2.30636157714</td><td>3.0556242466</td><td>3.09659004211</td><td>2.56581152274</td></tr>\n",
       "<tr><td>271</td><td>391</td><td>154.14992</td><td>0.14750838</td><td>0</td><td>16</td><td>18.0650005341</td><td>18.982629776</td><td>2.20000004768</td><td>2.25551605225</td><td>2.28839993477</td><td>0.177634457341</td></tr>\n",
       "</table>"
      ],
      "text/plain": [
       "<QTable length=4>\n",
       "PLATE  FIB      RA        DEC     ...     Z_END          ZEM            DX      \n",
       "               deg        deg     ...                                           \n",
       "int32 int32  float64    float64   ...    float64       float64       float64    \n",
       "----- ----- --------- ----------- ... ------------- ------------- --------------\n",
       "  266     5 146.93861 -0.68701194 ... 2.74649000168  2.8287498951  1.17426266257\n",
       "  266    92 146.22601 -0.72509875 ... 2.25759506226 2.29049992561 0.184012498912\n",
       "  270   254 152.23239 -0.97123272 ...  3.0556242466 3.09659004211  2.56581152274\n",
       "  271   391 154.14992  0.14750838 ... 2.25551605225 2.28839993477 0.177634457341"
      ]
     },
     "execution_count": 8,
     "metadata": {},
     "output_type": "execute_result"
    }
   ],
   "source": [
    "sdssdr5.sightlines[0:4]"
   ]
  },
  {
   "cell_type": "code",
   "execution_count": 9,
   "metadata": {
    "collapsed": false
   },
   "outputs": [
    {
     "data": {
      "text/plain": [
       "(7482, 7478)"
      ]
     },
     "execution_count": 9,
     "metadata": {},
     "output_type": "execute_result"
    }
   ],
   "source": [
    "len(sdssdr5.sightlines), len(ml_dr5)"
   ]
  },
  {
   "cell_type": "markdown",
   "metadata": {},
   "source": [
    "### Setup coords"
   ]
  },
  {
   "cell_type": "code",
   "execution_count": 10,
   "metadata": {
    "collapsed": false
   },
   "outputs": [],
   "source": [
    "dla_coord = sdssdr5.coord"
   ]
  },
  {
   "cell_type": "code",
   "execution_count": 11,
   "metadata": {
    "collapsed": true
   },
   "outputs": [],
   "source": [
    "sl_coord = SkyCoord(ra=sdssdr5.sightlines['RA'], dec=sdssdr5.sightlines['DEC'])"
   ]
  },
  {
   "cell_type": "code",
   "execution_count": 12,
   "metadata": {
    "collapsed": true
   },
   "outputs": [],
   "source": [
    "idx, d2d, d3d = match_coordinates_sky(dla_coord, sl_coord, nthneighbor=1)"
   ]
  },
  {
   "cell_type": "code",
   "execution_count": 13,
   "metadata": {
    "collapsed": false
   },
   "outputs": [
    {
     "data": {
      "text/latex": [
       "$0.368995\\mathrm{{}^{\\prime\\prime}}$"
      ],
      "text/plain": [
       "<Angle 0.3689950092602071 arcsec>"
      ]
     },
     "execution_count": 13,
     "metadata": {},
     "output_type": "execute_result"
    }
   ],
   "source": [
    "np.max(d2d.to('arcsec'))"
   ]
  },
  {
   "cell_type": "markdown",
   "metadata": {},
   "source": [
    "### Specify HAS_DLA"
   ]
  },
  {
   "cell_type": "code",
   "execution_count": 14,
   "metadata": {
    "collapsed": true
   },
   "outputs": [],
   "source": [
    "sdssdr5.sightlines['HAS_ML'] = [False]*len(sdssdr5.sightlines)"
   ]
  },
  {
   "cell_type": "code",
   "execution_count": 15,
   "metadata": {
    "collapsed": false
   },
   "outputs": [
    {
     "name": "stdout",
     "output_type": "stream",
     "text": [
      "Skipping plate=359, fiber=279\n",
      "Skipping plate=1950, fiber=602\n",
      "Skipping plate=1980, fiber=484\n",
      "Skipping plate=2083, fiber=33\n"
     ]
    }
   ],
   "source": [
    "jj = 0\n",
    "for obj in ml_dr5:\n",
    "    # Check plate fiber\n",
    "    while ((obj['plate'] != sdssdr5.sightlines['PLATE'][jj]) or (obj['fiber'] != sdssdr5.sightlines['FIB'][jj])):\n",
    "        print(\"Skipping plate={:d}, fiber={:d}\".format(sdssdr5.sightlines['PLATE'][jj],sdssdr5.sightlines['FIB'][jj]))\n",
    "        jj+=1\n",
    "    # Machine learning\n",
    "    if obj['classification'] == u'HAS_DLA':\n",
    "        sdssdr5.sightlines['HAS_ML'][jj] = True\n",
    "    jj+=1"
   ]
  },
  {
   "cell_type": "markdown",
   "metadata": {},
   "source": [
    "## Fraction of Hits"
   ]
  },
  {
   "cell_type": "code",
   "execution_count": 16,
   "metadata": {
    "collapsed": true
   },
   "outputs": [],
   "source": [
    "# Calculate fraction of HAS_DLA as a function of NHI\n",
    "def chk_has_nhi(dlas, idx, NHI=20.3):\n",
    "    # Cut on NHI\n",
    "    gdD = dlas.NHI >= NHI\n",
    "    # Dummy array\n",
    "    jxp = np.array([False]*len(dlas.sightlines))\n",
    "    # Sightline with DLA in it\n",
    "    jxp[idx[gdD]] = True\n",
    "    njxp = np.sum(jxp)\n",
    "    # HAS?\n",
    "    good = dlas.sightlines['HAS_ML'] & jxp\n",
    "    ngood = np.sum(good)\n",
    "    #pdb.set_trace()\n",
    "    # Return\n",
    "    return ngood, njxp"
   ]
  },
  {
   "cell_type": "markdown",
   "metadata": {},
   "source": [
    "### NHI = 20.3"
   ]
  },
  {
   "cell_type": "code",
   "execution_count": 17,
   "metadata": {
    "collapsed": false
   },
   "outputs": [
    {
     "data": {
      "text/plain": [
       "(629, 667)"
      ]
     },
     "execution_count": 17,
     "metadata": {},
     "output_type": "execute_result"
    }
   ],
   "source": [
    "ngood, ntot = chk_has_nhi(sdssdr5, idx)\n",
    "ngood, ntot"
   ]
  },
  {
   "cell_type": "markdown",
   "metadata": {},
   "source": [
    "### NHI = 21."
   ]
  },
  {
   "cell_type": "code",
   "execution_count": 18,
   "metadata": {
    "collapsed": false
   },
   "outputs": [
    {
     "data": {
      "text/plain": [
       "(121, 121)"
      ]
     },
     "execution_count": 18,
     "metadata": {},
     "output_type": "execute_result"
    }
   ],
   "source": [
    "ngood21, ntot21 = chk_has_nhi(sdssdr5, idx, NHI=21.)\n",
    "ngood21, ntot21"
   ]
  },
  {
   "cell_type": "code",
   "execution_count": 19,
   "metadata": {
    "collapsed": false
   },
   "outputs": [
    {
     "data": {
      "text/plain": [
       "0.9430284857571214"
      ]
     },
     "execution_count": 19,
     "metadata": {},
     "output_type": "execute_result"
    }
   ],
   "source": [
    "629./667"
   ]
  },
  {
   "cell_type": "markdown",
   "metadata": {
    "collapsed": true
   },
   "source": [
    "## Testing Module"
   ]
  },
  {
   "cell_type": "markdown",
   "metadata": {},
   "source": [
    "### Load"
   ]
  },
  {
   "cell_type": "code",
   "execution_count": 34,
   "metadata": {
    "collapsed": false
   },
   "outputs": [
    {
     "name": "stdout",
     "output_type": "stream",
     "text": [
      "Loading SDSS Survey from JSON file ../../results/dr5_v2_results.json\n",
      "Sightline RA=260.033 deg, DEC=52.5956 deg was not used\n",
      "Sightline RA=153.781 deg, DEC=33.039 deg was not used\n",
      "Sightline RA=165.409 deg, DEC=38.5598 deg was not used\n",
      "Sightline RA=128.336 deg, DEC=20.6529 deg was not used\n"
     ]
    }
   ],
   "source": [
    "reload(vetter)\n",
    "ml_survey = vetter.json_to_sdss_dlasurvey(result_file, sdssdr5)"
   ]
  },
  {
   "cell_type": "code",
   "execution_count": 35,
   "metadata": {
    "collapsed": false
   },
   "outputs": [
    {
     "data": {
      "text/plain": [
       "<IGMSurvey: nsys=7925, type=LLS, ref=, nsightlines=7478>"
      ]
     },
     "execution_count": 35,
     "metadata": {},
     "output_type": "execute_result"
    }
   ],
   "source": [
    "ml_survey"
   ]
  },
  {
   "cell_type": "code",
   "execution_count": 36,
   "metadata": {
    "collapsed": false
   },
   "outputs": [
    {
     "data": {
      "text/plain": [
       "(<LLSSystem: 10:08:55.7739 -00:58:16.4378, zabs=2.15562, logNHI=20.5624, tau_LL=2314.31, [Z/H]=0 dex>,\n",
       " 3.1373660564422607)"
      ]
     },
     "execution_count": 36,
     "metadata": {},
     "output_type": "execute_result"
    }
   ],
   "source": [
    "isys = ml_survey._abs_sys[0]\n",
    "isys, isys.zem"
   ]
  },
  {
   "cell_type": "markdown",
   "metadata": {},
   "source": [
    "### Write? -- This only writes the sytems and not the sightlines"
   ]
  },
  {
   "cell_type": "code",
   "execution_count": 23,
   "metadata": {
    "collapsed": false
   },
   "outputs": [
    {
     "name": "stdout",
     "output_type": "stream",
     "text": [
      "Wrote: dr5_v2.tar\n"
     ]
    }
   ],
   "source": [
    "#ml_survey.write_survey('dr5_v2.tar')"
   ]
  },
  {
   "cell_type": "code",
   "execution_count": 27,
   "metadata": {
    "collapsed": false
   },
   "outputs": [
    {
     "name": "stdout",
     "output_type": "stream",
     "text": [
      "Loading systems from ../../results/dr5_v2.tar\n",
      "Skipping a likely folder: IGM_JSON\n"
     ]
    },
    {
     "data": {
      "text/plain": [
       "<IGMSurvey: nsys=7762, type=LLS, ref=None>"
      ]
     },
     "execution_count": 27,
     "metadata": {},
     "output_type": "execute_result"
    }
   ],
   "source": [
    "# Read\n",
    "#pyis_u.load_sys_files('../../results/dr5_v2.tar', 'LLS')"
   ]
  },
  {
   "cell_type": "markdown",
   "metadata": {},
   "source": [
    "### Vette"
   ]
  },
  {
   "cell_type": "code",
   "execution_count": 39,
   "metadata": {
    "collapsed": false
   },
   "outputs": [
    {
     "name": "stdout",
     "output_type": "stream",
     "text": [
      "> /Users/xavier/local/Python/qso_lya_detection_pipeline/src/vette_results.py(126)vette_dlasurvey()\n",
      "-> ml_coords = ml_survey.coord\n",
      "(Pdb)     ml_coords = ml_survey.coord\n",
      "(Pdb) exit\n"
     ]
    },
    {
     "ename": "BdbQuit",
     "evalue": "",
     "output_type": "error",
     "traceback": [
      "\u001b[0;31m---------------------------------------------------------------------------\u001b[0m",
      "\u001b[0;31mBdbQuit\u001b[0m                                   Traceback (most recent call last)",
      "\u001b[0;32m<ipython-input-39-e23c614daf9a>\u001b[0m in \u001b[0;36m<module>\u001b[0;34m()\u001b[0m\n\u001b[1;32m      1\u001b[0m \u001b[0mreload\u001b[0m\u001b[0;34m(\u001b[0m\u001b[0mvetter\u001b[0m\u001b[0;34m)\u001b[0m\u001b[0;34m\u001b[0m\u001b[0m\n\u001b[0;32m----> 2\u001b[0;31m \u001b[0mvetter\u001b[0m\u001b[0;34m.\u001b[0m\u001b[0mvette_dlasurvey\u001b[0m\u001b[0;34m(\u001b[0m\u001b[0mml_survey\u001b[0m\u001b[0;34m,\u001b[0m \u001b[0msdssdr5\u001b[0m\u001b[0;34m)\u001b[0m\u001b[0;34m\u001b[0m\u001b[0m\n\u001b[0m",
      "\u001b[0;32m/Users/xavier/local/Python/qso_lya_detection_pipeline/src/vette_results.py\u001b[0m in \u001b[0;36mvette_dlasurvey\u001b[0;34m(ml_survey, sdss_survey, fig_root, lyb_cut, dz_toler)\u001b[0m\n\u001b[1;32m    124\u001b[0m     \u001b[0;31m# Setup coords\u001b[0m\u001b[0;34m\u001b[0m\u001b[0;34m\u001b[0m\u001b[0m\n\u001b[1;32m    125\u001b[0m     \u001b[0mml_coords\u001b[0m \u001b[0;34m=\u001b[0m \u001b[0mml_survey\u001b[0m\u001b[0;34m.\u001b[0m\u001b[0mcoord\u001b[0m\u001b[0;34m\u001b[0m\u001b[0m\n\u001b[0;32m--> 126\u001b[0;31m     \u001b[0mml_z\u001b[0m \u001b[0;34m=\u001b[0m \u001b[0mml_survey\u001b[0m\u001b[0;34m.\u001b[0m\u001b[0mzabs\u001b[0m\u001b[0;34m\u001b[0m\u001b[0m\n\u001b[0m\u001b[1;32m    127\u001b[0m     \u001b[0;31m#s_coords = sdss_survey.coord\u001b[0m\u001b[0;34m\u001b[0m\u001b[0;34m\u001b[0m\u001b[0m\n\u001b[1;32m    128\u001b[0m \u001b[0;34m\u001b[0m\u001b[0m\n",
      "\u001b[0;32m/Users/xavier/local/Python/qso_lya_detection_pipeline/src/vette_results.py\u001b[0m in \u001b[0;36mvette_dlasurvey\u001b[0;34m(ml_survey, sdss_survey, fig_root, lyb_cut, dz_toler)\u001b[0m\n\u001b[1;32m    124\u001b[0m     \u001b[0;31m# Setup coords\u001b[0m\u001b[0;34m\u001b[0m\u001b[0;34m\u001b[0m\u001b[0m\n\u001b[1;32m    125\u001b[0m     \u001b[0mml_coords\u001b[0m \u001b[0;34m=\u001b[0m \u001b[0mml_survey\u001b[0m\u001b[0;34m.\u001b[0m\u001b[0mcoord\u001b[0m\u001b[0;34m\u001b[0m\u001b[0m\n\u001b[0;32m--> 126\u001b[0;31m     \u001b[0mml_z\u001b[0m \u001b[0;34m=\u001b[0m \u001b[0mml_survey\u001b[0m\u001b[0;34m.\u001b[0m\u001b[0mzabs\u001b[0m\u001b[0;34m\u001b[0m\u001b[0m\n\u001b[0m\u001b[1;32m    127\u001b[0m     \u001b[0;31m#s_coords = sdss_survey.coord\u001b[0m\u001b[0;34m\u001b[0m\u001b[0;34m\u001b[0m\u001b[0m\n\u001b[1;32m    128\u001b[0m \u001b[0;34m\u001b[0m\u001b[0m\n",
      "\u001b[0;32m/Users/xavier/anaconda/lib/python2.7/bdb.pyc\u001b[0m in \u001b[0;36mtrace_dispatch\u001b[0;34m(self, frame, event, arg)\u001b[0m\n\u001b[1;32m     47\u001b[0m             \u001b[0;32mreturn\u001b[0m \u001b[0;31m# None\u001b[0m\u001b[0;34m\u001b[0m\u001b[0m\n\u001b[1;32m     48\u001b[0m         \u001b[0;32mif\u001b[0m \u001b[0mevent\u001b[0m \u001b[0;34m==\u001b[0m \u001b[0;34m'line'\u001b[0m\u001b[0;34m:\u001b[0m\u001b[0;34m\u001b[0m\u001b[0m\n\u001b[0;32m---> 49\u001b[0;31m             \u001b[0;32mreturn\u001b[0m \u001b[0mself\u001b[0m\u001b[0;34m.\u001b[0m\u001b[0mdispatch_line\u001b[0m\u001b[0;34m(\u001b[0m\u001b[0mframe\u001b[0m\u001b[0;34m)\u001b[0m\u001b[0;34m\u001b[0m\u001b[0m\n\u001b[0m\u001b[1;32m     50\u001b[0m         \u001b[0;32mif\u001b[0m \u001b[0mevent\u001b[0m \u001b[0;34m==\u001b[0m \u001b[0;34m'call'\u001b[0m\u001b[0;34m:\u001b[0m\u001b[0;34m\u001b[0m\u001b[0m\n\u001b[1;32m     51\u001b[0m             \u001b[0;32mreturn\u001b[0m \u001b[0mself\u001b[0m\u001b[0;34m.\u001b[0m\u001b[0mdispatch_call\u001b[0m\u001b[0;34m(\u001b[0m\u001b[0mframe\u001b[0m\u001b[0;34m,\u001b[0m \u001b[0marg\u001b[0m\u001b[0;34m)\u001b[0m\u001b[0;34m\u001b[0m\u001b[0m\n",
      "\u001b[0;32m/Users/xavier/anaconda/lib/python2.7/bdb.pyc\u001b[0m in \u001b[0;36mdispatch_line\u001b[0;34m(self, frame)\u001b[0m\n\u001b[1;32m     66\u001b[0m         \u001b[0;32mif\u001b[0m \u001b[0mself\u001b[0m\u001b[0;34m.\u001b[0m\u001b[0mstop_here\u001b[0m\u001b[0;34m(\u001b[0m\u001b[0mframe\u001b[0m\u001b[0;34m)\u001b[0m \u001b[0;32mor\u001b[0m \u001b[0mself\u001b[0m\u001b[0;34m.\u001b[0m\u001b[0mbreak_here\u001b[0m\u001b[0;34m(\u001b[0m\u001b[0mframe\u001b[0m\u001b[0;34m)\u001b[0m\u001b[0;34m:\u001b[0m\u001b[0;34m\u001b[0m\u001b[0m\n\u001b[1;32m     67\u001b[0m             \u001b[0mself\u001b[0m\u001b[0;34m.\u001b[0m\u001b[0muser_line\u001b[0m\u001b[0;34m(\u001b[0m\u001b[0mframe\u001b[0m\u001b[0;34m)\u001b[0m\u001b[0;34m\u001b[0m\u001b[0m\n\u001b[0;32m---> 68\u001b[0;31m             \u001b[0;32mif\u001b[0m \u001b[0mself\u001b[0m\u001b[0;34m.\u001b[0m\u001b[0mquitting\u001b[0m\u001b[0;34m:\u001b[0m \u001b[0;32mraise\u001b[0m \u001b[0mBdbQuit\u001b[0m\u001b[0;34m\u001b[0m\u001b[0m\n\u001b[0m\u001b[1;32m     69\u001b[0m         \u001b[0;32mreturn\u001b[0m \u001b[0mself\u001b[0m\u001b[0;34m.\u001b[0m\u001b[0mtrace_dispatch\u001b[0m\u001b[0;34m\u001b[0m\u001b[0m\n\u001b[1;32m     70\u001b[0m \u001b[0;34m\u001b[0m\u001b[0m\n",
      "\u001b[0;31mBdbQuit\u001b[0m: "
     ]
    }
   ],
   "source": [
    "reload(vetter)\n",
    "vetter.vette_dlasurvey(ml_survey, sdssdr5)"
   ]
  },
  {
   "cell_type": "code",
   "execution_count": 40,
   "metadata": {
    "collapsed": true
   },
   "outputs": [],
   "source": [
    "tmp = [isys.coord for isys in ml_survey._abs_sys]"
   ]
  },
  {
   "cell_type": "code",
   "execution_count": 42,
   "metadata": {
    "collapsed": false
   },
   "outputs": [],
   "source": [
    "from astropy.coordinates import SkyCoord"
   ]
  },
  {
   "cell_type": "code",
   "execution_count": 46,
   "metadata": {
    "collapsed": false
   },
   "outputs": [],
   "source": [
    "tmp3 = [ii.ra.value for ii in tmp]"
   ]
  },
  {
   "cell_type": "code",
   "execution_count": 49,
   "metadata": {
    "collapsed": false
   },
   "outputs": [
    {
     "data": {
      "text/plain": [
       "152.23239135742188"
      ]
     },
     "execution_count": 49,
     "metadata": {},
     "output_type": "execute_result"
    }
   ],
   "source": [
    "tmp[0].ra.v"
   ]
  },
  {
   "cell_type": "code",
   "execution_count": null,
   "metadata": {
    "collapsed": true
   },
   "outputs": [],
   "source": []
  }
 ],
 "metadata": {
  "kernelspec": {
   "display_name": "Python 2",
   "language": "python",
   "name": "python2"
  },
  "language_info": {
   "codemirror_mode": {
    "name": "ipython",
    "version": 2
   },
   "file_extension": ".py",
   "mimetype": "text/x-python",
   "name": "python",
   "nbconvert_exporter": "python",
   "pygments_lexer": "ipython2",
   "version": "2.7.11"
  }
 },
 "nbformat": 4,
 "nbformat_minor": 0
}
