{
 "cells": [
  {
   "cell_type": "markdown",
   "metadata": {},
   "source": [
    "# Notes on grabbing all the DR12 BOSS spectra using igmspec"
   ]
  },
  {
   "cell_type": "code",
   "execution_count": 11,
   "metadata": {
    "collapsed": true
   },
   "outputs": [],
   "source": [
    "# imports\n",
    "import pdb\n",
    "\n",
    "from specdb.specdb import IgmSpec"
   ]
  },
  {
   "cell_type": "markdown",
   "metadata": {},
   "source": [
    "## Load igmspec"
   ]
  },
  {
   "cell_type": "code",
   "execution_count": 2,
   "metadata": {
    "collapsed": false
   },
   "outputs": [
    {
     "name": "stdout",
     "output_type": "stream",
     "text": [
      "Using /u/xavier/local/Python/igmspec/DB/IGMspec_DB_v02.hdf5 for the catalog file\n",
      "Using /u/xavier/local/Python/igmspec/DB/IGMspec_DB_v02.hdf5 for the DB file\n",
      "Available surveys: [u'BOSS_DR12', u'HSTQSO', u'SDSS_DR7', u'KODIAQ_DR1', u'MUSoDLA', u'HD-LLS_DR1', u'2QZ', u'ESI_DLA', u'HDLA100', u'GGG', u'COS-Halos', u'HST_z2', u'COS-Dwarfs', u'XQ-100']\n",
      "Database is igmspec\n",
      "Created on 2016-Oct-25\n"
     ]
    }
   ],
   "source": [
    "igmsp = IgmSpec()"
   ]
  },
  {
   "cell_type": "markdown",
   "metadata": {},
   "source": [
    "## Examine main catalog"
   ]
  },
  {
   "cell_type": "code",
   "execution_count": 5,
   "metadata": {
    "collapsed": false
   },
   "outputs": [
    {
     "data": {
      "text/html": [
       "&lt;Table length=5&gt;\n",
       "<table id=\"table4614658320\" class=\"table-striped table-bordered table-condensed\">\n",
       "<thead><tr><th>sig_zem</th><th>flag_zem</th><th>flag_survey</th><th>zem</th><th>RA</th><th>DEC</th><th>IGM_ID</th><th>STYPE</th></tr></thead>\n",
       "<thead><tr><th>float64</th><th>str10</th><th>float64</th><th>float64</th><th>float64</th><th>float64</th><th>int64</th><th>str3</th></tr></thead>\n",
       "<tr><td>-1.000</td><td>BOSS_PCA</td><td>1.0</td><td>2.308</td><td>0.0019</td><td>17.7737</td><td>0</td><td>QSO</td></tr>\n",
       "<tr><td>0.002</td><td>BOSS_PCA</td><td>1.0</td><td>2.516</td><td>0.0028</td><td>14.9747</td><td>1</td><td>QSO</td></tr>\n",
       "<tr><td>0.001</td><td>BOSS_PCA</td><td>1.0</td><td>1.629</td><td>0.0041</td><td>4.8298</td><td>2</td><td>QSO</td></tr>\n",
       "<tr><td>0.000</td><td>BOSS_PCA</td><td>1.0</td><td>1.362</td><td>0.0053</td><td>-2.0333</td><td>3</td><td>QSO</td></tr>\n",
       "<tr><td>0.001</td><td>BOSS_PCA</td><td>1.0</td><td>2.335</td><td>0.0057</td><td>-1.3250</td><td>4</td><td>QSO</td></tr>\n",
       "</table>"
      ],
      "text/plain": [
       "<Table length=5>\n",
       "sig_zem  flag_zem flag_survey   zem      RA      DEC    IGM_ID STYPE\n",
       "float64   str10     float64   float64 float64  float64  int64   str3\n",
       "------- --------- ----------- ------- -------- -------- ------ -----\n",
       " -1.000 BOSS_PCA          1.0   2.308   0.0019  17.7737      0   QSO\n",
       "  0.002 BOSS_PCA          1.0   2.516   0.0028  14.9747      1   QSO\n",
       "  0.001 BOSS_PCA          1.0   1.629   0.0041   4.8298      2   QSO\n",
       "  0.000 BOSS_PCA          1.0   1.362   0.0053  -2.0333      3   QSO\n",
       "  0.001 BOSS_PCA          1.0   2.335   0.0057  -1.3250      4   QSO"
      ]
     },
     "execution_count": 5,
     "metadata": {},
     "output_type": "execute_result"
    }
   ],
   "source": [
    "igmsp.qcat.cat[0:5]"
   ]
  },
  {
   "cell_type": "markdown",
   "metadata": {},
   "source": [
    "## Use flag_survey [this should be an int not a float;  need to fix..]\n",
    "\n",
    "### This grabs unique sources"
   ]
  },
  {
   "cell_type": "code",
   "execution_count": 6,
   "metadata": {
    "collapsed": true
   },
   "outputs": [],
   "source": [
    "boss = (igmsp.qcat.cat['flag_survey'] % 2) == 1"
   ]
  },
  {
   "cell_type": "code",
   "execution_count": 7,
   "metadata": {
    "collapsed": false
   },
   "outputs": [
    {
     "data": {
      "text/plain": [
       "302257"
      ]
     },
     "execution_count": 7,
     "metadata": {},
     "output_type": "execute_result"
    }
   ],
   "source": [
    "np.sum(boss)"
   ]
  },
  {
   "cell_type": "markdown",
   "metadata": {},
   "source": [
    "## Probably best to loop from here"
   ]
  },
  {
   "cell_type": "code",
   "execution_count": 10,
   "metadata": {
    "collapsed": false
   },
   "outputs": [],
   "source": [
    "igm_ids = igmsp.qcat.cat['IGM_ID'][boss]"
   ]
  },
  {
   "cell_type": "code",
   "execution_count": 27,
   "metadata": {
    "collapsed": false
   },
   "outputs": [
    {
     "data": {
      "text/plain": [
       "\"\\nfor idx in igm_ids:  \\n    spec, meta = igmsp.idb.grab_spec('BOSS_DR12', idx)\\n    if isinstance(spec, list):  # Deals with the ones that have multiple spectra\\n        spec = spec[0]\\n    pdb.set_trace()\\n\""
      ]
     },
     "execution_count": 27,
     "metadata": {},
     "output_type": "execute_result"
    }
   ],
   "source": [
    "# The following is pretty slow (one-by-one)\n",
    "\"\"\"\n",
    "for idx in igm_ids:  \n",
    "    spec, meta = igmsp.idb.grab_spec('BOSS_DR12', idx)\n",
    "    if isinstance(spec, list):  # Deals with the ones that have multiple spectra\n",
    "        spec = spec[0]\n",
    "    pdb.set_trace()\n",
    "\"\"\""
   ]
  },
  {
   "cell_type": "code",
   "execution_count": 15,
   "metadata": {
    "collapsed": true
   },
   "outputs": [],
   "source": [
    "# Grab 10000 at a time  (only a few times slower than 1)\n",
    "ids = igm_ids[:10000]\n",
    "spec, meta = igmsp.idb.grab_spec('BOSS_DR12', ids)"
   ]
  },
  {
   "cell_type": "code",
   "execution_count": 20,
   "metadata": {
    "collapsed": false
   },
   "outputs": [
    {
     "data": {
      "text/plain": [
       "<XSpectrum1D: file=none, nspec=10003, select=0, wvmin=3604.96 Angstrom, wvmax=10289.6 Angstrom>"
      ]
     },
     "execution_count": 20,
     "metadata": {},
     "output_type": "execute_result"
    }
   ],
   "source": [
    "# The result is one XSpectrum1D object\n",
    "spec"
   ]
  },
  {
   "cell_type": "code",
   "execution_count": 23,
   "metadata": {
    "collapsed": false
   },
   "outputs": [
    {
     "data": {
      "text/plain": [
       "10000"
      ]
     },
     "execution_count": 23,
     "metadata": {},
     "output_type": "execute_result"
    }
   ],
   "source": [
    "uni, uni_idx = np.unique(meta['IGM_ID'], return_index=True)\n",
    "len(uni_idx)"
   ]
  },
  {
   "cell_type": "code",
   "execution_count": 30,
   "metadata": {
    "collapsed": false
   },
   "outputs": [
    {
     "name": "stdout",
     "output_type": "stream",
     "text": [
      "3604.95654297 Angstrom\n",
      "3604.95654297 Angstrom\n",
      "3590.87353516 Angstrom\n",
      "3566.15380859 Angstrom\n",
      "3613.26611328 Angstrom\n",
      "3566.97436523 Angstrom\n",
      "3553.85693359 Angstrom\n",
      "3590.0456543 Angstrom\n",
      "3564.51171875 Angstrom\n",
      "3604.95654297 Angstrom\n"
     ]
    }
   ],
   "source": [
    "# Quick to loop on this\n",
    "for idx in uni_idx:\n",
    "    spec.select = idx\n",
    "    if (idx % 1000) == 0:\n",
    "        print(spec.wvmin)"
   ]
  },
  {
   "cell_type": "code",
   "execution_count": null,
   "metadata": {
    "collapsed": true
   },
   "outputs": [],
   "source": []
  }
 ],
 "metadata": {
  "kernelspec": {
   "display_name": "Python 2",
   "language": "python",
   "name": "python2"
  },
  "language_info": {
   "codemirror_mode": {
    "name": "ipython",
    "version": 2
   },
   "file_extension": ".py",
   "mimetype": "text/x-python",
   "name": "python",
   "nbconvert_exporter": "python",
   "pygments_lexer": "ipython2",
   "version": "2.7.11"
  }
 },
 "nbformat": 4,
 "nbformat_minor": 0
}
