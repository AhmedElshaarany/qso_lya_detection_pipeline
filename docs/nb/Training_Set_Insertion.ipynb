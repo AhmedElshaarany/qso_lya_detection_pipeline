{
 "cells": [
  {
   "cell_type": "markdown",
   "metadata": {},
   "source": [
    "# Code to randomly insert DLAs into a sightline [v1.0]"
   ]
  },
  {
   "cell_type": "code",
   "execution_count": 35,
   "metadata": {
    "collapsed": false
   },
   "outputs": [],
   "source": [
    "# imports\n",
    "from scipy import interpolate\n",
    "\n",
    "from specdb.specdb import IgmSpec\n",
    "\n",
    "from pyigm.surveys.dlasurvey import DLASurvey\n",
    "from pyigm.fN import dla as pyi_fd\n",
    "\n",
    "#from xastropy.xutils import xdebug as xdb\n",
    "\n",
    "sys.path.append(os.path.abspath(\"../../src\"))\n",
    "import training_set as tset"
   ]
  },
  {
   "cell_type": "markdown",
   "metadata": {},
   "source": [
    "## Random numbers"
   ]
  },
  {
   "cell_type": "code",
   "execution_count": 43,
   "metadata": {
    "collapsed": true
   },
   "outputs": [],
   "source": [
    "rstate = np.random.RandomState(1234)"
   ]
  },
  {
   "cell_type": "markdown",
   "metadata": {},
   "source": [
    "## Spectra"
   ]
  },
  {
   "cell_type": "code",
   "execution_count": 3,
   "metadata": {
    "collapsed": false
   },
   "outputs": [
    {
     "name": "stdout",
     "output_type": "stream",
     "text": [
      "Using /u/xavier/local/Python/igmspec/DB/IGMspec_DB_v02.hdf5 for the catalog file\n",
      "Using /u/xavier/local/Python/igmspec/DB/IGMspec_DB_v02.hdf5 for the DB file\n",
      "Available surveys: [u'BOSS_DR12', u'HSTQSO', u'SDSS_DR7', u'KODIAQ_DR1', u'MUSoDLA', u'HD-LLS_DR1', u'2QZ', u'ESI_DLA', u'HDLA100', u'GGG', u'COS-Halos', u'HST_z2', u'COS-Dwarfs', u'XQ-100']\n",
      "Database is igmspec\n",
      "Created on 2016-Oct-25\n"
     ]
    }
   ],
   "source": [
    "igmsp = IgmSpec()"
   ]
  },
  {
   "cell_type": "markdown",
   "metadata": {},
   "source": [
    "## Grab the sightlines"
   ]
  },
  {
   "cell_type": "code",
   "execution_count": 2,
   "metadata": {
    "collapsed": false
   },
   "outputs": [
    {
     "name": "stdout",
     "output_type": "stream",
     "text": [
      "Using the DR5 sample for the sightlines\n",
      "SDSS-DR5: Loading DLA file /Users/xavier/local/Python/pyigm/pyigm/data/DLA/SDSS_DR5/dr5_alldla.fits.gz\n",
      "SDSS-DR5: Loading QSOs file /Users/xavier/local/Python/pyigm/pyigm/data/DLA/SDSS_DR5/dr5_dlagz_s2n4.fits\n",
      "We have 5034 sightlines for analysis\n",
      "Min z = 2.23244, Median z = 2.65984, Max z = 5.19597\n"
     ]
    }
   ],
   "source": [
    "reload(tset)\n",
    "slines, sdict = tset.grab_sightlines()"
   ]
  },
  {
   "cell_type": "markdown",
   "metadata": {},
   "source": [
    "## Fiddling"
   ]
  },
  {
   "cell_type": "markdown",
   "metadata": {},
   "source": [
    "### z~3"
   ]
  },
  {
   "cell_type": "code",
   "execution_count": 8,
   "metadata": {
    "collapsed": false
   },
   "outputs": [
    {
     "name": "stdout",
     "output_type": "stream",
     "text": [
      "Your search yielded 1 match[es]\n",
      "Staged 1 spectra totalling 6.4e-05 Gb\n",
      "Loaded spectra\n"
     ]
    }
   ],
   "source": [
    "i3 = np.argmin(np.abs(slines['ZEM']-3.))\n",
    "s3 = slines[i3]\n",
    "spec3l, meta = igmsp.spec_from_coord((s3['RA'], s3['DEC']), isurvey=['SDSS_DR7'])\n",
    "spec3 = spec3l[0]"
   ]
  },
  {
   "cell_type": "code",
   "execution_count": 11,
   "metadata": {
    "collapsed": false
   },
   "outputs": [
    {
     "data": {
      "text/plain": [
       "2.1209319596016654"
      ]
     },
     "execution_count": 11,
     "metadata": {},
     "output_type": "execute_result"
    }
   ],
   "source": [
    "spec3.wvmin.value/1215.67 - 1."
   ]
  },
  {
   "cell_type": "markdown",
   "metadata": {},
   "source": [
    "#### zlya"
   ]
  },
  {
   "cell_type": "code",
   "execution_count": 48,
   "metadata": {
    "collapsed": false
   },
   "outputs": [
    {
     "data": {
      "text/plain": [
       "array([ 0.0007187 ,  0.00071887,  0.00071903, ...,  0.00174   ,\n",
       "        0.0017404 ,  0.0017404 ])"
      ]
     },
     "execution_count": 48,
     "metadata": {},
     "output_type": "execute_result"
    }
   ],
   "source": [
    "zlya = spec3.wavelength.value/1215.67 - 1\n",
    "gdz = (zlya < s3['ZEM']) & (spec3.wavelength > 910.*u.AA*(1+s3['ZEM']))\n",
    "dz = np.roll(zlya,-1)-zlya\n",
    "dz[-1] = dz[-2]\n",
    "dz"
   ]
  },
  {
   "cell_type": "markdown",
   "metadata": {},
   "source": [
    "#### $\\ell(z)$"
   ]
  },
  {
   "cell_type": "code",
   "execution_count": 25,
   "metadata": {
    "collapsed": false
   },
   "outputs": [
    {
     "data": {
      "text/plain": [
       "array([ 0.18331483,  0.18334042,  0.18336602, ...,  0.27237858,\n",
       "        0.27241322,  0.27244785])"
      ]
     },
     "execution_count": 25,
     "metadata": {},
     "output_type": "execute_result"
    }
   ],
   "source": [
    "reload(pyi_fd)\n",
    "lz = pyi_fd.lX(zlya[gdz], extrap=True, calc_lz=True)\n",
    "lz"
   ]
  },
  {
   "cell_type": "markdown",
   "metadata": {},
   "source": [
    "#### Cumul"
   ]
  },
  {
   "cell_type": "code",
   "execution_count": 37,
   "metadata": {
    "collapsed": false
   },
   "outputs": [
    {
     "data": {
      "text/plain": [
       "0.18932704664780059"
      ]
     },
     "execution_count": 37,
     "metadata": {},
     "output_type": "execute_result"
    }
   ],
   "source": [
    "cum_lz = np.cumsum(lz*dz[gdz])\n",
    "tot_lz = cum_lz[-1]\n",
    "tot_lz\n",
    "#xdb.xplot(cum_lz)"
   ]
  },
  {
   "cell_type": "markdown",
   "metadata": {},
   "source": [
    "#### Random draw"
   ]
  },
  {
   "cell_type": "code",
   "execution_count": 39,
   "metadata": {
    "collapsed": false
   },
   "outputs": [
    {
     "data": {
      "text/plain": [
       "array([0, 0, 0, 0, 0, 1, 0, 0, 0, 0, 0, 0, 0, 0, 1, 0, 0, 0, 0, 1])"
      ]
     },
     "execution_count": 39,
     "metadata": {},
     "output_type": "execute_result"
    }
   ],
   "source": [
    "ndla = np.random.poisson(tot_lz, 20)\n",
    "ndla"
   ]
  },
  {
   "cell_type": "markdown",
   "metadata": {},
   "source": [
    "#### Random redshifts"
   ]
  },
  {
   "cell_type": "code",
   "execution_count": 41,
   "metadata": {
    "collapsed": true
   },
   "outputs": [],
   "source": [
    "fzdla = interpolate.interp1d(cum_lz/tot_lz, zlya[gdz],bounds_error=False,fill_value=np.min(zlya[gdz]))#"
   ]
  },
  {
   "cell_type": "code",
   "execution_count": 46,
   "metadata": {
    "collapsed": false
   },
   "outputs": [],
   "source": [
    "randz = rstate.random_sample(100)"
   ]
  },
  {
   "cell_type": "code",
   "execution_count": 47,
   "metadata": {
    "collapsed": false
   },
   "outputs": [
    {
     "data": {
      "text/plain": [
       "array([ 2.98564734,  2.91595431,  2.71686489,  2.95142175,  2.79594765,\n",
       "        2.78945962,  2.16232933,  2.55063337,  2.4011178 ,  2.45195463,\n",
       "        2.20491238,  2.82471283,  2.61489647,  2.74420171,  2.71902585,\n",
       "        2.48622071,  2.55734776,  2.52803089,  2.58838005,  2.98862937,\n",
       "        2.48859465,  2.13300936,  2.94525584,  2.91020805,  2.46795376,\n",
       "        2.71887703,  2.47375047,  2.33323137,  2.34364447,  2.53217058,\n",
       "        2.19429392,  2.73584985,  2.82060163,  2.95257784,  2.49142715,\n",
       "        2.41543319,  2.48718822,  2.87657154,  2.93031168,  2.53935166,\n",
       "        2.12247379,  2.16322234,  2.26281261,  2.69246489,  2.22777802,\n",
       "        2.41565617,  2.17973902,  2.71164358,  2.14358104,  2.89692227,\n",
       "        2.42448172,  2.82306824,  2.66294105,  2.15939305,  2.66487041,\n",
       "        2.74242401,  2.30413911,  2.85346724,  2.70425838,  2.65633302,\n",
       "        2.71835043,  2.76471922,  2.36052721,  2.84606566,  2.89796926,\n",
       "        2.79835032,  2.76974259,  2.58098138,  2.89826008,  2.74722291,\n",
       "        2.45040503,  2.62301031,  2.50877492,  2.15217171,  2.67452064,\n",
       "        2.89337549,  2.96633594,  2.7621093 ,  2.197549  ,  2.523326  ,\n",
       "        2.16315804,  2.29508922,  2.6647718 ,  2.29379411,  2.66580953,\n",
       "        2.61922984,  2.90702007,  2.79239517,  2.93207794,  2.39681872,\n",
       "        2.37655071,  2.77573314,  2.93062102,  2.98888596,  2.72771866,\n",
       "        2.44718162,  2.69952   ,  2.8724076 ,  2.71709734,  2.23917044])"
      ]
     },
     "execution_count": 47,
     "metadata": {},
     "output_type": "execute_result"
    }
   ],
   "source": [
    "zdla = fzdla(randz)\n",
    "zdla"
   ]
  },
  {
   "cell_type": "code",
   "execution_count": null,
   "metadata": {
    "collapsed": true
   },
   "outputs": [],
   "source": []
  }
 ],
 "metadata": {
  "kernelspec": {
   "display_name": "Python 2",
   "language": "python",
   "name": "python2"
  },
  "language_info": {
   "codemirror_mode": {
    "name": "ipython",
    "version": 2
   },
   "file_extension": ".py",
   "mimetype": "text/x-python",
   "name": "python",
   "nbconvert_exporter": "python",
   "pygments_lexer": "ipython2",
   "version": "2.7.11"
  }
 },
 "nbformat": 4,
 "nbformat_minor": 0
}
