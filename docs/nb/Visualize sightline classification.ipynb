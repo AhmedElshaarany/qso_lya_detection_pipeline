{
 "cells": [
  {
   "cell_type": "code",
   "execution_count": 3,
   "metadata": {
    "collapsed": false
   },
   "outputs": [
    {
     "name": "stdout",
     "output_type": "stream",
     "text": [
      "The autoreload extension is already loaded. To reload it, use:\n",
      "  %reload_ext autoreload\n"
     ]
    },
    {
     "ename": "ImportError",
     "evalue": "No module named tensorflow",
     "output_type": "error",
     "traceback": [
      "\u001b[0;31m---------------------------------------------------------------------------\u001b[0m",
      "\u001b[0;31mImportError\u001b[0m                               Traceback (most recent call last)",
      "\u001b[0;32m<ipython-input-3-a12811c5132a>\u001b[0m in \u001b[0;36m<module>\u001b[0;34m()\u001b[0m\n\u001b[1;32m      3\u001b[0m \u001b[0;32mimport\u001b[0m \u001b[0msys\u001b[0m\u001b[0;34m\u001b[0m\u001b[0m\n\u001b[1;32m      4\u001b[0m \u001b[0msys\u001b[0m\u001b[0;34m.\u001b[0m\u001b[0mpath\u001b[0m\u001b[0;34m.\u001b[0m\u001b[0mappend\u001b[0m\u001b[0;34m(\u001b[0m\u001b[0;34m'../../src/'\u001b[0m\u001b[0;34m)\u001b[0m\u001b[0;34m\u001b[0m\u001b[0m\n\u001b[0;32m----> 5\u001b[0;31m \u001b[0;32mimport\u001b[0m \u001b[0mdata_loader\u001b[0m \u001b[0;32mas\u001b[0m \u001b[0md\u001b[0m\u001b[0;34m\u001b[0m\u001b[0m\n\u001b[0m\u001b[1;32m      6\u001b[0m \u001b[0;32mfrom\u001b[0m \u001b[0mdata_model\u001b[0m\u001b[0;34m.\u001b[0m\u001b[0mId_GENSAMPLES\u001b[0m \u001b[0;32mimport\u001b[0m \u001b[0mId_GENSAMPLES\u001b[0m\u001b[0;34m\u001b[0m\u001b[0m\n\u001b[1;32m      7\u001b[0m \u001b[0;32mfrom\u001b[0m \u001b[0mdata_model\u001b[0m\u001b[0;34m.\u001b[0m\u001b[0mDataMarker\u001b[0m \u001b[0;32mimport\u001b[0m \u001b[0mMarker\u001b[0m\u001b[0;34m\u001b[0m\u001b[0m\n",
      "\u001b[0;32m/media/davidparks21/Elements/myprojectsUSB/QSO_Classification/public/src/data_loader.py\u001b[0m in \u001b[0;36m<module>\u001b[0;34m()\u001b[0m\n\u001b[1;32m     17\u001b[0m \u001b[0;32mfrom\u001b[0m \u001b[0mdata_model\u001b[0m\u001b[0;34m.\u001b[0m\u001b[0mDataMarker\u001b[0m \u001b[0;32mimport\u001b[0m \u001b[0mMarker\u001b[0m\u001b[0;34m\u001b[0m\u001b[0m\n\u001b[1;32m     18\u001b[0m \u001b[0;32mimport\u001b[0m \u001b[0mcode\u001b[0m\u001b[0;34m,\u001b[0m \u001b[0mtraceback\u001b[0m\u001b[0;34m,\u001b[0m \u001b[0mthreading\u001b[0m\u001b[0;34m\u001b[0m\u001b[0m\n\u001b[0;32m---> 19\u001b[0;31m \u001b[0;32mfrom\u001b[0m \u001b[0mlocalize_model\u001b[0m \u001b[0;32mimport\u001b[0m \u001b[0mpredictions_ann\u001b[0m \u001b[0;32mas\u001b[0m \u001b[0mpredictions_ann_c2\u001b[0m\u001b[0;34m\u001b[0m\u001b[0m\n\u001b[0m\u001b[1;32m     20\u001b[0m \u001b[0;32mimport\u001b[0m \u001b[0mscipy\u001b[0m\u001b[0;34m.\u001b[0m\u001b[0msignal\u001b[0m \u001b[0;32mas\u001b[0m \u001b[0msignal\u001b[0m\u001b[0;34m\u001b[0m\u001b[0m\n\u001b[1;32m     21\u001b[0m \u001b[0;32mfrom\u001b[0m \u001b[0mscipy\u001b[0m\u001b[0;34m.\u001b[0m\u001b[0mspatial\u001b[0m\u001b[0;34m.\u001b[0m\u001b[0mdistance\u001b[0m \u001b[0;32mimport\u001b[0m \u001b[0mcdist\u001b[0m\u001b[0;34m\u001b[0m\u001b[0m\n",
      "\u001b[0;32m/media/davidparks21/Elements/myprojectsUSB/QSO_Classification/public/src/localize_model.py\u001b[0m in \u001b[0;36m<module>\u001b[0;34m()\u001b[0m\n\u001b[1;32m      1\u001b[0m \u001b[0;31m#!python\u001b[0m\u001b[0;34m\u001b[0m\u001b[0;34m\u001b[0m\u001b[0m\n\u001b[1;32m      2\u001b[0m \u001b[0;34m\u001b[0m\u001b[0m\n\u001b[0;32m----> 3\u001b[0;31m \u001b[0;32mfrom\u001b[0m \u001b[0mModel_v5\u001b[0m \u001b[0;32mimport\u001b[0m \u001b[0;34m*\u001b[0m\u001b[0;34m\u001b[0m\u001b[0m\n\u001b[0m\u001b[1;32m      4\u001b[0m \u001b[0;32mimport\u001b[0m \u001b[0mtensorflow\u001b[0m \u001b[0;32mas\u001b[0m \u001b[0mtf\u001b[0m\u001b[0;34m\u001b[0m\u001b[0m\n\u001b[1;32m      5\u001b[0m \u001b[0;32mimport\u001b[0m \u001b[0mnumpy\u001b[0m \u001b[0;32mas\u001b[0m \u001b[0mnp\u001b[0m\u001b[0;34m\u001b[0m\u001b[0m\n",
      "\u001b[0;32m/media/davidparks21/Elements/myprojectsUSB/QSO_Classification/public/src/Model_v5.py\u001b[0m in \u001b[0;36m<module>\u001b[0;34m()\u001b[0m\n\u001b[0;32m----> 1\u001b[0;31m \u001b[0;32mimport\u001b[0m \u001b[0mtensorflow\u001b[0m \u001b[0;32mas\u001b[0m \u001b[0mtf\u001b[0m\u001b[0;34m\u001b[0m\u001b[0m\n\u001b[0m\u001b[1;32m      2\u001b[0m \u001b[0;32mimport\u001b[0m \u001b[0mmath\u001b[0m\u001b[0;34m\u001b[0m\u001b[0m\n\u001b[1;32m      3\u001b[0m \u001b[0;34m\u001b[0m\u001b[0m\n\u001b[1;32m      4\u001b[0m \u001b[0;34m\u001b[0m\u001b[0m\n\u001b[1;32m      5\u001b[0m \u001b[0;32mdef\u001b[0m \u001b[0mweight_variable\u001b[0m\u001b[0;34m(\u001b[0m\u001b[0mshape\u001b[0m\u001b[0;34m)\u001b[0m\u001b[0;34m:\u001b[0m\u001b[0;34m\u001b[0m\u001b[0m\n",
      "\u001b[0;31mImportError\u001b[0m: No module named tensorflow"
     ]
    }
   ],
   "source": [
    "%load_ext autoreload\n",
    "%autoreload 2\n",
    "import sys\n",
    "sys.path.append('../../src/')\n",
    "import data_loader as d\n",
    "from data_model.Id_GENSAMPLES import Id_GENSAMPLES\n",
    "from data_model.DataMarker import Marker\n",
    "\n",
    "import matplotlib\n",
    "%matplotlib inline\n",
    "from matplotlib import pyplot as plt\n",
    "import matplotlib.patches as patches\n",
    "import numpy as np\n",
    "\n",
    "REST_RANGE = [900, 1346, 1748]\n"
   ]
  },
  {
   "cell_type": "code",
   "execution_count": 2,
   "metadata": {
    "collapsed": false
   },
   "outputs": [
    {
     "data": {
      "text/plain": [
       "u'/home/davidparks21/myprojects/QSO_Classification/public/docs/dp-v5-notebooks'"
      ]
     },
     "execution_count": 2,
     "metadata": {},
     "output_type": "execute_result"
    }
   ],
   "source": [
    "pwd"
   ]
  },
  {
   "cell_type": "code",
   "execution_count": 3,
   "metadata": {
    "collapsed": false
   },
   "outputs": [],
   "source": [
    "base_dir = '../..'"
   ]
  },
  {
   "cell_type": "code",
   "execution_count": 1,
   "metadata": {
    "collapsed": false,
    "scrolled": false
   },
   "outputs": [
    {
     "ename": "NameError",
     "evalue": "name 'Id_GENSAMPLES' is not defined",
     "output_type": "error",
     "traceback": [
      "\u001b[0;31m---------------------------------------------------------------------------\u001b[0m",
      "\u001b[0;31mNameError\u001b[0m                                 Traceback (most recent call last)",
      "\u001b[0;32m<ipython-input-1-f7b900d8419d>\u001b[0m in \u001b[0;36m<module>\u001b[0;34m()\u001b[0m\n\u001b[1;32m      1\u001b[0m \u001b[0;32mfor\u001b[0m \u001b[0midx\u001b[0m \u001b[0;32min\u001b[0m \u001b[0;34m[\u001b[0m\u001b[0;36m6\u001b[0m\u001b[0;34m,\u001b[0m\u001b[0;36m7\u001b[0m\u001b[0;34m,\u001b[0m\u001b[0;36m15\u001b[0m\u001b[0;34m,\u001b[0m\u001b[0;36m22\u001b[0m\u001b[0;34m]\u001b[0m\u001b[0;34m:\u001b[0m\u001b[0;34m\u001b[0m\u001b[0m\n\u001b[0;32m----> 2\u001b[0;31m     id_gensamples = Id_GENSAMPLES(idx,\n\u001b[0m\u001b[1;32m      3\u001b[0m         \u001b[0mhdf5_datafile\u001b[0m\u001b[0;34m=\u001b[0m\u001b[0mbase_dir\u001b[0m \u001b[0;34m+\u001b[0m \u001b[0;34m'/data/gensample_hdf5_files/test_dlas_96451_5000.hdf5'\u001b[0m\u001b[0;34m,\u001b[0m\u001b[0;34m\u001b[0m\u001b[0m\n\u001b[1;32m      4\u001b[0m         json_datafile=base_dir + '/data/gensample_hdf5_files/test_dlas_96451_5000.json')\n\u001b[1;32m      5\u001b[0m     \u001b[0msightline\u001b[0m \u001b[0;34m=\u001b[0m \u001b[0md\u001b[0m\u001b[0;34m.\u001b[0m\u001b[0mread_sightline\u001b[0m\u001b[0;34m(\u001b[0m\u001b[0mid_gensamples\u001b[0m\u001b[0;34m)\u001b[0m\u001b[0;34m\u001b[0m\u001b[0m\n",
      "\u001b[0;31mNameError\u001b[0m: name 'Id_GENSAMPLES' is not defined"
     ]
    }
   ],
   "source": [
    "for idx in [6,7,15,22]:\n",
    "    id_gensamples = Id_GENSAMPLES(idx,\n",
    "        hdf5_datafile=base_dir + '/data/gensample_hdf5_files/test_dlas_96451_5000.hdf5',\n",
    "        json_datafile=base_dir + '/data/gensample_hdf5_files/test_dlas_96451_5000.json')\n",
    "    sightline = d.read_sightline(id_gensamples)\n",
    "#     sightline.data_markers = [Marker(947.7627282), Marker(1072.011948), Marker(1123.568683)]\n",
    "    data_split = d.split_sightline_into_samples(sightline)\n",
    "    lam, lam_rest, ix_dla_range = d.get_lam_data(sightline.loglam, sightline.z_qso, REST_RANGE)\n",
    "\n",
    "    c = data_split[1]\n",
    "    splits = [i for i in range(0,len(c)) if c[i] != c[i-1] and i>0]\n",
    "    splits.insert(0, 0)\n",
    "    splits.append(len(c))\n",
    "\n",
    "    # column density, contiguous ranges where coldensity == 0\n",
    "    coldensity = data_split[3]\n",
    "    splits_coldensity = [i for i in range(0,len(coldensity))\n",
    "                         if ((coldensity[i]>0.0) != (coldensity[i-1]>0.0)) and i > 0]\n",
    "    splits_coldensity.insert(0, 0)\n",
    "    splits_coldensity.append(len(coldensity))\n",
    "    np.set_printoptions(threshold=np.nan)\n",
    "#     print c\n",
    "#     print splits_coldensity\n",
    "#     print coldensity\n",
    "#     print data_split[2]\n",
    "    \n",
    "    # green = 1 = positive\n",
    "    # red = 0 = negative\n",
    "    # gray = -1 = ignore\n",
    "    plt.figure(figsize=(20, 6))\n",
    "    ax = plt.gca()\n",
    "    ax.plot(lam, sightline.flux)\n",
    "    plt.xlim([lam[ix_dla_range][0],lam[ix_dla_range][1747]])\n",
    "    # plt.xlim([3900-260, 3900+260])  #dla-3896\n",
    "\n",
    "    # Classification\n",
    "    for i in range(0,len(splits)-1):\n",
    "        classification = c[splits[i]]\n",
    "        x = lam[ix_dla_range][splits[i]]\n",
    "        width = lam[ix_dla_range][splits[i+1]-1] - lam[ix_dla_range][splits[i]]\n",
    "        ax.add_patch(\n",
    "            patches.Rectangle(\n",
    "                (x, -20),   # (x,y)\n",
    "                width,          # width\n",
    "                120,          # height\n",
    "                alpha=0.2, \n",
    "                color='green' if classification==1 else 'red' if classification==0 else 'gray'\n",
    "            )\n",
    "        )\n",
    "    "
   ]
  }
 ],
 "metadata": {
  "anaconda-cloud": {},
  "kernelspec": {
   "display_name": "Python 2",
   "language": "python",
   "name": "python2"
  },
  "language_info": {
   "codemirror_mode": {
    "name": "ipython",
    "version": 2
   },
   "file_extension": ".py",
   "mimetype": "text/x-python",
   "name": "python",
   "nbconvert_exporter": "python",
   "pygments_lexer": "ipython2",
   "version": "2.7.13"
  }
 },
 "nbformat": 4,
 "nbformat_minor": 2
}
