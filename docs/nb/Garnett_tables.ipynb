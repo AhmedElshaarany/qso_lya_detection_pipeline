{
 "cells": [
  {
   "cell_type": "markdown",
   "metadata": {},
   "source": [
    "# Fussing with the Garnett data products"
   ]
  },
  {
   "cell_type": "code",
   "execution_count": 29,
   "metadata": {},
   "outputs": [
    {
     "name": "stdout",
     "output_type": "stream",
     "text": [
      "read_sets: Using set file -- \n",
      "  /home/xavier/local/Python/linetools/linetools/lists/sets/llist_v1.2.ascii\n",
      "Loading abundances from Asplund2009\n",
      "Abundances are relative by number on a logarithmic scale with H=12\n"
     ]
    },
    {
     "name": "stderr",
     "output_type": "stream",
     "text": [
      "/home/xavier/local/Python/linetools/linetools/lists/linelist.py:402: RuntimeWarning: divide by zero encountered in log10\n",
      "  self._extra_table['log(w*f)'] = np.log10(qm_strength)\n"
     ]
    }
   ],
   "source": [
    "# imports\n",
    "import numpy as np\n",
    "\n",
    "from pkg_resources import resource_filename\n",
    "\n",
    "from astropy.table import Table, MaskedColumn\n",
    "\n",
    "from specdb.cat_utils import match_ids\n",
    "\n",
    "from dla_cnn import io as dla_io"
   ]
  },
  {
   "cell_type": "markdown",
   "metadata": {},
   "source": [
    "## Check original tables"
   ]
  },
  {
   "cell_type": "code",
   "execution_count": 32,
   "metadata": {
    "collapsed": true
   },
   "outputs": [],
   "source": [
    "g16_abs = dla_io.load_garnett16(orig=True)"
   ]
  },
  {
   "cell_type": "code",
   "execution_count": 33,
   "metadata": {},
   "outputs": [
    {
     "data": {
      "text/plain": [
       "['THINGID',\n",
       " 'SDSS',\n",
       " 'Plate',\n",
       " 'MJD',\n",
       " 'Fiber',\n",
       " 'RAdeg',\n",
       " 'DEdeg',\n",
       " 'z_QSO',\n",
       " 'SNRSpec',\n",
       " 'b_z_DLA',\n",
       " 'B_z_DLA',\n",
       " 'log.pnDLA',\n",
       " 'log.pDLA',\n",
       " 'log.pDnDLA',\n",
       " 'log.pDDLA',\n",
       " 'pnDLAD',\n",
       " 'pDLAD',\n",
       " 'z_DLA',\n",
       " 'log.NHI',\n",
       " 'flg_BAL',\n",
       " 'SNR']"
      ]
     },
     "execution_count": 33,
     "metadata": {},
     "output_type": "execute_result"
    }
   ],
   "source": [
    "g16_abs.keys()"
   ]
  },
  {
   "cell_type": "markdown",
   "metadata": {
    "collapsed": true
   },
   "source": [
    "## Convert MNRAS tables to something useful"
   ]
  },
  {
   "cell_type": "markdown",
   "metadata": {},
   "source": [
    "### Read"
   ]
  },
  {
   "cell_type": "markdown",
   "metadata": {},
   "source": [
    "#### Table 1"
   ]
  },
  {
   "cell_type": "code",
   "execution_count": 34,
   "metadata": {
    "collapsed": true
   },
   "outputs": [],
   "source": [
    "tbl1_file = resource_filename('dla_cnn', 'catalogs/boss_dr12/MNRAS/table1.dat')"
   ]
  },
  {
   "cell_type": "code",
   "execution_count": 35,
   "metadata": {},
   "outputs": [],
   "source": [
    "tbl1 = Table.read(tbl1_file, format='ascii')"
   ]
  },
  {
   "cell_type": "code",
   "execution_count": 36,
   "metadata": {},
   "outputs": [
    {
     "data": {
      "text/html": [
       "&lt;Table length=5&gt;\n",
       "<table id=\"table139883722844760\" class=\"table-striped table-bordered table-condensed\">\n",
       "<thead><tr><th>THINGID</th><th>SDSS</th><th>Plate</th><th>MJD</th><th>Fiber</th><th>RAdeg</th><th>DECdeg</th><th>z_QSO</th><th>SNR</th><th>flg_BAL</th></tr></thead>\n",
       "<thead><tr><th>int64</th><th>str18</th><th>int64</th><th>int64</th><th>int64</th><th>float64</th><th>float64</th><th>float64</th><th>float64</th><th>int64</th></tr></thead>\n",
       "<tr><td>268514930</td><td>000000.45+174625.4</td><td>6173</td><td>56238</td><td>528</td><td>0.0018983</td><td>17.7737391</td><td>2.3091</td><td>0.7795</td><td>0</td></tr>\n",
       "<tr><td>245101352</td><td>000000.66+145828.8</td><td>6177</td><td>56268</td><td>595</td><td>0.0027564</td><td>14.9746755</td><td>2.4979</td><td>3.5009</td><td>0</td></tr>\n",
       "<tr><td>154279486</td><td>000000.97+044947.2</td><td>4415</td><td>55831</td><td>464</td><td>0.0040524</td><td>4.8297806</td><td>1.6188</td><td>7.1102</td><td>1000</td></tr>\n",
       "<tr><td>62145359</td><td>000001.27-020159.7</td><td>4354</td><td>55810</td><td>678</td><td>0.005317</td><td>-2.0332733</td><td>1.3604</td><td>6.1981</td><td>1000</td></tr>\n",
       "<tr><td>66692618</td><td>000001.37-011930.0</td><td>4354</td><td>55810</td><td>646</td><td>0.0057462</td><td>-1.3250088</td><td>2.328</td><td>8.2577</td><td>0</td></tr>\n",
       "</table>"
      ],
      "text/plain": [
       "<Table length=5>\n",
       " THINGID         SDSS        Plate  MJD  ...   DECdeg    z_QSO    SNR   flg_BAL\n",
       "  int64         str18        int64 int64 ...  float64   float64 float64  int64 \n",
       "--------- ------------------ ----- ----- ... ---------- ------- ------- -------\n",
       "268514930 000000.45+174625.4  6173 56238 ... 17.7737391  2.3091  0.7795       0\n",
       "245101352 000000.66+145828.8  6177 56268 ... 14.9746755  2.4979  3.5009       0\n",
       "154279486 000000.97+044947.2  4415 55831 ...  4.8297806  1.6188  7.1102    1000\n",
       " 62145359 000001.27-020159.7  4354 55810 ... -2.0332733  1.3604  6.1981    1000\n",
       " 66692618 000001.37-011930.0  4354 55810 ... -1.3250088   2.328  8.2577       0"
      ]
     },
     "execution_count": 36,
     "metadata": {},
     "output_type": "execute_result"
    }
   ],
   "source": [
    "tbl1[0:5]"
   ]
  },
  {
   "cell_type": "markdown",
   "metadata": {},
   "source": [
    "#### Table 2"
   ]
  },
  {
   "cell_type": "code",
   "execution_count": 37,
   "metadata": {
    "collapsed": true
   },
   "outputs": [],
   "source": [
    "tbl2_file = resource_filename('dla_cnn', 'catalogs/boss_dr12/MNRAS/table2.dat')"
   ]
  },
  {
   "cell_type": "code",
   "execution_count": 38,
   "metadata": {},
   "outputs": [
    {
     "name": "stderr",
     "output_type": "stream",
     "text": [
      "WARNING: OverflowError converting to FloatType in column pDLAD, possibly resulting in degraded precision. [astropy.io.ascii.fastbasic]\n"
     ]
    }
   ],
   "source": [
    "tbl2 = Table.read(tbl2_file, format='ascii')"
   ]
  },
  {
   "cell_type": "code",
   "execution_count": 39,
   "metadata": {},
   "outputs": [
    {
     "data": {
      "text/html": [
       "&lt;Table length=5&gt;\n",
       "<table id=\"table139883722843080\" class=\"table-striped table-bordered table-condensed\">\n",
       "<thead><tr><th>THINGID</th><th>zmin</th><th>zmax</th><th>log.pnDLA</th><th>log.pDLA</th><th>log.pDnDLA</th><th>log.pDDLA</th><th>pnDLAD</th><th>pDLAD</th><th>z_DLA</th><th>log.NHI</th></tr></thead>\n",
       "<thead><tr><th>int64</th><th>float64</th><th>float64</th><th>float64</th><th>float64</th><th>float64</th><th>float64</th><th>float64</th><th>float64</th><th>float64</th><th>float64</th></tr></thead>\n",
       "<tr><td>268514930</td><td>1.9654</td><td>2.2989</td><td>-0.03081</td><td>-3.49537</td><td>-1043.59</td><td>-1042.56</td><td>0.919661</td><td>0.0803389</td><td>2.216</td><td>20.0077</td></tr>\n",
       "<tr><td>245101352</td><td>1.9661</td><td>2.4877</td><td>-0.04589</td><td>-3.10426</td><td>-621.961</td><td>-609.072</td><td>5.37594e-05</td><td>0.999946</td><td>1.997</td><td>20.0544</td></tr>\n",
       "<tr><td>66692618</td><td>1.9552</td><td>2.318</td><td>-0.03247</td><td>-3.44363</td><td>-345.637</td><td>-350.097</td><td>0.999618</td><td>0.000381529</td><td>1.997</td><td>20.0038</td></tr>\n",
       "<tr><td>374107623</td><td>1.9328</td><td>2.3666</td><td>-0.03603</td><td>-3.34124</td><td>-1074.77</td><td>-1079.59</td><td>0.999703</td><td>0.000296901</td><td>1.9438</td><td>20.0021</td></tr>\n",
       "<tr><td>237410936</td><td>2.544</td><td>3.7018</td><td>-0.10786</td><td>-2.28033</td><td>-579.993</td><td>-588.618</td><td>0.99998</td><td>2.04506e-05</td><td>2.8005</td><td>20.0045</td></tr>\n",
       "</table>"
      ],
      "text/plain": [
       "<Table length=5>\n",
       " THINGID    zmin    zmax  log.pnDLA ...    pnDLAD      pDLAD     z_DLA  log.NHI\n",
       "  int64   float64 float64  float64  ...   float64     float64   float64 float64\n",
       "--------- ------- ------- --------- ... ----------- ----------- ------- -------\n",
       "268514930  1.9654  2.2989  -0.03081 ...    0.919661   0.0803389   2.216 20.0077\n",
       "245101352  1.9661  2.4877  -0.04589 ... 5.37594e-05    0.999946   1.997 20.0544\n",
       " 66692618  1.9552   2.318  -0.03247 ...    0.999618 0.000381529   1.997 20.0038\n",
       "374107623  1.9328  2.3666  -0.03603 ...    0.999703 0.000296901  1.9438 20.0021\n",
       "237410936   2.544  3.7018  -0.10786 ...     0.99998 2.04506e-05  2.8005 20.0045"
      ]
     },
     "execution_count": 39,
     "metadata": {},
     "output_type": "execute_result"
    }
   ],
   "source": [
    "tbl2[0:5]"
   ]
  },
  {
   "cell_type": "code",
   "execution_count": 40,
   "metadata": {},
   "outputs": [
    {
     "data": {
      "text/plain": [
       "(297301, 162858)"
      ]
     },
     "execution_count": 40,
     "metadata": {},
     "output_type": "execute_result"
    }
   ],
   "source": [
    "len(tbl1), len(tbl2)"
   ]
  },
  {
   "cell_type": "markdown",
   "metadata": {},
   "source": [
    "### Match em up"
   ]
  },
  {
   "cell_type": "code",
   "execution_count": 14,
   "metadata": {
    "collapsed": true
   },
   "outputs": [],
   "source": [
    "match_ids?"
   ]
  },
  {
   "cell_type": "code",
   "execution_count": 41,
   "metadata": {
    "collapsed": true
   },
   "outputs": [],
   "source": [
    "rows = match_ids(tbl2['THINGID'], tbl1['THINGID'])"
   ]
  },
  {
   "cell_type": "markdown",
   "metadata": {},
   "source": [
    "### Add the columns"
   ]
  },
  {
   "cell_type": "code",
   "execution_count": 44,
   "metadata": {},
   "outputs": [
    {
     "name": "stdout",
     "output_type": "stream",
     "text": [
      "adding column zmin\n",
      "adding column zmax\n",
      "adding column log.pnDLA\n",
      "adding column log.pDLA\n",
      "adding column log.pDnDLA\n",
      "adding column log.pDDLA\n",
      "adding column pnDLAD\n",
      "adding column pDLAD\n",
      "adding column z_DLA\n",
      "adding column log.NHI\n"
     ]
    }
   ],
   "source": [
    "for key in tbl2.keys():\n",
    "    if key == 'THINGID':\n",
    "        continue\n",
    "    # \n",
    "    print('adding column {:s}'.format(key))\n",
    "    new_clm = MaskedColumn(-999.*np.ones_like(tbl1['RAdeg']))\n",
    "    new_clm[rows] = tbl2[key]\n",
    "    # Mask it\n",
    "    msk = new_clm == -999.\n",
    "    new_clm.mask[msk] = True\n",
    "    # Add it\n",
    "    tbl1.add_column(new_clm, name=key)\n",
    "    "
   ]
  },
  {
   "cell_type": "code",
   "execution_count": 45,
   "metadata": {},
   "outputs": [
    {
     "data": {
      "text/html": [
       "&lt;Table masked=True length=5&gt;\n",
       "<table id=\"table139883711677160\" class=\"table-striped table-bordered table-condensed\">\n",
       "<thead><tr><th>THINGID</th><th>SDSS</th><th>Plate</th><th>MJD</th><th>Fiber</th><th>RAdeg</th><th>DECdeg</th><th>z_QSO</th><th>SNR</th><th>flg_BAL</th><th>zmin</th><th>zmax</th><th>log.pnDLA</th><th>log.pDLA</th><th>log.pDnDLA</th><th>log.pDDLA</th><th>pnDLAD</th><th>pDLAD</th><th>z_DLA</th><th>log.NHI</th></tr></thead>\n",
       "<thead><tr><th>int64</th><th>str18</th><th>int64</th><th>int64</th><th>int64</th><th>float64</th><th>float64</th><th>float64</th><th>float64</th><th>int64</th><th>float64</th><th>float64</th><th>float64</th><th>float64</th><th>float64</th><th>float64</th><th>float64</th><th>float64</th><th>float64</th><th>float64</th></tr></thead>\n",
       "<tr><td>268514930</td><td>000000.45+174625.4</td><td>6173</td><td>56238</td><td>528</td><td>0.0018983</td><td>17.7737391</td><td>2.3091</td><td>0.7795</td><td>0</td><td>1.9654</td><td>2.2989</td><td>-0.03081</td><td>-3.49537</td><td>-1043.59</td><td>-1042.56</td><td>0.919661</td><td>0.0803389</td><td>2.216</td><td>20.0077</td></tr>\n",
       "<tr><td>245101352</td><td>000000.66+145828.8</td><td>6177</td><td>56268</td><td>595</td><td>0.0027564</td><td>14.9746755</td><td>2.4979</td><td>3.5009</td><td>0</td><td>1.9661</td><td>2.4877</td><td>-0.04589</td><td>-3.10426</td><td>-621.961</td><td>-609.072</td><td>5.37594e-05</td><td>0.999946</td><td>1.997</td><td>20.0544</td></tr>\n",
       "<tr><td>154279486</td><td>000000.97+044947.2</td><td>4415</td><td>55831</td><td>464</td><td>0.0040524</td><td>4.8297806</td><td>1.6188</td><td>7.1102</td><td>1000</td><td>--</td><td>--</td><td>--</td><td>--</td><td>--</td><td>--</td><td>--</td><td>--</td><td>--</td><td>--</td></tr>\n",
       "<tr><td>62145359</td><td>000001.27-020159.7</td><td>4354</td><td>55810</td><td>678</td><td>0.005317</td><td>-2.0332733</td><td>1.3604</td><td>6.1981</td><td>1000</td><td>--</td><td>--</td><td>--</td><td>--</td><td>--</td><td>--</td><td>--</td><td>--</td><td>--</td><td>--</td></tr>\n",
       "<tr><td>66692618</td><td>000001.37-011930.0</td><td>4354</td><td>55810</td><td>646</td><td>0.0057462</td><td>-1.3250088</td><td>2.328</td><td>8.2577</td><td>0</td><td>1.9552</td><td>2.318</td><td>-0.03247</td><td>-3.44363</td><td>-345.637</td><td>-350.097</td><td>0.999618</td><td>0.000381529</td><td>1.997</td><td>20.0038</td></tr>\n",
       "</table>"
      ],
      "text/plain": [
       "<Table masked=True length=5>\n",
       " THINGID         SDSS        Plate  MJD  ...    pDLAD     z_DLA  log.NHI\n",
       "  int64         str18        int64 int64 ...   float64   float64 float64\n",
       "--------- ------------------ ----- ----- ... ----------- ------- -------\n",
       "268514930 000000.45+174625.4  6173 56238 ...   0.0803389   2.216 20.0077\n",
       "245101352 000000.66+145828.8  6177 56268 ...    0.999946   1.997 20.0544\n",
       "154279486 000000.97+044947.2  4415 55831 ...          --      --      --\n",
       " 62145359 000001.27-020159.7  4354 55810 ...          --      --      --\n",
       " 66692618 000001.37-011930.0  4354 55810 ... 0.000381529   1.997 20.0038"
      ]
     },
     "execution_count": 45,
     "metadata": {},
     "output_type": "execute_result"
    }
   ],
   "source": [
    "tbl1[0:5]"
   ]
  },
  {
   "cell_type": "markdown",
   "metadata": {},
   "source": [
    "### Write"
   ]
  },
  {
   "cell_type": "code",
   "execution_count": 46,
   "metadata": {
    "collapsed": true
   },
   "outputs": [],
   "source": [
    "merged_file = resource_filename('dla_cnn', 'catalogs/boss_dr12/MNRAS/merged_g16.fits')"
   ]
  },
  {
   "cell_type": "code",
   "execution_count": 47,
   "metadata": {
    "collapsed": true
   },
   "outputs": [],
   "source": [
    "tbl1.write(merged_file)"
   ]
  },
  {
   "cell_type": "code",
   "execution_count": null,
   "metadata": {
    "collapsed": true
   },
   "outputs": [],
   "source": []
  }
 ],
 "metadata": {
  "kernelspec": {
   "display_name": "Python 3",
   "language": "python",
   "name": "python3"
  },
  "language_info": {
   "codemirror_mode": {
    "name": "ipython",
    "version": 3
   },
   "file_extension": ".py",
   "mimetype": "text/x-python",
   "name": "python",
   "nbconvert_exporter": "python",
   "pygments_lexer": "ipython3",
   "version": "3.6.3"
  }
 },
 "nbformat": 4,
 "nbformat_minor": 2
}
