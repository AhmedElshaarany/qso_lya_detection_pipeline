{
 "cells": [
  {
   "cell_type": "markdown",
   "metadata": {},
   "source": [
    "# Checking on error estimation by comparing SDSS to BOSS results"
   ]
  },
  {
   "cell_type": "code",
   "execution_count": 13,
   "metadata": {
    "collapsed": false
   },
   "outputs": [],
   "source": [
    "# imports\n",
    "# imports\n",
    "import numpy as np\n",
    "import os, sys\n",
    "\n",
    "from astropy.coordinates import SkyCoord, match_coordinates_sky\n",
    "from astropy import units as u\n",
    "\n",
    "from linetools.utils import dv_from_z\n",
    "\n",
    "from dla_cnn.io import load_ml_dr7, load_ml_dr12, load_garnett16\n",
    "from dla_cnn.catalogs import match_boss_catalogs\n",
    "\n",
    "sys.path.append(os.path.abspath(\"../Analysis/py\"))\n",
    "import defs as analy_defs"
   ]
  },
  {
   "cell_type": "markdown",
   "metadata": {},
   "source": [
    "## Load em up"
   ]
  },
  {
   "cell_type": "markdown",
   "metadata": {},
   "source": [
    "### BOSS"
   ]
  },
  {
   "cell_type": "code",
   "execution_count": 3,
   "metadata": {
    "collapsed": true
   },
   "outputs": [],
   "source": [
    "# Load BOSS ML\n",
    "_, dr12_abs = load_ml_dr12()"
   ]
  },
  {
   "cell_type": "code",
   "execution_count": 9,
   "metadata": {
    "collapsed": true
   },
   "outputs": [],
   "source": [
    "dlas = dr12_abs['NHI'] >= 20.3\n",
    "dr12_dla = dr12_abs[dlas]"
   ]
  },
  {
   "cell_type": "markdown",
   "metadata": {},
   "source": [
    "### SDSS"
   ]
  },
  {
   "cell_type": "code",
   "execution_count": 4,
   "metadata": {
    "collapsed": false
   },
   "outputs": [
    {
     "name": "stdout",
     "output_type": "stream",
     "text": [
      "Loading SDSSDR7 model.  Please be patient..\n",
      "Looping on sightlines..\n"
     ]
    }
   ],
   "source": [
    "_, dr7_dlas = load_ml_dr7()"
   ]
  },
  {
   "cell_type": "markdown",
   "metadata": {},
   "source": [
    "## Match em"
   ]
  },
  {
   "cell_type": "code",
   "execution_count": 10,
   "metadata": {
    "collapsed": false
   },
   "outputs": [],
   "source": [
    "dr12_dla_coords = SkyCoord(ra=dr12_dla['RA'], dec=dr12_dla['DEC'], unit='deg')"
   ]
  },
  {
   "cell_type": "code",
   "execution_count": 14,
   "metadata": {
    "collapsed": false
   },
   "outputs": [],
   "source": [
    "idx_dr7, idx_dr12, d2d, d3d = dr12_dla_coords.search_around_sky(dr7_dlas.coord, 1*u.arcsec)"
   ]
  },
  {
   "cell_type": "code",
   "execution_count": 15,
   "metadata": {
    "collapsed": true
   },
   "outputs": [],
   "source": [
    "dr12_to_dr7 = np.zeros(len(dr12_dla)).astype(int) -1"
   ]
  },
  {
   "cell_type": "code",
   "execution_count": null,
   "metadata": {
    "collapsed": true
   },
   "outputs": [],
   "source": []
  },
  {
   "cell_type": "code",
   "execution_count": 19,
   "metadata": {
    "collapsed": true
   },
   "outputs": [],
   "source": [
    "dztoler = 0.015\n",
    "dr7_zabs = dr7_dlas.zabs\n",
    "dr7_NHI = dr7_dlas.NHI\n",
    "dNHI = []\n",
    "for kk,idx in enumerate(idx_dr12):\n",
    "    dz = np.abs(dr12_dla['zabs'][idx] - dr7_zabs[idx_dr7[kk]])\n",
    "    if dz < dztoler:\n",
    "        dr12_to_dr7[idx] = idx_dr7[kk]\n",
    "        dNHI.append(np.abs(dr12_dla['NHI'][idx] - dr7_NHI[idx_dr7[kk]]))"
   ]
  },
  {
   "cell_type": "code",
   "execution_count": 21,
   "metadata": {
    "collapsed": false
   },
   "outputs": [
    {
     "data": {
      "text/plain": [
       "0.10155322503647035"
      ]
     },
     "execution_count": 21,
     "metadata": {},
     "output_type": "execute_result"
    }
   ],
   "source": [
    "np.median(dNHI)"
   ]
  },
  {
   "cell_type": "code",
   "execution_count": null,
   "metadata": {
    "collapsed": true
   },
   "outputs": [],
   "source": []
  }
 ],
 "metadata": {
  "kernelspec": {
   "display_name": "Python 3",
   "language": "python",
   "name": "python3"
  },
  "language_info": {
   "codemirror_mode": {
    "name": "ipython",
    "version": 3
   },
   "file_extension": ".py",
   "mimetype": "text/x-python",
   "name": "python",
   "nbconvert_exporter": "python",
   "pygments_lexer": "ipython3",
   "version": "3.6.2"
  }
 },
 "nbformat": 4,
 "nbformat_minor": 2
}
