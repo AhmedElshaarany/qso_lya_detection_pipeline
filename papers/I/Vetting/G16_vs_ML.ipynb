{
 "cells": [
  {
   "cell_type": "markdown",
   "metadata": {},
   "source": [
    "# Comparing G16 vs ML for the Referee"
   ]
  },
  {
   "cell_type": "code",
   "execution_count": 18,
   "metadata": {},
   "outputs": [],
   "source": [
    "# imports\n",
    "import numpy as np\n",
    "import os, sys\n",
    "\n",
    "from dla_cnn.io import load_ml_dr7, load_ml_dr12, load_garnett16\n",
    "from dla_cnn.catalogs import match_boss_catalogs\n",
    "\n",
    "sys.path.append(os.path.abspath(\"../Analysis/py\"))\n",
    "import defs as analy_defs"
   ]
  },
  {
   "cell_type": "markdown",
   "metadata": {},
   "source": [
    "## Setup"
   ]
  },
  {
   "cell_type": "code",
   "execution_count": 13,
   "metadata": {
    "collapsed": true
   },
   "outputs": [],
   "source": [
    "g16_pcut = analy_defs.g16_pcut\n",
    "dztoler = 0.015"
   ]
  },
  {
   "cell_type": "markdown",
   "metadata": {},
   "source": [
    "## Load em up\n",
    "\n",
    "### ML"
   ]
  },
  {
   "cell_type": "code",
   "execution_count": 10,
   "metadata": {},
   "outputs": [
    {
     "data": {
      "text/plain": [
       "15922"
      ]
     },
     "execution_count": 10,
     "metadata": {},
     "output_type": "execute_result"
    }
   ],
   "source": [
    "# Load BOSS ML\n",
    "_, dr12_abs = load_ml_dr12()\n",
    "# Cut on DLA\n",
    "dlas = dr12_abs['NHI'] >= 20.3\n",
    "no_bals = dr12_abs['flg_BAL'] == 0\n",
    "high_conf = dr12_abs['conf'] > 0.9\n",
    "#\n",
    "zem = (dr12_abs['zem'] > dr12_abs['zabs']) & (dr12_abs['zem'] > 2.15)  # G16 cut on zem\n",
    "zcut = dr12_abs['zabs'] > 2.15\n",
    "zprox = dr12_abs['zabs'] < (dr12_abs['zem'] - 3000./3e5)\n",
    "# cut\n",
    "dr12_cut = dlas & no_bals & high_conf & zem & zcut  & zprox\n",
    "dr12_dla = dr12_abs[dr12_cut]\n",
    "len(dr12_dla)"
   ]
  },
  {
   "cell_type": "markdown",
   "metadata": {},
   "source": [
    "### Load Garnett"
   ]
  },
  {
   "cell_type": "code",
   "execution_count": 14,
   "metadata": {},
   "outputs": [
    {
     "name": "stderr",
     "output_type": "stream",
     "text": [
      "/home/xavier/.pyenv/versions/anaconda3-5.0.1/lib/python3.6/site-packages/astropy/table/column.py:929: RuntimeWarning: invalid value encountered in greater_equal\n",
      "  return getattr(self.data, oper)(other)\n"
     ]
    },
    {
     "data": {
      "text/plain": [
       "18173"
      ]
     },
     "execution_count": 14,
     "metadata": {},
     "output_type": "execute_result"
    }
   ],
   "source": [
    "g16_abs = load_garnett16()\n",
    "g_dlas = g16_abs['log.NHI'] >= 20.3\n",
    "g_conf = g16_abs['pDLAD'] >= g16_pcut\n",
    "# Cut\n",
    "g_cut = g_dlas & g_conf\n",
    "g16_dlas = g16_abs[g_cut]\n",
    "len(g16_dlas)"
   ]
  },
  {
   "cell_type": "markdown",
   "metadata": {},
   "source": [
    "## Match ML to G16"
   ]
  },
  {
   "cell_type": "code",
   "execution_count": 20,
   "metadata": {},
   "outputs": [
    {
     "name": "stdout",
     "output_type": "stream",
     "text": [
      "We matched 10205 of 15922 DLAs between high quality ML and G16 within dz=0.015\n",
      "Of these, 10205 are high confidence in both\n"
     ]
    }
   ],
   "source": [
    "dr12_to_g16 = match_boss_catalogs(dr12_dla, g16_dlas, dztoler=dztoler)\n",
    "matched = dr12_to_g16 >= 0\n",
    "g16_idx = dr12_to_g16[matched]\n",
    "print(\"We matched {:d} of {:d} DLAs between high quality ML and G16 within dz={:g}\".format(\n",
    "    np.sum(matched), np.sum(dr12_cut), dztoler))\n",
    "\n",
    "high_conf = (dr12_dla['conf'][matched] > 0.9) & (g16_dlas['pDLAD'][g16_idx] > analy_defs.g16_pcut)\n",
    "print(\"Of these, {:d} are high confidence in both\".format(np.sum(high_conf)))"
   ]
  },
  {
   "cell_type": "markdown",
   "metadata": {},
   "source": [
    "### Consider large dNHI"
   ]
  },
  {
   "cell_type": "code",
   "execution_count": 21,
   "metadata": {
    "collapsed": true
   },
   "outputs": [],
   "source": [
    "NHI = dr12_dla['NHI'][matched]\n",
    "dNHI = dr12_dla['NHI'][matched] - g16_dlas['log.NHI'][g16_idx]"
   ]
  },
  {
   "cell_type": "code",
   "execution_count": 23,
   "metadata": {},
   "outputs": [
    {
     "data": {
      "text/plain": [
       "133"
      ]
     },
     "execution_count": 23,
     "metadata": {},
     "output_type": "execute_result"
    }
   ],
   "source": [
    "large_dNHI = np.abs(dNHI) > 0.5\n",
    "np.sum(large_dNHI)"
   ]
  },
  {
   "cell_type": "code",
   "execution_count": null,
   "metadata": {
    "collapsed": true
   },
   "outputs": [],
   "source": []
  }
 ],
 "metadata": {
  "kernelspec": {
   "display_name": "Python 3",
   "language": "python",
   "name": "python3"
  },
  "language_info": {
   "codemirror_mode": {
    "name": "ipython",
    "version": 3
   },
   "file_extension": ".py",
   "mimetype": "text/x-python",
   "name": "python",
   "nbconvert_exporter": "python",
   "pygments_lexer": "ipython3",
   "version": "3.6.3"
  }
 },
 "nbformat": 4,
 "nbformat_minor": 2
}
