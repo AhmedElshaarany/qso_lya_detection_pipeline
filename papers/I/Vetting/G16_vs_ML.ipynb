{
 "cells": [
  {
   "cell_type": "markdown",
   "metadata": {},
   "source": [
    "# Comparing G16 vs ML for the Referee"
   ]
  },
  {
   "cell_type": "code",
   "execution_count": 17,
   "metadata": {
    "collapsed": false
   },
   "outputs": [],
   "source": [
    "# imports\n",
    "import numpy as np\n",
    "import os, sys\n",
    "\n",
    "from linetools.utils import dv_from_z\n",
    "\n",
    "from dla_cnn.io import load_ml_dr7, load_ml_dr12, load_garnett16\n",
    "from dla_cnn.catalogs import match_boss_catalogs\n",
    "\n",
    "sys.path.append(os.path.abspath(\"../Analysis/py\"))\n",
    "import defs as analy_defs"
   ]
  },
  {
   "cell_type": "markdown",
   "metadata": {},
   "source": [
    "## Setup"
   ]
  },
  {
   "cell_type": "code",
   "execution_count": 2,
   "metadata": {
    "collapsed": false
   },
   "outputs": [
    {
     "data": {
      "text/plain": [
       "0.95"
      ]
     },
     "execution_count": 2,
     "metadata": {},
     "output_type": "execute_result"
    }
   ],
   "source": [
    "g16_pcut = analy_defs.g16_pcut\n",
    "dztoler = 0.015\n",
    "g16_pcut"
   ]
  },
  {
   "cell_type": "markdown",
   "metadata": {},
   "source": [
    "## Load em up\n",
    "\n",
    "### ML"
   ]
  },
  {
   "cell_type": "code",
   "execution_count": 3,
   "metadata": {
    "collapsed": false
   },
   "outputs": [
    {
     "data": {
      "text/plain": [
       "15922"
      ]
     },
     "execution_count": 3,
     "metadata": {},
     "output_type": "execute_result"
    }
   ],
   "source": [
    "# Load BOSS ML\n",
    "_, dr12_abs = load_ml_dr12()\n",
    "# Cut on DLA\n",
    "dlas = dr12_abs['NHI'] >= 20.3\n",
    "no_bals = dr12_abs['flg_BAL'] == 0\n",
    "high_conf = dr12_abs['conf'] > 0.9\n",
    "#\n",
    "zem = (dr12_abs['zem'] > dr12_abs['zabs']) & (dr12_abs['zem'] > 2.15)  # G16 cut on zem\n",
    "zcut = dr12_abs['zabs'] > 2.15\n",
    "zprox = dr12_abs['zabs'] < (dr12_abs['zem'] - 3000./3e5)\n",
    "# cut\n",
    "dr12_cut = dlas & no_bals & high_conf & zem & zcut  & zprox\n",
    "dr12_dla = dr12_abs[dr12_cut]\n",
    "len(dr12_dla)"
   ]
  },
  {
   "cell_type": "markdown",
   "metadata": {},
   "source": [
    "### Load Garnett"
   ]
  },
  {
   "cell_type": "code",
   "execution_count": 4,
   "metadata": {
    "collapsed": false
   },
   "outputs": [
    {
     "name": "stderr",
     "output_type": "stream",
     "text": [
      "/home/xavier/.pyenv/versions/anaconda3-4.3.1/lib/python3.6/site-packages/ipykernel_launcher.py:2: RuntimeWarning: invalid value encountered in greater_equal\n",
      "  \n",
      "/home/xavier/.pyenv/versions/anaconda3-4.3.1/lib/python3.6/site-packages/ipykernel_launcher.py:3: RuntimeWarning: invalid value encountered in greater_equal\n",
      "  This is separate from the ipykernel package so we can avoid doing imports until\n"
     ]
    },
    {
     "data": {
      "text/plain": [
       "18173"
      ]
     },
     "execution_count": 4,
     "metadata": {},
     "output_type": "execute_result"
    }
   ],
   "source": [
    "g16_abs = load_garnett16()\n",
    "g_dlas = g16_abs['log.NHI'] >= 20.3\n",
    "g_conf = g16_abs['pDLAD'] >= g16_pcut\n",
    "# Cut\n",
    "g_cut = g_dlas & g_conf\n",
    "g16_dlas = g16_abs[g_cut]\n",
    "len(g16_dlas)"
   ]
  },
  {
   "cell_type": "markdown",
   "metadata": {},
   "source": [
    "## Match ML to G16"
   ]
  },
  {
   "cell_type": "code",
   "execution_count": 5,
   "metadata": {
    "collapsed": false
   },
   "outputs": [
    {
     "name": "stdout",
     "output_type": "stream",
     "text": [
      "We matched 10205 of 15922 DLAs between high quality ML and G16 within dz=0.015\n",
      "Of these, 10205 are high confidence in both\n"
     ]
    }
   ],
   "source": [
    "dr12_to_g16 = match_boss_catalogs(dr12_dla, g16_dlas, dztoler=dztoler)\n",
    "matched = dr12_to_g16 >= 0\n",
    "g16_idx = dr12_to_g16[matched]\n",
    "print(\"We matched {:d} of {:d} DLAs between high quality ML and G16 within dz={:g}\".format(\n",
    "    np.sum(matched), np.sum(dr12_cut), dztoler))\n",
    "\n",
    "high_conf = (dr12_dla['conf'][matched] > 0.9) & (g16_dlas['pDLAD'][g16_idx] > analy_defs.g16_pcut)\n",
    "print(\"Of these, {:d} are high confidence in both\".format(np.sum(high_conf)))"
   ]
  },
  {
   "cell_type": "markdown",
   "metadata": {},
   "source": [
    "### Consider large dNHI"
   ]
  },
  {
   "cell_type": "code",
   "execution_count": 6,
   "metadata": {
    "collapsed": true
   },
   "outputs": [],
   "source": [
    "NHI = dr12_dla['NHI'][matched]\n",
    "dNHI = dr12_dla['NHI'][matched] - g16_dlas['log.NHI'][g16_idx]"
   ]
  },
  {
   "cell_type": "code",
   "execution_count": 7,
   "metadata": {
    "collapsed": false
   },
   "outputs": [
    {
     "data": {
      "text/plain": [
       "133"
      ]
     },
     "execution_count": 7,
     "metadata": {},
     "output_type": "execute_result"
    }
   ],
   "source": [
    "large_dNHI = np.abs(dNHI) > 0.5\n",
    "np.sum(large_dNHI)"
   ]
  },
  {
   "cell_type": "markdown",
   "metadata": {},
   "source": [
    "### Examine an ML DLA not in G16"
   ]
  },
  {
   "cell_type": "code",
   "execution_count": 27,
   "metadata": {
    "collapsed": true
   },
   "outputs": [],
   "source": [
    "not_matched = dr12_to_g16 < 0\n",
    "np.sum(not_matched)\n",
    "#\n",
    "not_idx = np.where(not_matched)[0]"
   ]
  },
  {
   "cell_type": "code",
   "execution_count": 29,
   "metadata": {
    "collapsed": false
   },
   "outputs": [
    {
     "data": {
      "text/html": [
       "&lt;Row index=1&gt;\n",
       "<table id=\"table140274086307768\">\n",
       "<thead><tr><th>Plate</th><th>Fiber</th><th>MJD</th><th>RA</th><th>DEC</th><th>zem</th><th>zabs</th><th>NHI</th><th>sigNHI</th><th>conf</th><th>flg_BAL</th><th>SNR</th></tr></thead>\n",
       "<thead><tr><th>int64</th><th>int64</th><th>int64</th><th>float64</th><th>float64</th><th>float64</th><th>float64</th><th>float64</th><th>float64</th><th>float64</th><th>int64</th><th>float64</th></tr></thead>\n",
       "<tr><td>3587</td><td>617</td><td>55182</td><td>8.0754</td><td>0.1354</td><td>3.78847770165</td><td>2.95625578063</td><td>20.6791075122</td><td>0.0624429993331</td><td>0.9625</td><td>0</td><td>1.3497</td></tr>\n",
       "</table>"
      ],
      "text/plain": [
       "<Row index=1>\n",
       "Plate Fiber  MJD     RA     DEC        zem           zabs          NHI           sigNHI       conf  flg_BAL   SNR  \n",
       "int64 int64 int64 float64 float64    float64       float64       float64        float64     float64  int64  float64\n",
       "----- ----- ----- ------- ------- ------------- ------------- ------------- --------------- ------- ------- -------\n",
       " 3587   617 55182  8.0754  0.1354 3.78847770165 2.95625578063 20.6791075122 0.0624429993331  0.9625       0  1.3497"
      ]
     },
     "execution_count": 29,
     "metadata": {},
     "output_type": "execute_result"
    }
   ],
   "source": [
    "jj = not_idx[0]\n",
    "dr12_dla[jj]"
   ]
  },
  {
   "cell_type": "markdown",
   "metadata": {},
   "source": [
    "#### Match to full G16 catalog"
   ]
  },
  {
   "cell_type": "code",
   "execution_count": 30,
   "metadata": {
    "collapsed": false
   },
   "outputs": [
    {
     "data": {
      "text/plain": [
       "1"
      ]
     },
     "execution_count": 30,
     "metadata": {},
     "output_type": "execute_result"
    }
   ],
   "source": [
    "jj"
   ]
  },
  {
   "cell_type": "code",
   "execution_count": 33,
   "metadata": {
    "collapsed": false
   },
   "outputs": [
    {
     "data": {
      "text/plain": [
       "array([ 9039, 11200])"
      ]
     },
     "execution_count": 33,
     "metadata": {},
     "output_type": "execute_result"
    }
   ],
   "source": [
    "jj1 = match_boss_catalogs(dr12_dla[jj:jj+2], g16_abs, dztoler=1.)  # Needed 2 for the code to run\n",
    "jj1"
   ]
  },
  {
   "cell_type": "code",
   "execution_count": 34,
   "metadata": {
    "collapsed": false
   },
   "outputs": [
    {
     "data": {
      "text/html": [
       "&lt;Row index=9039 masked=True&gt;\n",
       "<table id=\"table140274086505496\">\n",
       "<thead><tr><th>THINGID</th><th>SDSS</th><th>Plate</th><th>MJD</th><th>Fiber</th><th>RAdeg</th><th>DEdeg</th><th>z_QSO</th><th>SNR</th><th>flg_BAL</th><th>zmin</th><th>zmax</th><th>log.pnDLA</th><th>log.pDLA</th><th>log.pDnDLA</th><th>log.pDDLA</th><th>pnDLAD</th><th>pDLAD</th><th>z_DLA</th><th>log.NHI</th></tr></thead>\n",
       "<thead><tr><th>int64</th><th>str18</th><th>int64</th><th>int64</th><th>int64</th><th>float64</th><th>float64</th><th>float64</th><th>float64</th><th>int64</th><th>float64</th><th>float64</th><th>float64</th><th>float64</th><th>float64</th><th>float64</th><th>float64</th><th>float64</th><th>float64</th><th>float64</th></tr></thead>\n",
       "<tr><td>96897814</td><td>003218.09+000807.3</td><td>3587</td><td>55182</td><td>617</td><td>8.0753961</td><td>0.1353659</td><td>3.7994</td><td>1.3497</td><td>0</td><td>2.6096</td><td>3.7894</td><td>-0.10889</td><td>-2.2714</td><td>-1237.94</td><td>-1228.96</td><td>0.0010918</td><td>0.998908</td><td>2.8347</td><td>20.301</td></tr>\n",
       "</table>"
      ],
      "text/plain": [
       "<Row index=9039 masked=True>\n",
       "THINGID         SDSS        Plate  MJD  Fiber   RAdeg     DEdeg    z_QSO    SNR   flg_BAL   zmin    zmax  log.pnDLA log.pDLA log.pDnDLA log.pDDLA   pnDLAD   pDLAD    z_DLA  log.NHI\n",
       " int64         str18        int64 int64 int64  float64   float64  float64 float64  int64  float64 float64  float64  float64   float64    float64   float64  float64  float64 float64\n",
       "-------- ------------------ ----- ----- ----- --------- --------- ------- ------- ------- ------- ------- --------- -------- ---------- --------- --------- -------- ------- -------\n",
       "96897814 003218.09+000807.3  3587 55182   617 8.0753961 0.1353659  3.7994  1.3497       0  2.6096  3.7894  -0.10889  -2.2714   -1237.94  -1228.96 0.0010918 0.998908  2.8347  20.301"
      ]
     },
     "execution_count": 34,
     "metadata": {},
     "output_type": "execute_result"
    }
   ],
   "source": [
    "g16_abs[9039]"
   ]
  },
  {
   "cell_type": "code",
   "execution_count": 19,
   "metadata": {
    "collapsed": false
   },
   "outputs": [
    {
     "data": {
      "text/latex": [
       "$9352.4873 \\; \\mathrm{\\frac{km}{s}}$"
      ],
      "text/plain": [
       "<Quantity 9352.48726067834 km / s>"
      ]
     },
     "execution_count": 19,
     "metadata": {},
     "output_type": "execute_result"
    }
   ],
   "source": [
    "dv_from_z(2.956255, 2.8347)"
   ]
  },
  {
   "cell_type": "markdown",
   "metadata": {},
   "source": [
    "----"
   ]
  },
  {
   "cell_type": "markdown",
   "metadata": {
    "collapsed": true
   },
   "source": [
    "## Flip me"
   ]
  },
  {
   "cell_type": "code",
   "execution_count": 16,
   "metadata": {
    "collapsed": false
   },
   "outputs": [
    {
     "name": "stdout",
     "output_type": "stream",
     "text": [
      "We matched 10205 of 18173 DLAs between high quality ML and G16 within dz=0.015\n"
     ]
    }
   ],
   "source": [
    "g16_to_dr12 = match_boss_catalogs(g16_dlas, dr12_dla, dztoler=dztoler, reverse=True)\n",
    "matched2 = g16_to_dr12 >= 0\n",
    "dr12_idx = g16_to_dr12[matched2]\n",
    "print(\"We matched {:d} of {:d} DLAs between high quality ML and G16 within dz={:g}\".format(\n",
    "    np.sum(matched2), np.sum(g_cut), dztoler))"
   ]
  },
  {
   "cell_type": "code",
   "execution_count": 15,
   "metadata": {
    "collapsed": false
   },
   "outputs": [
    {
     "data": {
      "text/plain": [
       "array([ True,  True,  True, ...,  True,  True,  True], dtype=bool)"
      ]
     },
     "execution_count": 15,
     "metadata": {},
     "output_type": "execute_result"
    }
   ],
   "source": [
    "matched2"
   ]
  },
  {
   "cell_type": "code",
   "execution_count": null,
   "metadata": {
    "collapsed": true
   },
   "outputs": [],
   "source": []
  }
 ],
 "metadata": {
  "kernelspec": {
   "display_name": "Python 3",
   "language": "python",
   "name": "python3"
  },
  "language_info": {
   "codemirror_mode": {
    "name": "ipython",
    "version": 3
   },
   "file_extension": ".py",
   "mimetype": "text/x-python",
   "name": "python",
   "nbconvert_exporter": "python",
   "pygments_lexer": "ipython3",
   "version": "3.6.2"
  }
 },
 "nbformat": 4,
 "nbformat_minor": 2
}
