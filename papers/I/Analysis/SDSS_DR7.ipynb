{
 "cells": [
  {
   "cell_type": "markdown",
   "metadata": {},
   "source": [
    "# Tests related to Surveying the SDSS DR7"
   ]
  },
  {
   "cell_type": "code",
   "execution_count": 20,
   "metadata": {
    "collapsed": false
   },
   "outputs": [],
   "source": [
    "# imports\n",
    "import numpy as np\n",
    "from astropy.table import Table\n",
    "from specdb.specdb import IgmSpec\n",
    "from dla_cnn import data_loader as ddl"
   ]
  },
  {
   "cell_type": "markdown",
   "metadata": {
    "collapsed": true
   },
   "source": [
    "## Generate CSV file from igmspec"
   ]
  },
  {
   "cell_type": "markdown",
   "metadata": {},
   "source": [
    "### Load igmspec"
   ]
  },
  {
   "cell_type": "code",
   "execution_count": 3,
   "metadata": {
    "collapsed": false
   },
   "outputs": [
    {
     "name": "stdout",
     "output_type": "stream",
     "text": [
      "Database is igmspec\n",
      "Created on 2017-Jan-31\n"
     ]
    }
   ],
   "source": [
    "igmsp = IgmSpec()"
   ]
  },
  {
   "cell_type": "code",
   "execution_count": 6,
   "metadata": {
    "collapsed": true
   },
   "outputs": [],
   "source": [
    "sdss_dr7 = igmsp['SDSS_DR7'].meta"
   ]
  },
  {
   "cell_type": "code",
   "execution_count": 7,
   "metadata": {
    "collapsed": false
   },
   "outputs": [
    {
     "data": {
      "text/html": [
       "&lt;Table length=3&gt;\n",
       "<table id=\"table140359560589072\" class=\"table-striped table-bordered table-condensed\">\n",
       "<thead><tr><th>SDSSJ</th><th>RA_GROUP</th><th>DEC_GROUP</th><th>zem_GROUP</th><th>UMAG</th><th>UMAGERR</th><th>GMAG</th><th>GMAGERR</th><th>RMAG</th><th>RMAGERR</th><th>IMAG</th><th>IMAGERR</th><th>ZMAG</th><th>ZMAGERR</th><th>AU</th><th>logNH</th><th>FIRSTMAG</th><th>FIRSTSN</th><th>FIRSTDEL</th><th>RASSCNT</th><th>RASSSN</th><th>RASSDEL</th><th>JMAG</th><th>JMAGERR</th><th>HMAG</th><th>HMAGERR</th><th>KMAG</th><th>KMAGERR</th><th>MASSDEL</th><th>MASSFLG</th><th>MIMAG</th><th>DGMI</th><th>MFLAG</th><th>SPFLAG</th><th>MODEFLAG</th><th>USELFLAG</th><th>BESTFLAG</th><th>LZFLAG</th><th>HZFLAG</th><th>FTFLAG</th><th>RTFLAG</th><th>SRFLAG</th><th>STFLAG</th><th>GXFLAG</th><th>RUN</th><th>RMJD</th><th>SMJD</th><th>PLATE</th><th>FIBER</th><th>RERUN</th><th>CAMCOL</th><th>FIELD</th><th>OBJECT</th><th>TFLAG</th><th>LZTFLAG</th><th>HZTFLAG</th><th>FTTFLAG</th><th>RTTFLAG</th><th>SRTFLAG</th><th>STTFLAG</th><th>GXTFLAG</th><th>UTMAG</th><th>UTMAGERR</th><th>GTMAG</th><th>GTMAGERR</th><th>RTMAG</th><th>RTMAGERR</th><th>ITMAG</th><th>ITMAGERR</th><th>ZTMAG</th><th>ZTMAGERR</th><th>BESTID</th><th>SPECOID</th><th>ONAME</th><th>DATE-OBS</th><th>EPOCH</th><th>R</th><th>sig_zem</th><th>flag_zem</th><th>STYPE</th><th>IGM_ID</th><th>SPEC_FILE</th><th>NPIX</th><th>WV_MIN</th><th>WV_MAX</th><th>GROUP_ID</th><th>INSTR</th><th>DISPERSER</th><th>TELESCOPE</th></tr></thead>\n",
       "<thead><tr><th>str31</th><th>float64</th><th>float64</th><th>float64</th><th>float64</th><th>float64</th><th>float64</th><th>float64</th><th>float64</th><th>float64</th><th>float64</th><th>float64</th><th>float64</th><th>float64</th><th>float64</th><th>float64</th><th>float64</th><th>float64</th><th>float64</th><th>float64</th><th>float64</th><th>float64</th><th>float64</th><th>float64</th><th>float64</th><th>float64</th><th>float64</th><th>float64</th><th>float64</th><th>int32</th><th>float64</th><th>float64</th><th>int32</th><th>int32</th><th>int32</th><th>int32</th><th>int32</th><th>int32</th><th>int32</th><th>int32</th><th>int32</th><th>int32</th><th>int32</th><th>int32</th><th>int32</th><th>int32</th><th>int32</th><th>int32</th><th>int32</th><th>int32</th><th>int32</th><th>int32</th><th>int32</th><th>int32</th><th>int32</th><th>int32</th><th>int32</th><th>int32</th><th>int32</th><th>int32</th><th>int32</th><th>float64</th><th>float64</th><th>float64</th><th>float64</th><th>float64</th><th>float64</th><th>float64</th><th>float64</th><th>float64</th><th>float64</th><th>str31</th><th>str31</th><th>str31</th><th>str10</th><th>float64</th><th>float64</th><th>float64</th><th>str10</th><th>str3</th><th>int64</th><th>str28</th><th>int64</th><th>float64</th><th>float64</th><th>int64</th><th>str4</th><th>str4</th><th>str10</th></tr></thead>\n",
       "<tr><td>000006.53+003055.2</td><td>0.0272</td><td>0.5153</td><td>1.824</td><td>20.384</td><td>0.065</td><td>20.461</td><td>0.034</td><td>20.324</td><td>0.038</td><td>20.093</td><td>0.041</td><td>20.042</td><td>0.121</td><td>0.13</td><td>20.508</td><td>0.0</td><td>0.0</td><td>0.0</td><td>-9.0</td><td>0.0</td><td>0.0</td><td>0.0</td><td>0.0</td><td>0.0</td><td>0.0</td><td>0.0</td><td>0.0</td><td>0.0</td><td>0</td><td>-25.109</td><td>0.091</td><td>0</td><td>0</td><td>1</td><td>0</td><td>34603008</td><td>0</td><td>0</td><td>0</td><td>0</td><td>1</td><td>0</td><td>0</td><td>3325</td><td>52522</td><td>52203</td><td>685</td><td>467</td><td>41</td><td>5</td><td>108</td><td>118</td><td>34603008</td><td>0</td><td>0</td><td>0</td><td>0</td><td>1</td><td>0</td><td>0</td><td>20.384</td><td>0.065</td><td>20.461</td><td>0.034</td><td>20.324</td><td>0.038</td><td>20.093</td><td>0.041</td><td>20.042</td><td>0.121</td><td>588015509806252150</td><td>193034571183292416</td><td>SDSS J000006.53+003055.2</td><td>2001-10-21</td><td>2000.0</td><td>2000.0</td><td>0.0</td><td>SDSS-HW</td><td>QSO</td><td>302257</td><td>spSpec-52203-0685-467.fit.gz</td><td>3843</td><td>3803.6</td><td>9213.0</td><td>0</td><td>SDSS</td><td>BOTH</td><td>SDSS 2.5-M</td></tr>\n",
       "<tr><td>000008.13+001634.6</td><td>0.0339</td><td>0.2763</td><td>1.836</td><td>20.242</td><td>0.054</td><td>20.206</td><td>0.024</td><td>19.941</td><td>0.032</td><td>19.485</td><td>0.032</td><td>19.178</td><td>0.068</td><td>0.161</td><td>20.502</td><td>0.0</td><td>0.0</td><td>0.0</td><td>-9.0</td><td>0.0</td><td>0.0</td><td>17.351</td><td>0.291</td><td>0.0</td><td>0.0</td><td>0.0</td><td>0.0</td><td>0.0</td><td>18</td><td>-25.745</td><td>0.438</td><td>0</td><td>0</td><td>1</td><td>0</td><td>34603008</td><td>0</td><td>0</td><td>0</td><td>0</td><td>1</td><td>0</td><td>0</td><td>2662</td><td>52197</td><td>52203</td><td>685</td><td>470</td><td>40</td><td>4</td><td>283</td><td>150</td><td>1048576</td><td>0</td><td>0</td><td>0</td><td>0</td><td>1</td><td>0</td><td>0</td><td>20.094</td><td>0.044</td><td>19.98</td><td>0.017</td><td>19.852</td><td>0.02</td><td>19.405</td><td>0.021</td><td>19.1</td><td>0.079</td><td>587731186740822166</td><td>193034571195875328</td><td>SDSS J000008.13+001634.6</td><td>2001-10-21</td><td>2000.0</td><td>2000.0</td><td>0.0</td><td>SDSS-HW</td><td>QSO</td><td>302258</td><td>spSpec-52203-0685-470.fit.gz</td><td>3843</td><td>3803.6</td><td>9213.0</td><td>1</td><td>SDSS</td><td>BOTH</td><td>SDSS 2.5-M</td></tr>\n",
       "<tr><td>000009.26+151754.5</td><td>0.0386</td><td>15.2985</td><td>1.197</td><td>19.916</td><td>0.042</td><td>19.807</td><td>0.036</td><td>19.374</td><td>0.017</td><td>19.148</td><td>0.023</td><td>19.312</td><td>0.069</td><td>0.223</td><td>20.551</td><td>-1.0</td><td>0.0</td><td>0.0</td><td>-9.0</td><td>0.0</td><td>0.0</td><td>0.0</td><td>0.0</td><td>0.0</td><td>0.0</td><td>0.0</td><td>0.0</td><td>0.0</td><td>0</td><td>-25.101</td><td>0.338</td><td>0</td><td>1</td><td>1</td><td>1</td><td>1048578</td><td>1</td><td>0</td><td>0</td><td>0</td><td>1</td><td>0</td><td>0</td><td>1739</td><td>51814</td><td>52251</td><td>751</td><td>354</td><td>40</td><td>4</td><td>303</td><td>24</td><td>1048578</td><td>1</td><td>0</td><td>0</td><td>0</td><td>1</td><td>0</td><td>0</td><td>19.912</td><td>0.037</td><td>19.77</td><td>0.024</td><td>19.393</td><td>0.018</td><td>19.173</td><td>0.019</td><td>19.353</td><td>0.07</td><td>587727222487318552</td><td>211612125330669568</td><td>SDSS J000009.26+151754.5</td><td>2001-12-08</td><td>2000.0</td><td>2000.0</td><td>0.0</td><td>SDSS-HW</td><td>QSO</td><td>302259</td><td>spSpec-52251-0751-354.fit.gz</td><td>3828</td><td>3817.7</td><td>9215.1</td><td>2</td><td>SDSS</td><td>BOTH</td><td>SDSS 2.5-M</td></tr>\n",
       "</table>"
      ],
      "text/plain": [
       "<Table length=3>\n",
       "      SDSSJ        RA_GROUP DEC_GROUP zem_GROUP ... INSTR DISPERSER TELESCOPE \n",
       "      str31        float64   float64   float64  ...  str4    str4     str10   \n",
       "------------------ -------- --------- --------- ... ----- --------- ----------\n",
       "000006.53+003055.2   0.0272    0.5153     1.824 ...  SDSS      BOTH SDSS 2.5-M\n",
       "000008.13+001634.6   0.0339    0.2763     1.836 ...  SDSS      BOTH SDSS 2.5-M\n",
       "000009.26+151754.5   0.0386   15.2985     1.197 ...  SDSS      BOTH SDSS 2.5-M"
      ]
     },
     "execution_count": 7,
     "metadata": {},
     "output_type": "execute_result"
    }
   ],
   "source": [
    "sdss_dr7[0:3]"
   ]
  },
  {
   "cell_type": "markdown",
   "metadata": {},
   "source": [
    "### Cut"
   ]
  },
  {
   "cell_type": "code",
   "execution_count": 18,
   "metadata": {
    "collapsed": false
   },
   "outputs": [
    {
     "data": {
      "text/plain": [
       "2.043589131919024"
      ]
     },
     "execution_count": 18,
     "metadata": {},
     "output_type": "execute_result"
    }
   ],
   "source": [
    "zlow = 3700./1215.67 - 1.\n",
    "zlow"
   ]
  },
  {
   "cell_type": "code",
   "execution_count": 21,
   "metadata": {
    "collapsed": false
   },
   "outputs": [
    {
     "data": {
      "text/plain": [
       "24740"
      ]
     },
     "execution_count": 21,
     "metadata": {},
     "output_type": "execute_result"
    }
   ],
   "source": [
    "gdq = sdss_dr7['zem_GROUP'] > 2.0\n",
    "np.sum(gdq)"
   ]
  },
  {
   "cell_type": "code",
   "execution_count": 22,
   "metadata": {
    "collapsed": true
   },
   "outputs": [],
   "source": [
    "sdss_dr7 = sdss_dr7[gdq]"
   ]
  },
  {
   "cell_type": "markdown",
   "metadata": {},
   "source": [
    "### Build the Table"
   ]
  },
  {
   "cell_type": "code",
   "execution_count": 23,
   "metadata": {
    "collapsed": true
   },
   "outputs": [],
   "source": [
    "dr7_set = Table()"
   ]
  },
  {
   "cell_type": "code",
   "execution_count": 24,
   "metadata": {
    "collapsed": true
   },
   "outputs": [],
   "source": [
    "dr7_set['PLATE'] = sdss_dr7['PLATE']\n",
    "dr7_set['FIB'] = sdss_dr7['FIBER']\n",
    "#\n",
    "dr7_set['RA'] = sdss_dr7['RA_GROUP']\n",
    "dr7_set['DEC'] = sdss_dr7['DEC_GROUP']"
   ]
  },
  {
   "cell_type": "code",
   "execution_count": 26,
   "metadata": {
    "collapsed": false
   },
   "outputs": [],
   "source": [
    "dr7_set.write('dr7_set.csv', format='csv', overwrite=True)"
   ]
  },
  {
   "cell_type": "code",
   "execution_count": null,
   "metadata": {
    "collapsed": true
   },
   "outputs": [],
   "source": []
  }
 ],
 "metadata": {
  "kernelspec": {
   "display_name": "Python 2",
   "language": "python",
   "name": "python2"
  },
  "language_info": {
   "codemirror_mode": {
    "name": "ipython",
    "version": 2
   },
   "file_extension": ".py",
   "mimetype": "text/x-python",
   "name": "python",
   "nbconvert_exporter": "python",
   "pygments_lexer": "ipython2",
   "version": "2.7.13"
  }
 },
 "nbformat": 4,
 "nbformat_minor": 2
}
